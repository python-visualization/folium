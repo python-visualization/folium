{
 "cells": [
  {
   "cell_type": "markdown",
   "id": "6e7e27b2",
   "metadata": {},
   "source": [
    "## Heatmap"
   ]
  },
  {
   "cell_type": "code",
   "execution_count": 1,
   "id": "72d8e1b4",
   "metadata": {
    "execution": {
     "iopub.execute_input": "2025-09-19T13:15:07.110343Z",
     "iopub.status.busy": "2025-09-19T13:15:07.110114Z",
     "iopub.status.idle": "2025-09-19T13:15:07.166541Z",
     "shell.execute_reply": "2025-09-19T13:15:07.166104Z"
    }
   },
   "outputs": [],
   "source": [
    "import numpy as np\n",
    "\n",
    "data = (\n",
    "    np.random.normal(size=(100, 3)) * np.array([[1, 1, 1]]) + np.array([[48, 5, 1]])\n",
    ").tolist()"
   ]
  },
  {
   "cell_type": "code",
   "execution_count": 2,
   "id": "5beea575",
   "metadata": {
    "execution": {
     "iopub.execute_input": "2025-09-19T13:15:07.168751Z",
     "iopub.status.busy": "2025-09-19T13:15:07.168536Z",
     "iopub.status.idle": "2025-09-19T13:15:07.581702Z",
     "shell.execute_reply": "2025-09-19T13:15:07.581198Z"
    }
   },
   "outputs": [
    {
     "data": {
      "text/html": [
       "<div style=\"width:100%;\"><div style=\"position:relative;width:100%;height:0;padding-bottom:60%;\"><span style=\"color:#565656\">Make this Notebook Trusted to load map: File -> Trust Notebook</span><iframe srcdoc=\"&lt;!DOCTYPE html&gt;\n",
       "&lt;html&gt;\n",
       "&lt;head&gt;\n",
       "    \n",
       "    &lt;meta http-equiv=&quot;content-type&quot; content=&quot;text/html; charset=UTF-8&quot; /&gt;\n",
       "    &lt;script src=&quot;https://cdn.jsdelivr.net/npm/leaflet@1.9.3/dist/leaflet.js&quot;&gt;&lt;/script&gt;\n",
       "    &lt;script src=&quot;https://code.jquery.com/jquery-3.7.1.min.js&quot;&gt;&lt;/script&gt;\n",
       "    &lt;script src=&quot;https://cdn.jsdelivr.net/npm/bootstrap@5.2.2/dist/js/bootstrap.bundle.min.js&quot;&gt;&lt;/script&gt;\n",
       "    &lt;script src=&quot;https://cdnjs.cloudflare.com/ajax/libs/Leaflet.awesome-markers/2.0.2/leaflet.awesome-markers.js&quot;&gt;&lt;/script&gt;\n",
       "    &lt;link rel=&quot;stylesheet&quot; href=&quot;https://cdn.jsdelivr.net/npm/leaflet@1.9.3/dist/leaflet.css&quot;/&gt;\n",
       "    &lt;link rel=&quot;stylesheet&quot; href=&quot;https://cdn.jsdelivr.net/npm/bootstrap@5.2.2/dist/css/bootstrap.min.css&quot;/&gt;\n",
       "    &lt;link rel=&quot;stylesheet&quot; href=&quot;https://netdna.bootstrapcdn.com/bootstrap/3.0.0/css/bootstrap-glyphicons.css&quot;/&gt;\n",
       "    &lt;link rel=&quot;stylesheet&quot; href=&quot;https://cdn.jsdelivr.net/npm/@fortawesome/fontawesome-free@6.2.0/css/all.min.css&quot;/&gt;\n",
       "    &lt;link rel=&quot;stylesheet&quot; href=&quot;https://cdnjs.cloudflare.com/ajax/libs/Leaflet.awesome-markers/2.0.2/leaflet.awesome-markers.css&quot;/&gt;\n",
       "    &lt;link rel=&quot;stylesheet&quot; href=&quot;https://cdn.jsdelivr.net/gh/python-visualization/folium/folium/templates/leaflet.awesome.rotate.min.css&quot;/&gt;\n",
       "    \n",
       "            &lt;meta name=&quot;viewport&quot; content=&quot;width=device-width,\n",
       "                initial-scale=1.0, maximum-scale=1.0, user-scalable=no&quot; /&gt;\n",
       "            &lt;style&gt;\n",
       "                #map_f7e69f1f1c81bfb5b4f97cc1e4c39fde {\n",
       "                    position: relative;\n",
       "                    width: 100.0%;\n",
       "                    height: 100.0%;\n",
       "                    left: 0.0%;\n",
       "                    top: 0.0%;\n",
       "                }\n",
       "                .leaflet-container { font-size: 1rem; }\n",
       "            &lt;/style&gt;\n",
       "\n",
       "            &lt;style&gt;html, body {\n",
       "                width: 100%;\n",
       "                height: 100%;\n",
       "                margin: 0;\n",
       "                padding: 0;\n",
       "            }\n",
       "            &lt;/style&gt;\n",
       "\n",
       "            &lt;style&gt;#map {\n",
       "                position:absolute;\n",
       "                top:0;\n",
       "                bottom:0;\n",
       "                right:0;\n",
       "                left:0;\n",
       "                }\n",
       "            &lt;/style&gt;\n",
       "\n",
       "            &lt;script&gt;\n",
       "                L_NO_TOUCH = false;\n",
       "                L_DISABLE_3D = false;\n",
       "            &lt;/script&gt;\n",
       "\n",
       "        \n",
       "    &lt;script src=&quot;https://cdn.jsdelivr.net/gh/python-visualization/folium@main/folium/templates/leaflet_heat.min.js&quot;&gt;&lt;/script&gt;\n",
       "&lt;/head&gt;\n",
       "&lt;body&gt;\n",
       "    \n",
       "    \n",
       "            &lt;div class=&quot;folium-map&quot; id=&quot;map_f7e69f1f1c81bfb5b4f97cc1e4c39fde&quot; &gt;&lt;/div&gt;\n",
       "        \n",
       "&lt;/body&gt;\n",
       "&lt;script&gt;\n",
       "    \n",
       "    \n",
       "            var map_f7e69f1f1c81bfb5b4f97cc1e4c39fde = L.map(\n",
       "                &quot;map_f7e69f1f1c81bfb5b4f97cc1e4c39fde&quot;,\n",
       "                {\n",
       "                    center: [48.0, 5.0],\n",
       "                    crs: L.CRS.EPSG3857,\n",
       "                    ...{\n",
       "  &quot;zoom&quot;: 6,\n",
       "  &quot;zoomControl&quot;: true,\n",
       "  &quot;preferCanvas&quot;: false,\n",
       "}\n",
       "\n",
       "                }\n",
       "            );\n",
       "\n",
       "            \n",
       "\n",
       "        \n",
       "    \n",
       "            var tile_layer_ac610b79cf924d77f371796c960fc71b = L.tileLayer(\n",
       "                &quot;https://tile.openstreetmap.org/{z}/{x}/{y}.png&quot;,\n",
       "                {\n",
       "  &quot;minZoom&quot;: 0,\n",
       "  &quot;maxZoom&quot;: 19,\n",
       "  &quot;maxNativeZoom&quot;: 19,\n",
       "  &quot;noWrap&quot;: false,\n",
       "  &quot;attribution&quot;: &quot;\\u0026copy; \\u003ca href=\\&quot;https://www.openstreetmap.org/copyright\\&quot;\\u003eOpenStreetMap\\u003c/a\\u003e contributors&quot;,\n",
       "  &quot;subdomains&quot;: &quot;abc&quot;,\n",
       "  &quot;detectRetina&quot;: false,\n",
       "  &quot;tms&quot;: false,\n",
       "  &quot;opacity&quot;: 1,\n",
       "}\n",
       "\n",
       "            );\n",
       "        \n",
       "    \n",
       "            tile_layer_ac610b79cf924d77f371796c960fc71b.addTo(map_f7e69f1f1c81bfb5b4f97cc1e4c39fde);\n",
       "        \n",
       "    \n",
       "            var heat_map_df2adab8a78d4db9c7762e36e76874ba = L.heatLayer(\n",
       "                [[46.577639035938944, 5.738007997430816, 0.929315941219153], [46.925767286593334, 4.316315544939163, 2.2886166302951154], [47.521298734169804, 6.434228100968742, 0.44693353769791877], [49.38919618540406, 4.495377626673061, -0.7380085535294876], [47.23790363659427, 6.006935123901165, 1.2791718858260792], [47.09798907806762, 4.870818614193473, 1.0722939192653607], [49.06023406428642, 5.470139691308757, 0.49050007647499516], [46.49188043010319, 6.293957208869516, 0.6294343565083385], [48.09471999758499, 6.321198044506127, -0.4081633630971093], [48.14405499800987, 4.4157872400489175, 0.8222758123000642], [48.3852925463352, 5.1438151642351615, 0.05735495433629978], [47.852554429035976, 4.496862734018333, 1.5005130751868925], [47.061673727024846, 7.332402789806449, 1.13247039316345], [50.960757372363304, 4.60468713208122, 0.6437608152579906], [48.78408201595441, 5.272633510233087, 1.7434284310848664], [49.012637490949444, 5.069647477410485, 1.3657328748008917], [47.802605334434915, 7.0898909382492725, 1.8262687226363208], [46.638357872085486, 6.283088157968849, 0.4438339584555746], [48.126585334564574, 4.695114793003194, 0.9746204245857849], [48.264163593113324, 6.2114865244090645, 1.7369906829010844], [46.98558902043294, 4.995115525736149, 1.8414266022715973], [48.47031905126932, 3.1593019852499085, -0.7111609273725976], [48.92636155514393, 6.3878402541047805, -0.9304257351319907], [47.196651762059325, 4.502589706206353, 1.118379595070161], [47.62473413160971, 6.2891271252380685, 1.186808467604753], [46.27509133713355, 5.45582958751539, 1.4149766231245215], [46.841550471329185, 4.811968975748043, 0.9934199766148605], [48.285602795149366, 4.274616276709094, -0.597895269437305], [48.14616766968914, 3.220414963386661, 1.1201875257044016], [47.32739841237294, 4.556277691723283, 1.4966951814935405], [47.183431128280624, 4.8656337445441915, 1.400916015557938], [46.258528229839264, 6.297021406026618, -0.3909020645610297], [48.15447667986157, 6.0732916929959275, 1.8161296240310711], [47.22696235737992, 5.654511951865248, 1.6383103485321937], [49.00160945756661, 5.81354164795904, 1.5654059072513031], [45.84413200561718, 4.36977669969195, 2.0453852472686282], [48.00507745918206, 7.111855388834126, 1.8120009769948249], [47.05174491181801, 4.532461461461639, -0.431776957892009], [49.328788015191186, 5.485662272183473, 0.7847810265589117], [48.8338294689778, 4.460067597119186, -0.6010510072943989], [49.72396456569891, 5.298781434676972, -1.3656264439345622], [47.585634374633145, 4.538007030408787, -0.40116721658801313], [46.74886818003503, 5.318503831741316, 1.4281834829999447], [47.951708081543195, 5.016251178344653, 2.9627388623352484], [48.84417551464892, 5.01936064991908, -0.16776105961326704], [48.18978726008468, 3.752857943671332, 0.9611208486578227], [48.24916585078428, 3.852041198725204, 1.079833818704283], [47.60345984793438, 4.571209767420285, -0.7138972724392381], [48.18184085365924, 5.6363883731906, 2.4101886874587457], [47.28806164531665, 5.91509476641978, 1.4837162745605281], [49.830996045592556, 5.612852374362545, 0.707160313098569], [46.26083810888692, 3.45681206166809, 1.7569227377567658], [47.6255560221584, 6.688655466012549, 0.48245168540474725], [47.32486170923639, 4.212677045236534, 0.5156454317318073], [47.239126051925915, 4.132833370094514, 0.9830433404893876], [48.514413670541394, 3.2362472477573636, 0.5001780349954175], [47.08215791516332, 4.686885257527241, 0.8725265671583959], [47.248027469646885, 4.946718583954686, 2.9557137494866677], [47.75703421621749, 4.260570368353404, -1.350298948008298], [47.91603829077567, 3.2300823461970407, 2.225969746055596], [48.42185753361959, 4.912275927568417, 1.5510844418708463], [50.12384662650249, 5.40756412797204, 1.1342629020263746], [48.14087532804272, 4.53691147029737, 1.2627621499569233], [45.42795525509752, 5.994498925350852, 0.6850188639894654], [49.20686078646268, 3.537530494207464, 1.279663873722077], [48.24566490683351, 6.121148771456296, 3.09554310449383], [46.72354818354292, 3.6740431354590557, -0.6428940253584781], [46.98360712962175, 3.7746446471518658, 0.23055321146129026], [48.93226302732141, 5.192631769624202, 0.7483574251175215], [48.01443359244902, 5.096776564932207, 2.167840945025891], [47.36935429980217, 5.750267685743552, 1.6909581469082093], [46.54667171133377, 5.04279716796778, 1.6017643136395114], [46.96867917921878, 7.830540975572636, 0.5116405737389367], [48.299517262904, 4.153726246560459, 1.8645850257782635], [47.71306132280315, 5.970765553326645, 3.112847241240787], [48.63039695075197, 5.747478441502769, -0.10623278390341007], [47.74608491437338, 5.5590533632852885, 1.5797081250715688], [48.2543518785967, 4.944340000599229, 1.1331022857394712], [47.63750696159678, 5.139126616526794, -0.5862584062430898], [46.04593700813009, 4.672487515019912, -0.022019117102689556], [47.31936993353482, 5.571341726327304, 2.279059449859534], [46.01797379026319, 8.041033882638173, 0.09946471871059448], [48.07486252220506, 2.8317087259555946, 0.781861986078527], [47.85135826039354, 5.571750502075404, 0.42954694579517805], [48.65227782900967, 6.544434549176491, 2.6127583991695946], [48.679557201207984, 4.42431198376147, 3.470874796004123], [46.63034864963532, 6.090228392304282, 1.2789245636765338], [48.279977590125156, 5.523172025560074, 1.1739741823883396], [47.80170567773791, 3.1987311585859386, 1.3097552432297825], [47.473332581561195, 6.0636968162689175, 3.260631031404507], [49.935556954066094, 5.123249946749025, -0.5610993988830555], [47.608887966550284, 6.286857452313795, 1.7556932445812419], [47.327161199912645, 4.79103830755508, -0.03418724202843859], [46.40528014430056, 5.381038979699236, 0.7106366819674259], [48.03834374952625, 4.518244540142938, 0.04694409326327764], [47.75472173761316, 5.61649503527482, 0.5452563946795175], [48.444194778238305, 5.723846715833131, 1.0733139322709468], [47.54598759105957, 6.881035562082658, 1.7797464265605425], [50.95093310162666, 5.996153124559774, 2.6440379607521622], [46.31924628713825, 7.4339822214145705, 0.011116358053332442]],\n",
       "                {\n",
       "  &quot;minOpacity&quot;: 0.5,\n",
       "  &quot;maxZoom&quot;: 18,\n",
       "  &quot;radius&quot;: 25,\n",
       "  &quot;blur&quot;: 15,\n",
       "}\n",
       "            );\n",
       "        \n",
       "    \n",
       "            heat_map_df2adab8a78d4db9c7762e36e76874ba.addTo(map_f7e69f1f1c81bfb5b4f97cc1e4c39fde);\n",
       "        \n",
       "&lt;/script&gt;\n",
       "&lt;/html&gt;\" style=\"position:absolute;width:100%;height:100%;left:0;top:0;border:none !important;\" allowfullscreen webkitallowfullscreen mozallowfullscreen></iframe></div></div>"
      ],
      "text/plain": [
       "<folium.folium.Map at 0x7efd602e2ba0>"
      ]
     },
     "execution_count": 2,
     "metadata": {},
     "output_type": "execute_result"
    }
   ],
   "source": [
    "import folium\n",
    "from folium.plugins import HeatMap\n",
    "\n",
    "m = folium.Map([48.0, 5.0], zoom_start=6)\n",
    "\n",
    "HeatMap(data).add_to(m)\n",
    "\n",
    "m"
   ]
  }
 ],
 "metadata": {
  "jupytext": {
   "text_representation": {
    "extension": ".mystnb",
    "format_name": "myst"
   }
  },
  "language_info": {
   "codemirror_mode": {
    "name": "ipython",
    "version": 3
   },
   "file_extension": ".py",
   "mimetype": "text/x-python",
   "name": "python",
   "nbconvert_exporter": "python",
   "pygments_lexer": "ipython3",
   "version": "3.13.7"
  }
 },
 "nbformat": 4,
 "nbformat_minor": 5
}
