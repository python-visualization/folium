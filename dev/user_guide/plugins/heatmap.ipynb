{
 "cells": [
  {
   "cell_type": "markdown",
   "id": "4accf594",
   "metadata": {},
   "source": [
    "## Heatmap"
   ]
  },
  {
   "cell_type": "code",
   "execution_count": 1,
   "id": "980e1a36",
   "metadata": {
    "execution": {
     "iopub.execute_input": "2025-03-19T09:13:21.931186Z",
     "iopub.status.busy": "2025-03-19T09:13:21.931023Z",
     "iopub.status.idle": "2025-03-19T09:13:21.986341Z",
     "shell.execute_reply": "2025-03-19T09:13:21.985915Z"
    }
   },
   "outputs": [],
   "source": [
    "import numpy as np\n",
    "\n",
    "data = (\n",
    "    np.random.normal(size=(100, 3)) * np.array([[1, 1, 1]]) + np.array([[48, 5, 1]])\n",
    ").tolist()"
   ]
  },
  {
   "cell_type": "code",
   "execution_count": 2,
   "id": "f5986fcd",
   "metadata": {
    "execution": {
     "iopub.execute_input": "2025-03-19T09:13:21.988483Z",
     "iopub.status.busy": "2025-03-19T09:13:21.988268Z",
     "iopub.status.idle": "2025-03-19T09:13:22.422181Z",
     "shell.execute_reply": "2025-03-19T09:13:22.421646Z"
    }
   },
   "outputs": [
    {
     "data": {
      "text/html": [
       "<div style=\"width:100%;\"><div style=\"position:relative;width:100%;height:0;padding-bottom:60%;\"><span style=\"color:#565656\">Make this Notebook Trusted to load map: File -> Trust Notebook</span><iframe srcdoc=\"&lt;!DOCTYPE html&gt;\n",
       "&lt;html&gt;\n",
       "&lt;head&gt;\n",
       "    \n",
       "    &lt;meta http-equiv=&quot;content-type&quot; content=&quot;text/html; charset=UTF-8&quot; /&gt;\n",
       "    \n",
       "        &lt;script&gt;\n",
       "            L_NO_TOUCH = false;\n",
       "            L_DISABLE_3D = false;\n",
       "        &lt;/script&gt;\n",
       "    \n",
       "    &lt;style&gt;html, body {width: 100%;height: 100%;margin: 0;padding: 0;}&lt;/style&gt;\n",
       "    &lt;style&gt;#map {position:absolute;top:0;bottom:0;right:0;left:0;}&lt;/style&gt;\n",
       "    &lt;script src=&quot;https://cdn.jsdelivr.net/npm/leaflet@1.9.3/dist/leaflet.js&quot;&gt;&lt;/script&gt;\n",
       "    &lt;script src=&quot;https://code.jquery.com/jquery-3.7.1.min.js&quot;&gt;&lt;/script&gt;\n",
       "    &lt;script src=&quot;https://cdn.jsdelivr.net/npm/bootstrap@5.2.2/dist/js/bootstrap.bundle.min.js&quot;&gt;&lt;/script&gt;\n",
       "    &lt;script src=&quot;https://cdnjs.cloudflare.com/ajax/libs/Leaflet.awesome-markers/2.0.2/leaflet.awesome-markers.js&quot;&gt;&lt;/script&gt;\n",
       "    &lt;link rel=&quot;stylesheet&quot; href=&quot;https://cdn.jsdelivr.net/npm/leaflet@1.9.3/dist/leaflet.css&quot;/&gt;\n",
       "    &lt;link rel=&quot;stylesheet&quot; href=&quot;https://cdn.jsdelivr.net/npm/bootstrap@5.2.2/dist/css/bootstrap.min.css&quot;/&gt;\n",
       "    &lt;link rel=&quot;stylesheet&quot; href=&quot;https://netdna.bootstrapcdn.com/bootstrap/3.0.0/css/bootstrap-glyphicons.css&quot;/&gt;\n",
       "    &lt;link rel=&quot;stylesheet&quot; href=&quot;https://cdn.jsdelivr.net/npm/@fortawesome/fontawesome-free@6.2.0/css/all.min.css&quot;/&gt;\n",
       "    &lt;link rel=&quot;stylesheet&quot; href=&quot;https://cdnjs.cloudflare.com/ajax/libs/Leaflet.awesome-markers/2.0.2/leaflet.awesome-markers.css&quot;/&gt;\n",
       "    &lt;link rel=&quot;stylesheet&quot; href=&quot;https://cdn.jsdelivr.net/gh/python-visualization/folium/folium/templates/leaflet.awesome.rotate.min.css&quot;/&gt;\n",
       "    \n",
       "            &lt;meta name=&quot;viewport&quot; content=&quot;width=device-width,\n",
       "                initial-scale=1.0, maximum-scale=1.0, user-scalable=no&quot; /&gt;\n",
       "            &lt;style&gt;\n",
       "                #map_1e69f8dd7e0581cc3f3e4ee495a1646a {\n",
       "                    position: relative;\n",
       "                    width: 100.0%;\n",
       "                    height: 100.0%;\n",
       "                    left: 0.0%;\n",
       "                    top: 0.0%;\n",
       "                }\n",
       "                .leaflet-container { font-size: 1rem; }\n",
       "            &lt;/style&gt;\n",
       "        \n",
       "    &lt;script src=&quot;https://cdn.jsdelivr.net/gh/python-visualization/folium@main/folium/templates/leaflet_heat.min.js&quot;&gt;&lt;/script&gt;\n",
       "&lt;/head&gt;\n",
       "&lt;body&gt;\n",
       "    \n",
       "    \n",
       "            &lt;div class=&quot;folium-map&quot; id=&quot;map_1e69f8dd7e0581cc3f3e4ee495a1646a&quot; &gt;&lt;/div&gt;\n",
       "        \n",
       "&lt;/body&gt;\n",
       "&lt;script&gt;\n",
       "    \n",
       "    \n",
       "            var map_1e69f8dd7e0581cc3f3e4ee495a1646a = L.map(\n",
       "                &quot;map_1e69f8dd7e0581cc3f3e4ee495a1646a&quot;,\n",
       "                {\n",
       "                    center: [48.0, 5.0],\n",
       "                    crs: L.CRS.EPSG3857,\n",
       "                    ...{\n",
       "  &quot;zoom&quot;: 6,\n",
       "  &quot;zoomControl&quot;: true,\n",
       "  &quot;preferCanvas&quot;: false,\n",
       "}\n",
       "\n",
       "                }\n",
       "            );\n",
       "\n",
       "            \n",
       "\n",
       "        \n",
       "    \n",
       "            var tile_layer_1c87bea4c8b3b8b0c2442ec68dfbffdb = L.tileLayer(\n",
       "                &quot;https://tile.openstreetmap.org/{z}/{x}/{y}.png&quot;,\n",
       "                {\n",
       "  &quot;minZoom&quot;: 0,\n",
       "  &quot;maxZoom&quot;: 19,\n",
       "  &quot;maxNativeZoom&quot;: 19,\n",
       "  &quot;noWrap&quot;: false,\n",
       "  &quot;attribution&quot;: &quot;\\u0026copy; \\u003ca href=\\&quot;https://www.openstreetmap.org/copyright\\&quot;\\u003eOpenStreetMap\\u003c/a\\u003e contributors&quot;,\n",
       "  &quot;subdomains&quot;: &quot;abc&quot;,\n",
       "  &quot;detectRetina&quot;: false,\n",
       "  &quot;tms&quot;: false,\n",
       "  &quot;opacity&quot;: 1,\n",
       "}\n",
       "\n",
       "            );\n",
       "        \n",
       "    \n",
       "            tile_layer_1c87bea4c8b3b8b0c2442ec68dfbffdb.addTo(map_1e69f8dd7e0581cc3f3e4ee495a1646a);\n",
       "        \n",
       "    \n",
       "            var heat_map_71e6a2ab7fede9fdcd64eed6d0c8cf2c = L.heatLayer(\n",
       "                [[48.08784132235086, 5.464960093127994, 0.7289944389140204], [49.59778738350547, 6.583304329926742, 2.161266007843002], [46.53900943707486, 4.762085822413511, 1.6778237756418637], [46.95029520222632, 3.521935924981792, -0.35718070494799115], [48.36649573538831, 5.1686362324076995, 1.5447469510155931], [48.17467944010645, 4.579014827616698, 2.8479697329756903], [49.81761420248596, 5.946341565516818, 1.3612067977030053], [49.57974999910277, 3.3790614363380023, 0.26940880611504825], [49.539504802762, 5.685382056051078, 0.6832795976786876], [47.55893094799187, 4.960449284510024, 0.7714724690966335], [48.28542496145622, 3.121483982017386, 0.8586264104162902], [47.08932990118899, 5.128207958382721, 1.3082399958182345], [47.28481003097593, 5.364076549300904, 2.7613476831190944], [46.46655144612174, 3.393577984454728, 3.035238624763954], [47.698635847158094, 5.454118333446465, 0.9125403347231947], [47.01936362927405, 5.685014108627101, -0.19338118058572884], [48.66921611389813, 4.091811835759229, -0.038376572952232735], [48.22087049890662, 5.174177194170697, -0.6394831881929153], [47.941942972004064, 3.9993867768116735, 0.08325941506358647], [48.83237660121134, 2.9767442244036504, 0.7219395775422595], [47.92378750714144, 5.313840542331975, 0.27670750053084525], [48.203314732932384, 4.623304025676065, 1.3636722551625824], [47.39411993003147, 5.788874022331266, 1.478683024563571], [47.66815045537216, 3.0737118617942114, 2.060801619554744], [49.19509879141881, 6.025850189933437, 2.0688358289105633], [48.347105390601385, 6.243834673469847, 1.1023726478271834], [48.22642497125816, 3.809319779168615, 0.8255946311752392], [48.382034102298746, 5.411626789471193, 0.864715085884497], [49.123002646535966, 4.80536979372003, 0.6116356407595859], [47.11642131910774, 5.295500179737018, 0.9907806025819677], [46.01010739645663, 4.791199060634556, 0.5959251053298975], [47.59580235476266, 3.8256048424951423, 0.05093404055125783], [48.65576136474585, 5.029378155020308, 1.236851291652307], [47.78220965401897, 2.8953635611599187, 2.156454427126144], [46.106530869361606, 4.760094214790269, 1.448033008438378], [49.10825040464411, 3.9036370117082004, 1.2402062073633813], [47.06483343339214, 4.197481414054215, 0.9436352704829459], [50.18806923502126, 3.28308252354476, 0.6729476086892425], [47.7233436217784, 3.4991320389972875, -0.3928750852281], [49.48019647012854, 5.160225152827935, -1.0322295153214656], [48.072619580942906, 4.530518069738128, 2.1958282185663505], [46.64595579853846, 3.5535677762253064, 1.1914949243118989], [48.54193670777483, 6.607983985110408, 0.5989935868585585], [48.48269502718716, 3.307809285642985, 2.220509991443198], [47.28107535384355, 4.681660140865281, -0.9827239176731357], [48.34128688905096, 4.374127913595019, 0.6172366085590868], [49.50612345174493, 6.104044239592295, 1.6663698537916911], [49.21637047017026, 5.581719533610315, 0.3111410207412497], [47.58024176168334, 4.115871430911382, 0.4105204722904262], [50.72300954833092, 3.5550114956395555, 1.166090664582254], [48.65809175822048, 4.826382939181874, 1.589147721696954], [47.70586687308096, 6.81459841219342, 0.42548618918444614], [46.53276475622912, 3.664524382195192, 1.34635697541795], [47.64508080203194, 4.887339409344743, -0.4533870084631948], [49.642413786531435, 5.858328496148949, 1.0899157805276642], [47.92751107854271, 6.575178810810988, 0.4769333233044045], [48.2176234516792, 5.019386140480554, 0.6738219805890523], [47.540878517229054, 4.50734969681533, 1.1060348140326068], [48.35647564158748, 4.235103915277408, 0.6811406132248496], [48.46865168341823, 3.3056800759900105, 0.027639308700599385], [48.20288847023052, 4.452628704883317, -0.2017319597435736], [46.22664320123272, 4.877708761842224, -0.11543214991919126], [46.803764264455694, 3.8858191293725173, 0.33104053666469524], [47.075861800195966, 5.847295953729998, 2.1918887176198223], [47.8240195198706, 6.745932482677358, -0.02527960660357298], [47.12369261144655, 4.957546921684769, -0.09443371583863791], [47.5805959061744, 5.226824320014452, 0.7185409760586671], [45.71030265274107, 4.902095808405376, 1.1267852804400864], [47.52787747119201, 3.3628558241647997, 1.381854061808189], [47.97379442821558, 4.6100658837367305, 0.8257298799134005], [47.48198397568295, 3.4497578186421345, 2.5986235968623768], [46.4796164953246, 6.484270003299301, 0.30281212312502503], [47.552462183703454, 5.096945091989714, 0.7930635672322737], [47.47917543052911, 5.80147808124006, 0.017231370030871274], [50.86456018507655, 4.02011343769086, 2.2622539687074568], [47.003986482470566, 5.787255057503361, 0.18876592295967554], [46.122782554432646, 4.6038333181173545, 0.6791329709830536], [46.73503783465596, 4.307505742605374, 1.0820136842573858], [48.03121444352361, 4.442808383057745, 2.297022940544288], [48.31247278151422, 5.61726132840514, 1.964784260966106], [47.12816840960941, 4.880802277130846, 0.7423729245943151], [46.41424073650345, 4.813538808284234, 0.1010757319759854], [48.3656847937501, 3.44963622793019, 0.6762845093676229], [47.840457423152095, 4.989173474589346, 1.1274047035765478], [48.13181828996012, 3.5644555759591836, -0.7745216401743895], [48.21385479518259, 6.317097278634431, 1.2766516128273429], [49.8835232254208, 5.304326925475097, 2.2260157238152907], [48.37979799084246, 5.844488460967589, 1.5954505038885094], [47.85405165097613, 5.241165307813171, 1.8276938125383455], [48.19184949877934, 4.5089234274835475, 2.278265096735428], [48.322880990566865, 2.8150945629797817, 0.5769297807102132], [48.50332086697355, 5.738360663946423, 2.062038797210829], [48.36607559882712, 5.090350532258933, 2.5339608074762863], [48.81647900596693, 3.7752960190295943, 1.8054443133828602], [48.23665460743972, 5.124839347145507, 3.2241079402828348], [47.94003501033356, 4.898317353413493, 2.6972063667605743], [46.97751458332233, 5.451369187109272, -0.15373769513540458], [46.44916501595459, 5.2674341262366, 0.4508505021373095], [48.968852463140735, 4.422875270594313, 1.5445767602214233], [46.96846973966888, 5.2619552738478514, -0.5055115528489666]],\n",
       "                {\n",
       "  &quot;minOpacity&quot;: 0.5,\n",
       "  &quot;maxZoom&quot;: 18,\n",
       "  &quot;radius&quot;: 25,\n",
       "  &quot;blur&quot;: 15,\n",
       "}\n",
       "            );\n",
       "        \n",
       "    \n",
       "            heat_map_71e6a2ab7fede9fdcd64eed6d0c8cf2c.addTo(map_1e69f8dd7e0581cc3f3e4ee495a1646a);\n",
       "        \n",
       "&lt;/script&gt;\n",
       "&lt;/html&gt;\" style=\"position:absolute;width:100%;height:100%;left:0;top:0;border:none !important;\" allowfullscreen webkitallowfullscreen mozallowfullscreen></iframe></div></div>"
      ],
      "text/plain": [
       "<folium.folium.Map at 0x7f25280a7ad0>"
      ]
     },
     "execution_count": 2,
     "metadata": {},
     "output_type": "execute_result"
    }
   ],
   "source": [
    "import folium\n",
    "from folium.plugins import HeatMap\n",
    "\n",
    "m = folium.Map([48.0, 5.0], zoom_start=6)\n",
    "\n",
    "HeatMap(data).add_to(m)\n",
    "\n",
    "m"
   ]
  }
 ],
 "metadata": {
  "jupytext": {
   "text_representation": {
    "extension": ".mystnb",
    "format_name": "myst"
   }
  },
  "language_info": {
   "codemirror_mode": {
    "name": "ipython",
    "version": 3
   },
   "file_extension": ".py",
   "mimetype": "text/x-python",
   "name": "python",
   "nbconvert_exporter": "python",
   "pygments_lexer": "ipython3",
   "version": "3.12.9"
  }
 },
 "nbformat": 4,
 "nbformat_minor": 5
}
