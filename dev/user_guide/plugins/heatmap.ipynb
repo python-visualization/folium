{
 "cells": [
  {
   "cell_type": "markdown",
   "id": "c017db03",
   "metadata": {},
   "source": [
    "## Heatmap"
   ]
  },
  {
   "cell_type": "code",
   "execution_count": 1,
   "id": "6f93d541",
   "metadata": {
    "execution": {
     "iopub.execute_input": "2025-06-17T19:03:52.510797Z",
     "iopub.status.busy": "2025-06-17T19:03:52.510638Z",
     "iopub.status.idle": "2025-06-17T19:03:52.564371Z",
     "shell.execute_reply": "2025-06-17T19:03:52.563934Z"
    }
   },
   "outputs": [],
   "source": [
    "import numpy as np\n",
    "\n",
    "data = (\n",
    "    np.random.normal(size=(100, 3)) * np.array([[1, 1, 1]]) + np.array([[48, 5, 1]])\n",
    ").tolist()"
   ]
  },
  {
   "cell_type": "code",
   "execution_count": 2,
   "id": "41efdc15",
   "metadata": {
    "execution": {
     "iopub.execute_input": "2025-06-17T19:03:52.566463Z",
     "iopub.status.busy": "2025-06-17T19:03:52.566248Z",
     "iopub.status.idle": "2025-06-17T19:03:53.016222Z",
     "shell.execute_reply": "2025-06-17T19:03:53.015712Z"
    }
   },
   "outputs": [
    {
     "data": {
      "text/html": [
       "<div style=\"width:100%;\"><div style=\"position:relative;width:100%;height:0;padding-bottom:60%;\"><span style=\"color:#565656\">Make this Notebook Trusted to load map: File -> Trust Notebook</span><iframe srcdoc=\"&lt;!DOCTYPE html&gt;\n",
       "&lt;html&gt;\n",
       "&lt;head&gt;\n",
       "    \n",
       "    &lt;meta http-equiv=&quot;content-type&quot; content=&quot;text/html; charset=UTF-8&quot; /&gt;\n",
       "    &lt;script src=&quot;https://cdn.jsdelivr.net/npm/leaflet@1.9.3/dist/leaflet.js&quot;&gt;&lt;/script&gt;\n",
       "    &lt;script src=&quot;https://code.jquery.com/jquery-3.7.1.min.js&quot;&gt;&lt;/script&gt;\n",
       "    &lt;script src=&quot;https://cdn.jsdelivr.net/npm/bootstrap@5.2.2/dist/js/bootstrap.bundle.min.js&quot;&gt;&lt;/script&gt;\n",
       "    &lt;script src=&quot;https://cdnjs.cloudflare.com/ajax/libs/Leaflet.awesome-markers/2.0.2/leaflet.awesome-markers.js&quot;&gt;&lt;/script&gt;\n",
       "    &lt;link rel=&quot;stylesheet&quot; href=&quot;https://cdn.jsdelivr.net/npm/leaflet@1.9.3/dist/leaflet.css&quot;/&gt;\n",
       "    &lt;link rel=&quot;stylesheet&quot; href=&quot;https://cdn.jsdelivr.net/npm/bootstrap@5.2.2/dist/css/bootstrap.min.css&quot;/&gt;\n",
       "    &lt;link rel=&quot;stylesheet&quot; href=&quot;https://netdna.bootstrapcdn.com/bootstrap/3.0.0/css/bootstrap-glyphicons.css&quot;/&gt;\n",
       "    &lt;link rel=&quot;stylesheet&quot; href=&quot;https://cdn.jsdelivr.net/npm/@fortawesome/fontawesome-free@6.2.0/css/all.min.css&quot;/&gt;\n",
       "    &lt;link rel=&quot;stylesheet&quot; href=&quot;https://cdnjs.cloudflare.com/ajax/libs/Leaflet.awesome-markers/2.0.2/leaflet.awesome-markers.css&quot;/&gt;\n",
       "    &lt;link rel=&quot;stylesheet&quot; href=&quot;https://cdn.jsdelivr.net/gh/python-visualization/folium/folium/templates/leaflet.awesome.rotate.min.css&quot;/&gt;\n",
       "    \n",
       "            &lt;meta name=&quot;viewport&quot; content=&quot;width=device-width,\n",
       "                initial-scale=1.0, maximum-scale=1.0, user-scalable=no&quot; /&gt;\n",
       "            &lt;style&gt;\n",
       "                #map_91cbb3c4cc5b1e939be79bf5b8caf91f {\n",
       "                    position: relative;\n",
       "                    width: 100.0%;\n",
       "                    height: 100.0%;\n",
       "                    left: 0.0%;\n",
       "                    top: 0.0%;\n",
       "                }\n",
       "                .leaflet-container { font-size: 1rem; }\n",
       "            &lt;/style&gt;\n",
       "\n",
       "            &lt;style&gt;html, body {\n",
       "                width: 100%;\n",
       "                height: 100%;\n",
       "                margin: 0;\n",
       "                padding: 0;\n",
       "            }\n",
       "            &lt;/style&gt;\n",
       "\n",
       "            &lt;style&gt;#map {\n",
       "                position:absolute;\n",
       "                top:0;\n",
       "                bottom:0;\n",
       "                right:0;\n",
       "                left:0;\n",
       "                }\n",
       "            &lt;/style&gt;\n",
       "\n",
       "            &lt;script&gt;\n",
       "                L_NO_TOUCH = false;\n",
       "                L_DISABLE_3D = false;\n",
       "            &lt;/script&gt;\n",
       "\n",
       "        \n",
       "    &lt;script src=&quot;https://cdn.jsdelivr.net/gh/python-visualization/folium@main/folium/templates/leaflet_heat.min.js&quot;&gt;&lt;/script&gt;\n",
       "&lt;/head&gt;\n",
       "&lt;body&gt;\n",
       "    \n",
       "    \n",
       "            &lt;div class=&quot;folium-map&quot; id=&quot;map_91cbb3c4cc5b1e939be79bf5b8caf91f&quot; &gt;&lt;/div&gt;\n",
       "        \n",
       "&lt;/body&gt;\n",
       "&lt;script&gt;\n",
       "    \n",
       "    \n",
       "            var map_91cbb3c4cc5b1e939be79bf5b8caf91f = L.map(\n",
       "                &quot;map_91cbb3c4cc5b1e939be79bf5b8caf91f&quot;,\n",
       "                {\n",
       "                    center: [48.0, 5.0],\n",
       "                    crs: L.CRS.EPSG3857,\n",
       "                    ...{\n",
       "  &quot;zoom&quot;: 6,\n",
       "  &quot;zoomControl&quot;: true,\n",
       "  &quot;preferCanvas&quot;: false,\n",
       "}\n",
       "\n",
       "                }\n",
       "            );\n",
       "\n",
       "            \n",
       "\n",
       "        \n",
       "    \n",
       "            var tile_layer_763fd5bf4e1ec06ee06746f4b9aff92a = L.tileLayer(\n",
       "                &quot;https://tile.openstreetmap.org/{z}/{x}/{y}.png&quot;,\n",
       "                {\n",
       "  &quot;minZoom&quot;: 0,\n",
       "  &quot;maxZoom&quot;: 19,\n",
       "  &quot;maxNativeZoom&quot;: 19,\n",
       "  &quot;noWrap&quot;: false,\n",
       "  &quot;attribution&quot;: &quot;\\u0026copy; \\u003ca href=\\&quot;https://www.openstreetmap.org/copyright\\&quot;\\u003eOpenStreetMap\\u003c/a\\u003e contributors&quot;,\n",
       "  &quot;subdomains&quot;: &quot;abc&quot;,\n",
       "  &quot;detectRetina&quot;: false,\n",
       "  &quot;tms&quot;: false,\n",
       "  &quot;opacity&quot;: 1,\n",
       "}\n",
       "\n",
       "            );\n",
       "        \n",
       "    \n",
       "            tile_layer_763fd5bf4e1ec06ee06746f4b9aff92a.addTo(map_91cbb3c4cc5b1e939be79bf5b8caf91f);\n",
       "        \n",
       "    \n",
       "            var heat_map_ce841a0c245164c9d3d0529cdd0f610f = L.heatLayer(\n",
       "                [[48.539288336731616, 5.556127967339853, 0.06073236091098777], [47.13606843106658, 4.822420546635177, 1.8561333095762462], [46.82480844813198, 4.424711470752284, 1.0086095292898543], [46.21070647737597, 7.250220636570973, 2.0394478630115476], [49.41460064490074, 4.614392742128363, 0.1945041371192181], [48.99105651610281, 4.05047775056908, 0.30469771883839813], [47.66657303359569, 4.112113899778055, -0.9413696253092863], [48.13929213451764, 5.595157352673226, 0.3166241026124892], [47.75779484802786, 4.192852755290059, 0.7245290558017634], [49.69675813446272, 4.27795376452974, 2.604945130224555], [47.61804896483151, 5.575469495381068, 2.6191075847443788], [46.67155101843806, 4.174966729374557, 0.4526907777106911], [47.17031623419663, 5.0096834731657705, 0.5974991262093701], [47.051134913810905, 3.6272314820258176, 1.2117798807891973], [47.4615744090728, 4.168862068830648, 0.7505695781854645], [47.94487508336278, 4.162232773531754, 2.651729454074921], [48.72209060860108, 4.634537618171481, -0.2050381330461546], [47.61945755905232, 5.89289201314898, 1.7882890719968252], [47.047361627973864, 5.837131878961762, 1.1708261619052678], [47.273879962541365, 6.184951050484193, 1.5188328600720138], [48.02463151691385, 6.6641636497868895, 0.843720743118114], [48.61329276506251, 4.006209287232523, 1.0595859349801962], [46.22344253548443, 5.448161349130361, -0.7929230730374983], [48.07110977816242, 4.684066509019807, 2.194688711255738], [48.69742421301612, 4.140602863476751, 1.5403381022939597], [49.06301203651265, 2.683000558964064, 1.80724458266233], [48.909789749512164, 4.467865194216848, 1.53540933343213], [49.77377342464707, 3.911280430603301, -0.08945398377715641], [48.35483919760321, 4.8308385217035905, 1.4134525651053773], [47.86076463262078, 5.355919345335028, 2.1331889153389203], [48.953154226100246, 7.019074055673487, 1.6207767258666435], [48.92564901442686, 5.908892196210343, 2.6535704303894323], [47.66902338447524, 4.893613649303171, 2.2915488990796655], [47.02161006394757, 6.561416509941652, 0.1515606455895674], [46.89727216424015, 3.960597043157751, -1.3773902439228496], [49.5101887856613, 6.205212936072057, 0.9611391683905725], [48.237962164591075, 6.59435461433586, 1.1920741510604242], [47.08293325702359, 5.225342662492148, 1.3568274260030242], [48.367269147237785, 4.3818987078975615, 2.159322736905972], [47.5924060162482, 4.9643337029890855, 0.5235971593471804], [49.293663088475974, 4.373743687037482, 1.3433313625153807], [46.104413290910756, 4.171818205277326, 0.10111737448523073], [47.59504441925862, 4.176270918454514, 0.45344556726467544], [48.73149010798667, 3.1131499149624773, 1.3087931619940363], [49.217615747426976, 5.390990263108037, 1.5151317889878588], [47.20441264637166, 4.9618086797410434, 0.6520258650200772], [49.09138899335192, 4.511107927581463, 1.9877242564349102], [48.62031229989942, 4.93678031885556, 0.9815952010375171], [47.89185107744272, 4.826419486105806, 1.730465711440431], [48.315127059457744, 3.66735223109067, 0.5922850219795925], [48.48460469383786, 6.254088477865254, -0.3636994966444078], [49.16621920037637, 4.655384559280362, -0.6188634841036846], [46.56295784864161, 3.6958766175022784, 0.648095520685657], [48.09991074089794, 6.063759784137125, -0.3587717378138544], [49.70993157489613, 5.721675550011998, 0.6936820269333464], [47.965414840457356, 6.159391773819247, 1.8901499455176682], [50.021269116117494, 4.529189509727935, 1.3305146902757485], [48.569473654288956, 5.843800551537061, 1.3314859986930776], [46.84786435911796, 5.869861885327966, 1.3236073698122388], [46.94478993088209, 5.990398400591253, 1.1786997335473126], [47.704488922415464, 3.6016037712055304, -0.16769206849195073], [48.72488445877819, 6.586018134421574, 2.2945828594438926], [49.0714335138122, 3.5290475695737626, 0.9571782943398062], [48.553316409968154, 6.938273327272268, 2.113227213702621], [50.788543226279764, 3.7144387435993567, 0.3252711419888138], [49.21267183197709, 5.489086747053203, 4.008685695307216], [46.40717579456612, 4.515640541192518, 2.4415037250190563], [48.699650102687684, 5.113514086485961, 0.39663366262299293], [48.69488513367614, 6.069577469651137, -1.2634692231368958], [45.66876489608806, 4.89078062474095, 1.9267675944281848], [47.75989551628072, 5.645588533283123, 0.4684907711212024], [47.70309550012583, 3.3673561195221695, -0.11900385140320524], [51.202732684759546, 5.092898168301949, 0.8060988177835449], [46.83159128652375, 6.117657755347951, -0.3649513829575426], [49.197669023806824, 5.9250630509738516, 1.8313442143538778], [48.95532947113454, 4.899304578530438, 0.8343367606922766], [47.50044310939592, 6.251689575202836, -0.6940171166479263], [48.06277490991963, 5.9929649429820975, 2.1721780212694437], [48.926927632024714, 3.5733127712433914, 1.3473675082200067], [48.124900861119634, 6.337528278631009, 0.8547869408787303], [49.97707944908934, 6.952030620210955, 1.2744444973338827], [48.602442279000854, 5.475180588493924, 2.688631645083319], [48.906814375673704, 4.813634234045864, 0.9813949311553293], [48.54243819616617, 5.3225211206703555, 2.6573528215491304], [47.353182981691745, 3.983783436839315, 1.5064589119857459], [48.07174055386251, 4.718851363551222, 0.4664934627074465], [47.682412196958396, 5.588092234371318, 1.10153705356558], [48.66769619013246, 2.479877086448165, 1.0770337034996034], [48.55887962892827, 4.2911373791136755, 1.043606029843479], [47.100784731170215, 3.987130034138505, 1.366439343792765], [48.34007141541967, 5.1070803092265935, -0.8306455137862738], [47.97293803583865, 5.566983450252852, 0.6012118899533994], [47.31519435531681, 7.407851577416274, -0.205559818561023], [46.599870203509965, 6.134608131902293, 0.1901958903535409], [47.56227491137419, 4.8921886201595655, -0.009122153242035136], [47.02850388920149, 4.8843490829072875, 0.3461182289129088], [46.868110197373575, 4.166804191321055, 0.6226280355951337], [47.02806279788511, 6.367545747197698, -0.5152814510249459], [44.99275025333925, 4.904674110768163, 1.1940143183083163], [48.018708548798, 5.721377249745876, 2.274102775182035]],\n",
       "                {\n",
       "  &quot;minOpacity&quot;: 0.5,\n",
       "  &quot;maxZoom&quot;: 18,\n",
       "  &quot;radius&quot;: 25,\n",
       "  &quot;blur&quot;: 15,\n",
       "}\n",
       "            );\n",
       "        \n",
       "    \n",
       "            heat_map_ce841a0c245164c9d3d0529cdd0f610f.addTo(map_91cbb3c4cc5b1e939be79bf5b8caf91f);\n",
       "        \n",
       "&lt;/script&gt;\n",
       "&lt;/html&gt;\" style=\"position:absolute;width:100%;height:100%;left:0;top:0;border:none !important;\" allowfullscreen webkitallowfullscreen mozallowfullscreen></iframe></div></div>"
      ],
      "text/plain": [
       "<folium.folium.Map at 0x7f3b10b8ce90>"
      ]
     },
     "execution_count": 2,
     "metadata": {},
     "output_type": "execute_result"
    }
   ],
   "source": [
    "import folium\n",
    "from folium.plugins import HeatMap\n",
    "\n",
    "m = folium.Map([48.0, 5.0], zoom_start=6)\n",
    "\n",
    "HeatMap(data).add_to(m)\n",
    "\n",
    "m"
   ]
  }
 ],
 "metadata": {
  "jupytext": {
   "text_representation": {
    "extension": ".mystnb",
    "format_name": "myst"
   }
  },
  "language_info": {
   "codemirror_mode": {
    "name": "ipython",
    "version": 3
   },
   "file_extension": ".py",
   "mimetype": "text/x-python",
   "name": "python",
   "nbconvert_exporter": "python",
   "pygments_lexer": "ipython3",
   "version": "3.12.11"
  }
 },
 "nbformat": 4,
 "nbformat_minor": 5
}
