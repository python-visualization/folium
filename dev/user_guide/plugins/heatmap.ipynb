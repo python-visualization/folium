{
 "cells": [
  {
   "cell_type": "markdown",
   "id": "8056c205",
   "metadata": {},
   "source": [
    "## Heatmap"
   ]
  },
  {
   "cell_type": "code",
   "execution_count": 1,
   "id": "b6a1bcab",
   "metadata": {
    "execution": {
     "iopub.execute_input": "2025-09-10T13:14:09.176117Z",
     "iopub.status.busy": "2025-09-10T13:14:09.175965Z",
     "iopub.status.idle": "2025-09-10T13:14:09.230941Z",
     "shell.execute_reply": "2025-09-10T13:14:09.230522Z"
    }
   },
   "outputs": [],
   "source": [
    "import numpy as np\n",
    "\n",
    "data = (\n",
    "    np.random.normal(size=(100, 3)) * np.array([[1, 1, 1]]) + np.array([[48, 5, 1]])\n",
    ").tolist()"
   ]
  },
  {
   "cell_type": "code",
   "execution_count": 2,
   "id": "23c00057",
   "metadata": {
    "execution": {
     "iopub.execute_input": "2025-09-10T13:14:09.232932Z",
     "iopub.status.busy": "2025-09-10T13:14:09.232715Z",
     "iopub.status.idle": "2025-09-10T13:14:09.638149Z",
     "shell.execute_reply": "2025-09-10T13:14:09.637648Z"
    }
   },
   "outputs": [
    {
     "data": {
      "text/html": [
       "<div style=\"width:100%;\"><div style=\"position:relative;width:100%;height:0;padding-bottom:60%;\"><span style=\"color:#565656\">Make this Notebook Trusted to load map: File -> Trust Notebook</span><iframe srcdoc=\"&lt;!DOCTYPE html&gt;\n",
       "&lt;html&gt;\n",
       "&lt;head&gt;\n",
       "    \n",
       "    &lt;meta http-equiv=&quot;content-type&quot; content=&quot;text/html; charset=UTF-8&quot; /&gt;\n",
       "    &lt;script src=&quot;https://cdn.jsdelivr.net/npm/leaflet@1.9.3/dist/leaflet.js&quot;&gt;&lt;/script&gt;\n",
       "    &lt;script src=&quot;https://code.jquery.com/jquery-3.7.1.min.js&quot;&gt;&lt;/script&gt;\n",
       "    &lt;script src=&quot;https://cdn.jsdelivr.net/npm/bootstrap@5.2.2/dist/js/bootstrap.bundle.min.js&quot;&gt;&lt;/script&gt;\n",
       "    &lt;script src=&quot;https://cdnjs.cloudflare.com/ajax/libs/Leaflet.awesome-markers/2.0.2/leaflet.awesome-markers.js&quot;&gt;&lt;/script&gt;\n",
       "    &lt;link rel=&quot;stylesheet&quot; href=&quot;https://cdn.jsdelivr.net/npm/leaflet@1.9.3/dist/leaflet.css&quot;/&gt;\n",
       "    &lt;link rel=&quot;stylesheet&quot; href=&quot;https://cdn.jsdelivr.net/npm/bootstrap@5.2.2/dist/css/bootstrap.min.css&quot;/&gt;\n",
       "    &lt;link rel=&quot;stylesheet&quot; href=&quot;https://netdna.bootstrapcdn.com/bootstrap/3.0.0/css/bootstrap-glyphicons.css&quot;/&gt;\n",
       "    &lt;link rel=&quot;stylesheet&quot; href=&quot;https://cdn.jsdelivr.net/npm/@fortawesome/fontawesome-free@6.2.0/css/all.min.css&quot;/&gt;\n",
       "    &lt;link rel=&quot;stylesheet&quot; href=&quot;https://cdnjs.cloudflare.com/ajax/libs/Leaflet.awesome-markers/2.0.2/leaflet.awesome-markers.css&quot;/&gt;\n",
       "    &lt;link rel=&quot;stylesheet&quot; href=&quot;https://cdn.jsdelivr.net/gh/python-visualization/folium/folium/templates/leaflet.awesome.rotate.min.css&quot;/&gt;\n",
       "    \n",
       "            &lt;meta name=&quot;viewport&quot; content=&quot;width=device-width,\n",
       "                initial-scale=1.0, maximum-scale=1.0, user-scalable=no&quot; /&gt;\n",
       "            &lt;style&gt;\n",
       "                #map_da7ff9f96f144babcae5fbff1b2323cd {\n",
       "                    position: relative;\n",
       "                    width: 100.0%;\n",
       "                    height: 100.0%;\n",
       "                    left: 0.0%;\n",
       "                    top: 0.0%;\n",
       "                }\n",
       "                .leaflet-container { font-size: 1rem; }\n",
       "            &lt;/style&gt;\n",
       "\n",
       "            &lt;style&gt;html, body {\n",
       "                width: 100%;\n",
       "                height: 100%;\n",
       "                margin: 0;\n",
       "                padding: 0;\n",
       "            }\n",
       "            &lt;/style&gt;\n",
       "\n",
       "            &lt;style&gt;#map {\n",
       "                position:absolute;\n",
       "                top:0;\n",
       "                bottom:0;\n",
       "                right:0;\n",
       "                left:0;\n",
       "                }\n",
       "            &lt;/style&gt;\n",
       "\n",
       "            &lt;script&gt;\n",
       "                L_NO_TOUCH = false;\n",
       "                L_DISABLE_3D = false;\n",
       "            &lt;/script&gt;\n",
       "\n",
       "        \n",
       "    &lt;script src=&quot;https://cdn.jsdelivr.net/gh/python-visualization/folium@main/folium/templates/leaflet_heat.min.js&quot;&gt;&lt;/script&gt;\n",
       "&lt;/head&gt;\n",
       "&lt;body&gt;\n",
       "    \n",
       "    \n",
       "            &lt;div class=&quot;folium-map&quot; id=&quot;map_da7ff9f96f144babcae5fbff1b2323cd&quot; &gt;&lt;/div&gt;\n",
       "        \n",
       "&lt;/body&gt;\n",
       "&lt;script&gt;\n",
       "    \n",
       "    \n",
       "            var map_da7ff9f96f144babcae5fbff1b2323cd = L.map(\n",
       "                &quot;map_da7ff9f96f144babcae5fbff1b2323cd&quot;,\n",
       "                {\n",
       "                    center: [48.0, 5.0],\n",
       "                    crs: L.CRS.EPSG3857,\n",
       "                    ...{\n",
       "  &quot;zoom&quot;: 6,\n",
       "  &quot;zoomControl&quot;: true,\n",
       "  &quot;preferCanvas&quot;: false,\n",
       "}\n",
       "\n",
       "                }\n",
       "            );\n",
       "\n",
       "            \n",
       "\n",
       "        \n",
       "    \n",
       "            var tile_layer_cd95ad03175c78f0d7e456ca80c7a122 = L.tileLayer(\n",
       "                &quot;https://tile.openstreetmap.org/{z}/{x}/{y}.png&quot;,\n",
       "                {\n",
       "  &quot;minZoom&quot;: 0,\n",
       "  &quot;maxZoom&quot;: 19,\n",
       "  &quot;maxNativeZoom&quot;: 19,\n",
       "  &quot;noWrap&quot;: false,\n",
       "  &quot;attribution&quot;: &quot;\\u0026copy; \\u003ca href=\\&quot;https://www.openstreetmap.org/copyright\\&quot;\\u003eOpenStreetMap\\u003c/a\\u003e contributors&quot;,\n",
       "  &quot;subdomains&quot;: &quot;abc&quot;,\n",
       "  &quot;detectRetina&quot;: false,\n",
       "  &quot;tms&quot;: false,\n",
       "  &quot;opacity&quot;: 1,\n",
       "}\n",
       "\n",
       "            );\n",
       "        \n",
       "    \n",
       "            tile_layer_cd95ad03175c78f0d7e456ca80c7a122.addTo(map_da7ff9f96f144babcae5fbff1b2323cd);\n",
       "        \n",
       "    \n",
       "            var heat_map_0065dcbccaffe50c490fae06a1f365d2 = L.heatLayer(\n",
       "                [[47.442937836720624, 5.153689098233052, -0.5849264269231205], [48.53163388459023, 5.818648221607777, 1.8250895438564183], [47.41042217236961, 4.445865001571627, 0.4450098867712061], [47.65590593998649, 5.526000901741, 0.6358389985362604], [48.967006390962396, 3.999119900807421, 1.2922119696423378], [48.60999232538415, 3.6405895177699916, 2.4919158478588495], [47.41635171609039, 5.291907884327536, 1.6629950291919977], [48.731474259027806, 5.500451528953107, 1.393513342726477], [48.161504302692386, 6.791917826705693, 1.40495271217207], [49.82895753550177, 2.476930011297084, 2.546981803976756], [48.410788259884455, 4.050364552129475, 0.36817113009275226], [48.230787596268456, 4.62153469895056, 2.5136903740753063], [48.63724170438131, 5.558051603236579, -0.13072919782477088], [46.97292788092094, 4.070811114343102, 0.43667397631855], [47.08870290654537, 6.8496406718234, 1.906884386110511], [49.09024461335177, 4.946375814377947, 0.11769145508588785], [49.95322649913569, 5.135432522665389, 1.96548901425439], [46.97313716856174, 3.6585867074954495, 1.3284125581661137], [47.429515123253154, 4.975713638609078, 1.9212071865565672], [48.17624499111421, 5.295039502138083, 2.533629279127807], [48.64134989659449, 5.917838161979001, 0.18593022900466172], [48.23217371787233, 3.6327754444386917, 0.9328832586912597], [49.713922160065124, 5.548980543064263, 0.4181456266300124], [49.49741104883249, 4.427574991068342, 0.8690126825559311], [47.71880463932646, 4.048826974997207, 0.8829608502229858], [47.18161158671059, 5.918880406372029, -0.017390212405143046], [47.93897516990938, 5.1129728730545665, 1.5109547464492987], [48.507394739261, 5.544117065038327, 1.7740106679111989], [46.51630478009062, 3.6742720449047557, 0.9654992842216208], [48.18521181641642, 5.524765303090146, 0.5491207942903696], [48.56318717444668, 4.681715233944931, 2.1878562717356083], [47.38147757677881, 5.26357468517342, 2.565044747237179], [47.15436151059259, 5.770050331348911, 1.9891737015047382], [48.196398374406414, 5.002942216912447, -0.13280406699238], [49.17862825951602, 3.748273413880498, 2.2347690612945046], [47.42584516860273, 4.702549356983614, 2.3213156304807834], [47.62045629629706, 4.651751764625594, -0.6196781042938437], [47.15875515849096, 3.163342185972603, 2.09672947696189], [47.14793471209022, 5.718217498296388, 1.946930458836513], [46.994219908523334, 4.009787544998501, 1.1576172347561862], [48.2622227558394, 5.584619391692392, 1.050082123967049], [47.763695378206734, 5.723599143162941, -0.5395295574852277], [48.69049375998188, 4.4662121746493835, 1.8686966207736326], [48.40575799298357, 4.7708813449320795, 0.5070201798771446], [45.96876144771012, 5.439844734541282, 0.5452172207153809], [46.66637467809368, 5.8027287442065285, 0.7303755660839171], [47.005037147706304, 6.052179417031111, -0.9728070391989436], [49.71760591187367, 6.370451747778202, 1.0625522697020542], [49.17451575044852, 4.5160633836989765, 1.1445641431057398], [47.36074157608713, 6.907748498429399, 1.3814735527661064], [49.07231298230495, 4.63363852146817, 0.6875909500013921], [48.799351874552144, 4.585955903760849, 2.224230141170128], [49.132481851150324, 6.043552512743983, 2.553741616196728], [48.603530076610504, 5.678169996295672, 2.197067916217648], [47.72968514814515, 4.392578973773105, 0.45177979431854065], [48.29211572034321, 3.3234972272828207, 0.7559894481099143], [48.2447709499783, 4.942156134130799, 0.08881288302165735], [46.66470323005059, 3.5460973651942402, 0.6948414928371252], [48.4311564449578, 5.7105514054944475, 1.155398663946505], [48.44440577805514, 5.371763323696603, -0.20168274821989618], [48.110311910017316, 5.9151192421243435, 2.0753111802408055], [47.95991988656493, 2.9124693049883126, 0.1930093545551742], [48.947384864140055, 4.5850574480343305, 0.7962001017010379], [48.14882411350462, 4.520539384179769, 1.8765989903001312], [47.771386393391765, 4.6287135926805, 1.6557614526005602], [47.324721291269235, 3.241819828255589, 1.380939208309365], [47.949469448021695, 4.6503516466901935, 2.8036544744484804], [46.194476992966436, 6.44445349751147, 1.9046811585704688], [47.18407359972167, 4.656950426415035, -0.8647370224694406], [47.40108572383365, 5.5737918752710405, 3.3504675718931054], [47.41904182033428, 4.102253253404059, 0.7154772657539348], [47.14645535415353, 4.724697498282767, 1.646735715624724], [48.84503930244996, 5.6663823699502585, -0.06969065916917216], [47.00508460769578, 3.5837762155603325, 1.8723460870630872], [47.51809223013504, 4.6667657779837945, 1.2944636194310961], [47.79740179700766, 5.214138293421726, 1.7825136114749425], [46.22943936769663, 6.052950577164226, 0.5398868347089123], [47.73845145393324, 4.576942893866399, 0.9634755472644744], [47.96206524077061, 4.735376320747999, 1.635915660358261], [46.676959114381866, 5.654680808389776, -0.39279866517005013], [49.91812107183197, 3.185729067652803, 0.3151384043734641], [47.40839570998296, 5.5860831474582096, 0.9082137438257121], [48.9504301217039, 3.4180806736609286, 0.06119984426860736], [47.49188108948024, 3.4941709290536433, 3.547742952725717], [47.8659954850081, 6.162722784663677, 0.9258129073618895], [48.86274961852442, 6.876399491772869, 0.8753179648616647], [48.670697906359635, 3.5680115172501683, -0.15723872889388368], [49.05499278027868, 4.152282932710868, -0.1411605361584194], [47.936145034739106, 5.617953245827148, 2.670601162285984], [46.82625190596512, 5.916619022500426, 0.7450574731493531], [46.5419670956414, 5.581330937220851, 0.8924283722327696], [46.40089780095471, 4.854882645347229, 1.7196629081072254], [48.144968187518444, 4.720385852799451, -0.05955400212489659], [47.616164149594404, 4.815652205888076, 0.19946651960641115], [47.26778427039739, 4.062967325968019, 0.711540826657882], [48.544931044411676, 5.038497086768264, 2.4195744690923267], [48.83009527396736, 4.4104679853616915, 1.3672716294244072], [47.35891068039312, 5.597407508399886, 1.1013723270580362], [47.95034633268153, 4.537212600210232, -0.525734343209928], [48.391288826022276, 5.673129078708439, 0.7392432119369446]],\n",
       "                {\n",
       "  &quot;minOpacity&quot;: 0.5,\n",
       "  &quot;maxZoom&quot;: 18,\n",
       "  &quot;radius&quot;: 25,\n",
       "  &quot;blur&quot;: 15,\n",
       "}\n",
       "            );\n",
       "        \n",
       "    \n",
       "            heat_map_0065dcbccaffe50c490fae06a1f365d2.addTo(map_da7ff9f96f144babcae5fbff1b2323cd);\n",
       "        \n",
       "&lt;/script&gt;\n",
       "&lt;/html&gt;\" style=\"position:absolute;width:100%;height:100%;left:0;top:0;border:none !important;\" allowfullscreen webkitallowfullscreen mozallowfullscreen></iframe></div></div>"
      ],
      "text/plain": [
       "<folium.folium.Map at 0x7fa430c75d30>"
      ]
     },
     "execution_count": 2,
     "metadata": {},
     "output_type": "execute_result"
    }
   ],
   "source": [
    "import folium\n",
    "from folium.plugins import HeatMap\n",
    "\n",
    "m = folium.Map([48.0, 5.0], zoom_start=6)\n",
    "\n",
    "HeatMap(data).add_to(m)\n",
    "\n",
    "m"
   ]
  }
 ],
 "metadata": {
  "jupytext": {
   "text_representation": {
    "extension": ".mystnb",
    "format_name": "myst"
   }
  },
  "language_info": {
   "codemirror_mode": {
    "name": "ipython",
    "version": 3
   },
   "file_extension": ".py",
   "mimetype": "text/x-python",
   "name": "python",
   "nbconvert_exporter": "python",
   "pygments_lexer": "ipython3",
   "version": "3.13.7"
  }
 },
 "nbformat": 4,
 "nbformat_minor": 5
}
