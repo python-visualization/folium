{
 "cells": [
  {
   "cell_type": "markdown",
   "id": "5363396d",
   "metadata": {},
   "source": [
    "## Heatmap"
   ]
  },
  {
   "cell_type": "code",
   "execution_count": 1,
   "id": "f926fdf0",
   "metadata": {
    "execution": {
     "iopub.execute_input": "2025-08-12T18:15:04.621443Z",
     "iopub.status.busy": "2025-08-12T18:15:04.621202Z",
     "iopub.status.idle": "2025-08-12T18:15:04.677739Z",
     "shell.execute_reply": "2025-08-12T18:15:04.677285Z"
    }
   },
   "outputs": [],
   "source": [
    "import numpy as np\n",
    "\n",
    "data = (\n",
    "    np.random.normal(size=(100, 3)) * np.array([[1, 1, 1]]) + np.array([[48, 5, 1]])\n",
    ").tolist()"
   ]
  },
  {
   "cell_type": "code",
   "execution_count": 2,
   "id": "a97f1a19",
   "metadata": {
    "execution": {
     "iopub.execute_input": "2025-08-12T18:15:04.679777Z",
     "iopub.status.busy": "2025-08-12T18:15:04.679562Z",
     "iopub.status.idle": "2025-08-12T18:15:05.095104Z",
     "shell.execute_reply": "2025-08-12T18:15:05.094604Z"
    }
   },
   "outputs": [
    {
     "data": {
      "text/html": [
       "<div style=\"width:100%;\"><div style=\"position:relative;width:100%;height:0;padding-bottom:60%;\"><span style=\"color:#565656\">Make this Notebook Trusted to load map: File -> Trust Notebook</span><iframe srcdoc=\"&lt;!DOCTYPE html&gt;\n",
       "&lt;html&gt;\n",
       "&lt;head&gt;\n",
       "    \n",
       "    &lt;meta http-equiv=&quot;content-type&quot; content=&quot;text/html; charset=UTF-8&quot; /&gt;\n",
       "    &lt;script src=&quot;https://cdn.jsdelivr.net/npm/leaflet@1.9.3/dist/leaflet.js&quot;&gt;&lt;/script&gt;\n",
       "    &lt;script src=&quot;https://code.jquery.com/jquery-3.7.1.min.js&quot;&gt;&lt;/script&gt;\n",
       "    &lt;script src=&quot;https://cdn.jsdelivr.net/npm/bootstrap@5.2.2/dist/js/bootstrap.bundle.min.js&quot;&gt;&lt;/script&gt;\n",
       "    &lt;script src=&quot;https://cdnjs.cloudflare.com/ajax/libs/Leaflet.awesome-markers/2.0.2/leaflet.awesome-markers.js&quot;&gt;&lt;/script&gt;\n",
       "    &lt;link rel=&quot;stylesheet&quot; href=&quot;https://cdn.jsdelivr.net/npm/leaflet@1.9.3/dist/leaflet.css&quot;/&gt;\n",
       "    &lt;link rel=&quot;stylesheet&quot; href=&quot;https://cdn.jsdelivr.net/npm/bootstrap@5.2.2/dist/css/bootstrap.min.css&quot;/&gt;\n",
       "    &lt;link rel=&quot;stylesheet&quot; href=&quot;https://netdna.bootstrapcdn.com/bootstrap/3.0.0/css/bootstrap-glyphicons.css&quot;/&gt;\n",
       "    &lt;link rel=&quot;stylesheet&quot; href=&quot;https://cdn.jsdelivr.net/npm/@fortawesome/fontawesome-free@6.2.0/css/all.min.css&quot;/&gt;\n",
       "    &lt;link rel=&quot;stylesheet&quot; href=&quot;https://cdnjs.cloudflare.com/ajax/libs/Leaflet.awesome-markers/2.0.2/leaflet.awesome-markers.css&quot;/&gt;\n",
       "    &lt;link rel=&quot;stylesheet&quot; href=&quot;https://cdn.jsdelivr.net/gh/python-visualization/folium/folium/templates/leaflet.awesome.rotate.min.css&quot;/&gt;\n",
       "    \n",
       "            &lt;meta name=&quot;viewport&quot; content=&quot;width=device-width,\n",
       "                initial-scale=1.0, maximum-scale=1.0, user-scalable=no&quot; /&gt;\n",
       "            &lt;style&gt;\n",
       "                #map_cf0690ece5f2d6b6d8b5cbcf650cf8e7 {\n",
       "                    position: relative;\n",
       "                    width: 100.0%;\n",
       "                    height: 100.0%;\n",
       "                    left: 0.0%;\n",
       "                    top: 0.0%;\n",
       "                }\n",
       "                .leaflet-container { font-size: 1rem; }\n",
       "            &lt;/style&gt;\n",
       "\n",
       "            &lt;style&gt;html, body {\n",
       "                width: 100%;\n",
       "                height: 100%;\n",
       "                margin: 0;\n",
       "                padding: 0;\n",
       "            }\n",
       "            &lt;/style&gt;\n",
       "\n",
       "            &lt;style&gt;#map {\n",
       "                position:absolute;\n",
       "                top:0;\n",
       "                bottom:0;\n",
       "                right:0;\n",
       "                left:0;\n",
       "                }\n",
       "            &lt;/style&gt;\n",
       "\n",
       "            &lt;script&gt;\n",
       "                L_NO_TOUCH = false;\n",
       "                L_DISABLE_3D = false;\n",
       "            &lt;/script&gt;\n",
       "\n",
       "        \n",
       "    &lt;script src=&quot;https://cdn.jsdelivr.net/gh/python-visualization/folium@main/folium/templates/leaflet_heat.min.js&quot;&gt;&lt;/script&gt;\n",
       "&lt;/head&gt;\n",
       "&lt;body&gt;\n",
       "    \n",
       "    \n",
       "            &lt;div class=&quot;folium-map&quot; id=&quot;map_cf0690ece5f2d6b6d8b5cbcf650cf8e7&quot; &gt;&lt;/div&gt;\n",
       "        \n",
       "&lt;/body&gt;\n",
       "&lt;script&gt;\n",
       "    \n",
       "    \n",
       "            var map_cf0690ece5f2d6b6d8b5cbcf650cf8e7 = L.map(\n",
       "                &quot;map_cf0690ece5f2d6b6d8b5cbcf650cf8e7&quot;,\n",
       "                {\n",
       "                    center: [48.0, 5.0],\n",
       "                    crs: L.CRS.EPSG3857,\n",
       "                    ...{\n",
       "  &quot;zoom&quot;: 6,\n",
       "  &quot;zoomControl&quot;: true,\n",
       "  &quot;preferCanvas&quot;: false,\n",
       "}\n",
       "\n",
       "                }\n",
       "            );\n",
       "\n",
       "            \n",
       "\n",
       "        \n",
       "    \n",
       "            var tile_layer_d6c814b5eb55ece1dfcefa6c98af110a = L.tileLayer(\n",
       "                &quot;https://tile.openstreetmap.org/{z}/{x}/{y}.png&quot;,\n",
       "                {\n",
       "  &quot;minZoom&quot;: 0,\n",
       "  &quot;maxZoom&quot;: 19,\n",
       "  &quot;maxNativeZoom&quot;: 19,\n",
       "  &quot;noWrap&quot;: false,\n",
       "  &quot;attribution&quot;: &quot;\\u0026copy; \\u003ca href=\\&quot;https://www.openstreetmap.org/copyright\\&quot;\\u003eOpenStreetMap\\u003c/a\\u003e contributors&quot;,\n",
       "  &quot;subdomains&quot;: &quot;abc&quot;,\n",
       "  &quot;detectRetina&quot;: false,\n",
       "  &quot;tms&quot;: false,\n",
       "  &quot;opacity&quot;: 1,\n",
       "}\n",
       "\n",
       "            );\n",
       "        \n",
       "    \n",
       "            tile_layer_d6c814b5eb55ece1dfcefa6c98af110a.addTo(map_cf0690ece5f2d6b6d8b5cbcf650cf8e7);\n",
       "        \n",
       "    \n",
       "            var heat_map_b708ddd2a03037207aeeac9230bdf1d4 = L.heatLayer(\n",
       "                [[49.63552325173884, 6.16391090615585, 0.3981937108711956], [49.108331759399704, 4.758903299669698, -0.2332196284236756], [47.801963469073456, 3.991036633322608, 0.6014080010222517], [48.245668577423956, 5.23169654967194, 1.7858935892450165], [47.3746497994597, 6.7384978270130444, 0.8522518730543894], [48.63144157731274, 4.867296706658828, -1.0298670442441122], [46.79307290719328, 4.477220317428433, 1.9321067031095285], [48.44885247797313, 6.0145954370809225, 1.868150674800312], [49.08108346798109, 3.9204145061984343, 0.9156218608552222], [47.60961209945288, 5.954261356194869, 2.445835421083782], [49.694744760182154, 6.119665349974861, 2.4429566408379375], [49.76708549804397, 5.91252957785185, 1.8634443186485092], [45.31730588320998, 6.247447514489434, 1.6706165086182727], [47.13763828000874, 5.927363990765486, 2.375024501231429], [48.813790312372745, 4.087772760553886, 1.5165973833678628], [47.433667628378615, 5.545334347596328, 1.154460490485842], [48.42193062022409, 4.018470738454504, 0.3331746256450262], [48.68853356387681, 3.7191080993348287, 2.517451542604574], [48.43481161980388, 4.3081226289036145, 1.3395042647759552], [47.99167675802703, 4.470856925926552, 2.300625433133881], [47.442363011358694, 6.1734544482603795, 3.60738443498322], [49.08998150096593, 5.414901182484633, 0.15288321363997348], [49.506539165595875, 5.243529927260556, 0.32462905097738826], [47.78632828540104, 4.693869948644189, 0.6131499429852332], [45.78636557538374, 4.925519973220082, 1.0847592942261393], [47.38769169022776, 4.454963590702122, -1.1122750431245993], [47.15782884371928, 4.352993320207257, 1.0703925550920492], [47.834147249977306, 5.3281241345885775, 0.5924509713379829], [47.51331718061488, 4.922625594507838, 2.7441645678806634], [47.15053838835388, 5.268533230462559, -0.3103327169449519], [47.52562841844229, 5.214042464728516, -1.3406971382808268], [46.88526860425304, 5.150661389909383, 1.5486965209844952], [48.66403474732049, 1.9691963602733042, 0.938953393448395], [46.16065714013705, 5.6092006420866, 2.3786834580934935], [47.79010593748349, 5.082085767626861, 0.34661751329335333], [45.390714070079895, 4.133305672529762, 0.6457875679595735], [47.87714091761597, 5.842521325328979, 0.6089424673855365], [46.72305441070218, 7.313981384063547, 1.8681954402252856], [47.29286517679115, 4.224456680341797, 0.3245330642201931], [46.92299950838597, 6.911559120729847, 1.2841525754807708], [47.26267766970939, 3.9833997647789348, 0.3270600699320515], [47.811219870501866, 5.831722601637698, 1.1702859040395408], [47.496155570464694, 5.11763546993557, 0.566073632022511], [45.93584267321701, 3.855106904487937, 1.008078284486519], [48.46199924239514, 3.3263461386934754, 1.1348369742576125], [49.283458276889895, 4.684152408334996, 0.411077017909797], [46.99355072686937, 5.61978629758551, 1.0402697465376904], [47.78621211621584, 6.09538545078719, 0.6188145896628439], [47.73049880371206, 4.615041673631257, -1.8179373203365095], [47.64336227771042, 6.149109578816561, 1.6766738783863684], [48.47462301191691, 5.600481735232771, 2.3610507567327925], [48.97887077321115, 5.834237319114219, 1.7425206669131452], [49.0354033978341, 4.998181322299042, 0.35187816458082277], [46.80670450387268, 5.555178055516419, 1.834869760661562], [46.632850433564755, 6.861545659109995, 0.24370707046336237], [44.75952598292322, 5.938743186505608, 2.3097240787280326], [48.893632807479946, 4.187773696215888, 0.1906063246293731], [47.8855889512301, 7.090184669661825, 0.7869769300065355], [48.82863870662967, 5.030478118096056, 1.665417606067946], [48.321626823413744, 6.187156205585816, 2.060490790120838], [47.523247765802616, 5.102762100697715, 0.6640351379927453], [47.139356003527055, 3.4200160543916907, 2.1902318480966008], [47.26346054584774, 5.925253213186626, 0.4668424813798291], [48.0583336236537, 4.887225338668685, 1.9198811517713346], [47.31009539540998, 5.371176245915807, -0.12348205359091668], [47.60952255563189, 4.091950637331423, 1.488067403285405], [48.21834592195353, 6.7100960131773775, -0.6024997643749785], [47.82856255279012, 4.3719466865015795, 0.8732977398697453], [47.14051715789317, 6.627875754526029, 1.9111504021661037], [49.0870400316964, 3.4220874501576377, -0.3065611281133733], [48.88705985953753, 4.427638052089154, 2.4565939454592547], [47.72442947561818, 6.4756423499212605, 3.0318541545745505], [47.373691987145165, 5.3921006364381485, 0.7076233995957514], [49.90010502654733, 5.085851699145809, 2.2739376782796255], [47.562549785344274, 4.216273874976875, 1.8157158079394318], [47.430888164208646, 2.7492641690643476, 1.6483589413375315], [49.991035104123405, 4.15227270972701, 1.0273346620671118], [46.232494815152684, 3.0586944666545604, 2.157718025272713], [47.87542434359754, 4.8207404747592975, 1.7923226119616043], [48.544900478603516, 3.134886273735183, 2.127189592331541], [47.31148594828303, 4.885748601152104, 1.053542082588933], [47.620651277169316, 5.3882362215398025, 0.10689138458427261], [47.600543633807696, 5.039923019751397, 0.5296765318050698], [48.631191566029784, 4.0049802689362455, 0.851163730601105], [46.517554692591155, 5.800346323696987, -0.016967144555299907], [46.29689384650509, 4.9262086603488076, -0.5942217076871699], [47.4965238382733, 5.590917246935739, -0.4425189211771883], [47.973319428042174, 4.3860833910191515, -0.3731920118209868], [47.84671412345775, 4.784843452534851, 0.5056605554689579], [47.26534872332367, 4.754894700890492, 0.271060686216837], [49.03550394933085, 3.5852790808505093, 1.5555118637364294], [48.238273768465405, 5.2241048029273625, 0.26604472792673217], [49.765557203979995, 6.24122205424597, 0.007906939535795132], [46.747101700942835, 4.515496032900583, 0.9235448196431701], [48.74268574330239, 4.599427160956778, 0.2790663191752497], [47.4231772247732, 5.316561661511622, 3.2190696384958186], [48.515179401856805, 3.920980016780862, 2.379912539643933], [48.16653987110115, 4.531268028274834, 1.8686495719597451], [48.78545065101762, 6.2864217917645515, 2.003744026504453], [48.74417642293122, 5.49998668346711, 1.7297832046796973]],\n",
       "                {\n",
       "  &quot;minOpacity&quot;: 0.5,\n",
       "  &quot;maxZoom&quot;: 18,\n",
       "  &quot;radius&quot;: 25,\n",
       "  &quot;blur&quot;: 15,\n",
       "}\n",
       "            );\n",
       "        \n",
       "    \n",
       "            heat_map_b708ddd2a03037207aeeac9230bdf1d4.addTo(map_cf0690ece5f2d6b6d8b5cbcf650cf8e7);\n",
       "        \n",
       "&lt;/script&gt;\n",
       "&lt;/html&gt;\" style=\"position:absolute;width:100%;height:100%;left:0;top:0;border:none !important;\" allowfullscreen webkitallowfullscreen mozallowfullscreen></iframe></div></div>"
      ],
      "text/plain": [
       "<folium.folium.Map at 0x7ff37438dd30>"
      ]
     },
     "execution_count": 2,
     "metadata": {},
     "output_type": "execute_result"
    }
   ],
   "source": [
    "import folium\n",
    "from folium.plugins import HeatMap\n",
    "\n",
    "m = folium.Map([48.0, 5.0], zoom_start=6)\n",
    "\n",
    "HeatMap(data).add_to(m)\n",
    "\n",
    "m"
   ]
  }
 ],
 "metadata": {
  "jupytext": {
   "text_representation": {
    "extension": ".mystnb",
    "format_name": "myst"
   }
  },
  "language_info": {
   "codemirror_mode": {
    "name": "ipython",
    "version": 3
   },
   "file_extension": ".py",
   "mimetype": "text/x-python",
   "name": "python",
   "nbconvert_exporter": "python",
   "pygments_lexer": "ipython3",
   "version": "3.13.5"
  }
 },
 "nbformat": 4,
 "nbformat_minor": 5
}
