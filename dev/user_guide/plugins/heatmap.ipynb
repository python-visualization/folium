{
 "cells": [
  {
   "cell_type": "markdown",
   "id": "5ff7e97c",
   "metadata": {},
   "source": [
    "## Heatmap"
   ]
  },
  {
   "cell_type": "code",
   "execution_count": 1,
   "id": "3fc56471",
   "metadata": {
    "execution": {
     "iopub.execute_input": "2025-06-17T05:25:14.746158Z",
     "iopub.status.busy": "2025-06-17T05:25:14.745984Z",
     "iopub.status.idle": "2025-06-17T05:25:14.799162Z",
     "shell.execute_reply": "2025-06-17T05:25:14.798691Z"
    }
   },
   "outputs": [],
   "source": [
    "import numpy as np\n",
    "\n",
    "data = (\n",
    "    np.random.normal(size=(100, 3)) * np.array([[1, 1, 1]]) + np.array([[48, 5, 1]])\n",
    ").tolist()"
   ]
  },
  {
   "cell_type": "code",
   "execution_count": 2,
   "id": "2bdafef1",
   "metadata": {
    "execution": {
     "iopub.execute_input": "2025-06-17T05:25:14.801445Z",
     "iopub.status.busy": "2025-06-17T05:25:14.801226Z",
     "iopub.status.idle": "2025-06-17T05:25:15.248760Z",
     "shell.execute_reply": "2025-06-17T05:25:15.248270Z"
    }
   },
   "outputs": [
    {
     "data": {
      "text/html": [
       "<div style=\"width:100%;\"><div style=\"position:relative;width:100%;height:0;padding-bottom:60%;\"><span style=\"color:#565656\">Make this Notebook Trusted to load map: File -> Trust Notebook</span><iframe srcdoc=\"&lt;!DOCTYPE html&gt;\n",
       "&lt;html&gt;\n",
       "&lt;head&gt;\n",
       "    \n",
       "    &lt;meta http-equiv=&quot;content-type&quot; content=&quot;text/html; charset=UTF-8&quot; /&gt;\n",
       "    &lt;script src=&quot;https://cdn.jsdelivr.net/npm/leaflet@1.9.3/dist/leaflet.js&quot;&gt;&lt;/script&gt;\n",
       "    &lt;script src=&quot;https://code.jquery.com/jquery-3.7.1.min.js&quot;&gt;&lt;/script&gt;\n",
       "    &lt;script src=&quot;https://cdn.jsdelivr.net/npm/bootstrap@5.2.2/dist/js/bootstrap.bundle.min.js&quot;&gt;&lt;/script&gt;\n",
       "    &lt;script src=&quot;https://cdnjs.cloudflare.com/ajax/libs/Leaflet.awesome-markers/2.0.2/leaflet.awesome-markers.js&quot;&gt;&lt;/script&gt;\n",
       "    &lt;link rel=&quot;stylesheet&quot; href=&quot;https://cdn.jsdelivr.net/npm/leaflet@1.9.3/dist/leaflet.css&quot;/&gt;\n",
       "    &lt;link rel=&quot;stylesheet&quot; href=&quot;https://cdn.jsdelivr.net/npm/bootstrap@5.2.2/dist/css/bootstrap.min.css&quot;/&gt;\n",
       "    &lt;link rel=&quot;stylesheet&quot; href=&quot;https://netdna.bootstrapcdn.com/bootstrap/3.0.0/css/bootstrap-glyphicons.css&quot;/&gt;\n",
       "    &lt;link rel=&quot;stylesheet&quot; href=&quot;https://cdn.jsdelivr.net/npm/@fortawesome/fontawesome-free@6.2.0/css/all.min.css&quot;/&gt;\n",
       "    &lt;link rel=&quot;stylesheet&quot; href=&quot;https://cdnjs.cloudflare.com/ajax/libs/Leaflet.awesome-markers/2.0.2/leaflet.awesome-markers.css&quot;/&gt;\n",
       "    &lt;link rel=&quot;stylesheet&quot; href=&quot;https://cdn.jsdelivr.net/gh/python-visualization/folium/folium/templates/leaflet.awesome.rotate.min.css&quot;/&gt;\n",
       "    \n",
       "            &lt;meta name=&quot;viewport&quot; content=&quot;width=device-width,\n",
       "                initial-scale=1.0, maximum-scale=1.0, user-scalable=no&quot; /&gt;\n",
       "            &lt;style&gt;\n",
       "                #map_2b00532e09e16df47c21dbc8b6b36bdc {\n",
       "                    position: relative;\n",
       "                    width: 100.0%;\n",
       "                    height: 100.0%;\n",
       "                    left: 0.0%;\n",
       "                    top: 0.0%;\n",
       "                }\n",
       "                .leaflet-container { font-size: 1rem; }\n",
       "            &lt;/style&gt;\n",
       "\n",
       "            &lt;style&gt;html, body {\n",
       "                width: 100%;\n",
       "                height: 100%;\n",
       "                margin: 0;\n",
       "                padding: 0;\n",
       "            }\n",
       "            &lt;/style&gt;\n",
       "\n",
       "            &lt;style&gt;#map {\n",
       "                position:absolute;\n",
       "                top:0;\n",
       "                bottom:0;\n",
       "                right:0;\n",
       "                left:0;\n",
       "                }\n",
       "            &lt;/style&gt;\n",
       "\n",
       "            &lt;script&gt;\n",
       "                L_NO_TOUCH = false;\n",
       "                L_DISABLE_3D = false;\n",
       "            &lt;/script&gt;\n",
       "\n",
       "        \n",
       "    &lt;script src=&quot;https://cdn.jsdelivr.net/gh/python-visualization/folium@main/folium/templates/leaflet_heat.min.js&quot;&gt;&lt;/script&gt;\n",
       "&lt;/head&gt;\n",
       "&lt;body&gt;\n",
       "    \n",
       "    \n",
       "            &lt;div class=&quot;folium-map&quot; id=&quot;map_2b00532e09e16df47c21dbc8b6b36bdc&quot; &gt;&lt;/div&gt;\n",
       "        \n",
       "&lt;/body&gt;\n",
       "&lt;script&gt;\n",
       "    \n",
       "    \n",
       "            var map_2b00532e09e16df47c21dbc8b6b36bdc = L.map(\n",
       "                &quot;map_2b00532e09e16df47c21dbc8b6b36bdc&quot;,\n",
       "                {\n",
       "                    center: [48.0, 5.0],\n",
       "                    crs: L.CRS.EPSG3857,\n",
       "                    ...{\n",
       "  &quot;zoom&quot;: 6,\n",
       "  &quot;zoomControl&quot;: true,\n",
       "  &quot;preferCanvas&quot;: false,\n",
       "}\n",
       "\n",
       "                }\n",
       "            );\n",
       "\n",
       "            \n",
       "\n",
       "        \n",
       "    \n",
       "            var tile_layer_e6ebffbe7cee790d191cb7fff3ec3bb2 = L.tileLayer(\n",
       "                &quot;https://tile.openstreetmap.org/{z}/{x}/{y}.png&quot;,\n",
       "                {\n",
       "  &quot;minZoom&quot;: 0,\n",
       "  &quot;maxZoom&quot;: 19,\n",
       "  &quot;maxNativeZoom&quot;: 19,\n",
       "  &quot;noWrap&quot;: false,\n",
       "  &quot;attribution&quot;: &quot;\\u0026copy; \\u003ca href=\\&quot;https://www.openstreetmap.org/copyright\\&quot;\\u003eOpenStreetMap\\u003c/a\\u003e contributors&quot;,\n",
       "  &quot;subdomains&quot;: &quot;abc&quot;,\n",
       "  &quot;detectRetina&quot;: false,\n",
       "  &quot;tms&quot;: false,\n",
       "  &quot;opacity&quot;: 1,\n",
       "}\n",
       "\n",
       "            );\n",
       "        \n",
       "    \n",
       "            tile_layer_e6ebffbe7cee790d191cb7fff3ec3bb2.addTo(map_2b00532e09e16df47c21dbc8b6b36bdc);\n",
       "        \n",
       "    \n",
       "            var heat_map_85cd1fa0e14ce47ba6a0a12529f45b8c = L.heatLayer(\n",
       "                [[47.42039303265682, 4.545515859121329, 1.9015793715761182], [47.48191311531076, 5.135960138198835, 0.8776735192239764], [47.77152654842871, 3.9467675662200152, 0.9816210634644932], [47.57233054601277, 6.144776758725265, 0.5780267234830551], [47.55502037513233, 4.550342243583133, 0.3532412786863608], [47.852166354520634, 5.4492723457858405, 0.9555535132690874], [48.10712855617973, 4.6504767378136584, 0.8623615978736199], [49.59649273019727, 6.245357236909906, 1.2391882909938015], [47.40111190021331, 3.989125303287147, 0.3493017222545035], [47.43579819439283, 5.688119638488374, -0.8690976019380048], [47.8626126594711, 5.998547787086557, 3.29802229556041], [49.38749562934302, 4.752008035273112, 1.7259093486230979], [47.35486423342838, 7.219939829178443, 2.164781915594218], [47.369913989640445, 6.213727142088775, 0.6945315758891129], [48.44964201729217, 5.789913858552525, 1.8718363940221494], [46.96487585445876, 5.112285947920976, 0.6649849241110233], [47.39703447780897, 5.9452135452678725, 2.3223017218165447], [48.247221535660394, 3.256627710780984, 1.9307990954342267], [47.24452133803523, 6.061524071325945, 0.879778684456899], [47.15222639113487, 4.6837912830347195, 0.8753606720119713], [47.058411425490185, 5.639556368835768, -0.783570541481204], [48.47019558228135, 5.57413477620852, 1.676416638487449], [47.620428169717165, 3.2835360198454797, 1.2325686986488815], [46.59581287175544, 4.953141576418075, -0.46102533888879704], [47.4689225253138, 4.549481393466039, 1.2934812484730416], [47.727002553201466, 3.863885853561756, 1.8805306053133901], [47.542921245689875, 3.7353814099780944, 1.3834320297615181], [47.00562504493261, 5.047065803908805, 1.0511073761301575], [47.589374566574435, 4.9774917669642385, 0.24188933991738792], [48.736868457135515, 4.938382199227222, 2.4139891070736823], [48.49872955468471, 4.895075751033186, 0.10062574750268594], [50.70938039238332, 5.320611732361354, -0.2817052813222545], [45.988266279454265, 6.06694304989605, 1.6962196077097036], [46.53278318133973, 5.035340408002519, 1.502602290521398], [48.52908381333534, 4.467064651408239, 1.4314904497050818], [47.39361130881788, 5.715467497007767, 2.120623029708477], [48.262587188063534, 6.934162412452374, 1.0608484126626816], [49.92220351026305, 6.24955249270151, 2.221682920438738], [49.079882566173595, 2.646881468462126, 0.49814850630016017], [47.96600543189849, 5.034063843471173, 1.9242447517214956], [48.04830050309549, 4.629598496192651, 0.7300403772577676], [48.830368978844135, 4.945209639404177, 0.7297439285824798], [46.973572572098725, 4.517396953731577, 0.9114093577755398], [46.30951428310336, 5.699308493731223, 1.8675624481433344], [47.26806719902434, 4.358233240997395, 0.3827512137946283], [46.52315705658912, 4.771505827709938, 0.21132391880658785], [47.44806381401728, 4.270609347347755, -0.17972767889889307], [47.145818094004966, 5.13255808872225, 1.335573363277771], [47.84215382064145, 4.993244738492078, 1.0512682320192919], [46.3152346467976, 5.839231027424473, 0.2514009284155545], [49.70492707296317, 5.7423344981877396, 1.0636192912629137], [48.253895818901576, 2.785166034521675, 1.397912161725741], [49.03973032848608, 7.173531911275644, 2.984246641091642], [46.65823733381979, 3.110616437781264, 1.59636642500901], [47.613800483201935, 2.7697386838382156, 0.408279964241677], [47.947617788345326, 6.21464447325832, 2.017383723303665], [49.41055226371185, 4.396467701013083, 1.6933922665602763], [47.880419926830506, 4.652032506108676, 1.241340201517696], [47.945397797997344, 5.091343788692178, 0.41989829980517834], [44.84602022803336, 4.323192466399467, 1.2159433713186445], [47.135631191584665, 1.0319519862253457, 1.7194539454345896], [46.998953767944705, 6.524883892202975, 0.9608257717646334], [47.94176667507539, 6.514885929433771, 2.2522680433090687], [49.56928113170182, 6.136248157071462, 1.5919493505759272], [48.05114761192325, 5.43152051641739, -1.0282437373001243], [46.674588138914196, 4.1643247284664575, 1.0502601608819089], [49.86648370044759, 3.613569725247732, -0.3584995671819764], [47.877703185612596, 3.9106617965126897, -0.8029918670676539], [47.020701457608226, 5.251618571202244, 0.24074105989480576], [47.92187058391535, 5.630586157312424, 0.9496919213679319], [47.33634040299269, 3.347885962657799, 2.320954403746994], [48.255898440771965, 4.914548790295379, 0.030132679531804873], [48.4934529653134, 6.342620199034684, 1.35623973564471], [49.30943969689744, 4.588865376136047, -0.27731696991314103], [47.47074518923295, 4.766609388667107, 2.2854362001478243], [49.12538171762476, 5.068933362902978, -0.35705348867096975], [49.1026620557911, 4.856324835992604, 0.7532235029330333], [48.04715500583256, 5.190608200047911, 1.015788708482793], [47.489317448917376, 6.0120287953802505, 2.401124117162589], [47.06541758779488, 6.977278951054968, 2.209147871524533], [47.091073135551994, 4.135943988774458, 1.2364691377661006], [49.331829720652436, 4.688607697040092, 3.172397148398452], [47.012446683615394, 4.626090117838936, 1.096832250161114], [47.306334903029615, 5.060577312971253, 2.587132193297676], [48.770630808303366, 5.395847567335928, 0.41244157005327065], [47.32949496188443, 3.8767046243968544, 1.7371488367020897], [47.608026201235624, 4.413129616007033, 0.7695502167875945], [49.60357023907238, 4.086436320671151, 2.848613664814918], [47.3499240219911, 3.4150734436071026, 0.9191962232049196], [48.14765006412063, 5.015768301685138, 1.9997522867679374], [46.20279690988029, 4.6396027029872515, 1.2339947691923427], [48.836111664350085, 4.786683285488109, 0.42208008091483284], [48.49096927441412, 4.077694742045958, -0.403037910650609], [49.67022318480315, 5.577396284451517, 0.1857195187921622], [48.82775123450625, 5.10687787636751, 0.13749938167211662], [47.931779777043715, 5.753925049219147, 0.12978577037350603], [47.53956275516964, 5.218381791531315, -0.1899905950008094], [48.65975821193474, 3.769923556941615, 1.6862928973012141], [47.719714399189975, 5.808472313394618, -0.006115242341709237], [46.83438388973139, 4.804620794009699, 0.9472953641160121]],\n",
       "                {\n",
       "  &quot;minOpacity&quot;: 0.5,\n",
       "  &quot;maxZoom&quot;: 18,\n",
       "  &quot;radius&quot;: 25,\n",
       "  &quot;blur&quot;: 15,\n",
       "}\n",
       "            );\n",
       "        \n",
       "    \n",
       "            heat_map_85cd1fa0e14ce47ba6a0a12529f45b8c.addTo(map_2b00532e09e16df47c21dbc8b6b36bdc);\n",
       "        \n",
       "&lt;/script&gt;\n",
       "&lt;/html&gt;\" style=\"position:absolute;width:100%;height:100%;left:0;top:0;border:none !important;\" allowfullscreen webkitallowfullscreen mozallowfullscreen></iframe></div></div>"
      ],
      "text/plain": [
       "<folium.folium.Map at 0x7f3930177a70>"
      ]
     },
     "execution_count": 2,
     "metadata": {},
     "output_type": "execute_result"
    }
   ],
   "source": [
    "import folium\n",
    "from folium.plugins import HeatMap\n",
    "\n",
    "m = folium.Map([48.0, 5.0], zoom_start=6)\n",
    "\n",
    "HeatMap(data).add_to(m)\n",
    "\n",
    "m"
   ]
  }
 ],
 "metadata": {
  "jupytext": {
   "text_representation": {
    "extension": ".mystnb",
    "format_name": "myst"
   }
  },
  "language_info": {
   "codemirror_mode": {
    "name": "ipython",
    "version": 3
   },
   "file_extension": ".py",
   "mimetype": "text/x-python",
   "name": "python",
   "nbconvert_exporter": "python",
   "pygments_lexer": "ipython3",
   "version": "3.12.11"
  }
 },
 "nbformat": 4,
 "nbformat_minor": 5
}
