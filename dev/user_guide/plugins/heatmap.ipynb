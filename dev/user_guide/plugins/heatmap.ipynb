{
 "cells": [
  {
   "cell_type": "markdown",
   "id": "0ed8474b",
   "metadata": {},
   "source": [
    "## Heatmap"
   ]
  },
  {
   "cell_type": "code",
   "execution_count": 1,
   "id": "4ce66ebd",
   "metadata": {
    "execution": {
     "iopub.execute_input": "2025-06-17T19:08:33.533467Z",
     "iopub.status.busy": "2025-06-17T19:08:33.533313Z",
     "iopub.status.idle": "2025-06-17T19:08:33.585355Z",
     "shell.execute_reply": "2025-06-17T19:08:33.584926Z"
    }
   },
   "outputs": [],
   "source": [
    "import numpy as np\n",
    "\n",
    "data = (\n",
    "    np.random.normal(size=(100, 3)) * np.array([[1, 1, 1]]) + np.array([[48, 5, 1]])\n",
    ").tolist()"
   ]
  },
  {
   "cell_type": "code",
   "execution_count": 2,
   "id": "48f37136",
   "metadata": {
    "execution": {
     "iopub.execute_input": "2025-06-17T19:08:33.587404Z",
     "iopub.status.busy": "2025-06-17T19:08:33.587187Z",
     "iopub.status.idle": "2025-06-17T19:08:34.028354Z",
     "shell.execute_reply": "2025-06-17T19:08:34.027849Z"
    }
   },
   "outputs": [
    {
     "data": {
      "text/html": [
       "<div style=\"width:100%;\"><div style=\"position:relative;width:100%;height:0;padding-bottom:60%;\"><span style=\"color:#565656\">Make this Notebook Trusted to load map: File -> Trust Notebook</span><iframe srcdoc=\"&lt;!DOCTYPE html&gt;\n",
       "&lt;html&gt;\n",
       "&lt;head&gt;\n",
       "    \n",
       "    &lt;meta http-equiv=&quot;content-type&quot; content=&quot;text/html; charset=UTF-8&quot; /&gt;\n",
       "    &lt;script src=&quot;https://cdn.jsdelivr.net/npm/leaflet@1.9.3/dist/leaflet.js&quot;&gt;&lt;/script&gt;\n",
       "    &lt;script src=&quot;https://code.jquery.com/jquery-3.7.1.min.js&quot;&gt;&lt;/script&gt;\n",
       "    &lt;script src=&quot;https://cdn.jsdelivr.net/npm/bootstrap@5.2.2/dist/js/bootstrap.bundle.min.js&quot;&gt;&lt;/script&gt;\n",
       "    &lt;script src=&quot;https://cdnjs.cloudflare.com/ajax/libs/Leaflet.awesome-markers/2.0.2/leaflet.awesome-markers.js&quot;&gt;&lt;/script&gt;\n",
       "    &lt;link rel=&quot;stylesheet&quot; href=&quot;https://cdn.jsdelivr.net/npm/leaflet@1.9.3/dist/leaflet.css&quot;/&gt;\n",
       "    &lt;link rel=&quot;stylesheet&quot; href=&quot;https://cdn.jsdelivr.net/npm/bootstrap@5.2.2/dist/css/bootstrap.min.css&quot;/&gt;\n",
       "    &lt;link rel=&quot;stylesheet&quot; href=&quot;https://netdna.bootstrapcdn.com/bootstrap/3.0.0/css/bootstrap-glyphicons.css&quot;/&gt;\n",
       "    &lt;link rel=&quot;stylesheet&quot; href=&quot;https://cdn.jsdelivr.net/npm/@fortawesome/fontawesome-free@6.2.0/css/all.min.css&quot;/&gt;\n",
       "    &lt;link rel=&quot;stylesheet&quot; href=&quot;https://cdnjs.cloudflare.com/ajax/libs/Leaflet.awesome-markers/2.0.2/leaflet.awesome-markers.css&quot;/&gt;\n",
       "    &lt;link rel=&quot;stylesheet&quot; href=&quot;https://cdn.jsdelivr.net/gh/python-visualization/folium/folium/templates/leaflet.awesome.rotate.min.css&quot;/&gt;\n",
       "    \n",
       "            &lt;meta name=&quot;viewport&quot; content=&quot;width=device-width,\n",
       "                initial-scale=1.0, maximum-scale=1.0, user-scalable=no&quot; /&gt;\n",
       "            &lt;style&gt;\n",
       "                #map_fb3be8b2b6c2a9d682bf9eb24da59b96 {\n",
       "                    position: relative;\n",
       "                    width: 100.0%;\n",
       "                    height: 100.0%;\n",
       "                    left: 0.0%;\n",
       "                    top: 0.0%;\n",
       "                }\n",
       "                .leaflet-container { font-size: 1rem; }\n",
       "            &lt;/style&gt;\n",
       "\n",
       "            &lt;style&gt;html, body {\n",
       "                width: 100%;\n",
       "                height: 100%;\n",
       "                margin: 0;\n",
       "                padding: 0;\n",
       "            }\n",
       "            &lt;/style&gt;\n",
       "\n",
       "            &lt;style&gt;#map {\n",
       "                position:absolute;\n",
       "                top:0;\n",
       "                bottom:0;\n",
       "                right:0;\n",
       "                left:0;\n",
       "                }\n",
       "            &lt;/style&gt;\n",
       "\n",
       "            &lt;script&gt;\n",
       "                L_NO_TOUCH = false;\n",
       "                L_DISABLE_3D = false;\n",
       "            &lt;/script&gt;\n",
       "\n",
       "        \n",
       "    &lt;script src=&quot;https://cdn.jsdelivr.net/gh/python-visualization/folium@main/folium/templates/leaflet_heat.min.js&quot;&gt;&lt;/script&gt;\n",
       "&lt;/head&gt;\n",
       "&lt;body&gt;\n",
       "    \n",
       "    \n",
       "            &lt;div class=&quot;folium-map&quot; id=&quot;map_fb3be8b2b6c2a9d682bf9eb24da59b96&quot; &gt;&lt;/div&gt;\n",
       "        \n",
       "&lt;/body&gt;\n",
       "&lt;script&gt;\n",
       "    \n",
       "    \n",
       "            var map_fb3be8b2b6c2a9d682bf9eb24da59b96 = L.map(\n",
       "                &quot;map_fb3be8b2b6c2a9d682bf9eb24da59b96&quot;,\n",
       "                {\n",
       "                    center: [48.0, 5.0],\n",
       "                    crs: L.CRS.EPSG3857,\n",
       "                    ...{\n",
       "  &quot;zoom&quot;: 6,\n",
       "  &quot;zoomControl&quot;: true,\n",
       "  &quot;preferCanvas&quot;: false,\n",
       "}\n",
       "\n",
       "                }\n",
       "            );\n",
       "\n",
       "            \n",
       "\n",
       "        \n",
       "    \n",
       "            var tile_layer_438ae44a1ce98e1aa3744039b8a555b2 = L.tileLayer(\n",
       "                &quot;https://tile.openstreetmap.org/{z}/{x}/{y}.png&quot;,\n",
       "                {\n",
       "  &quot;minZoom&quot;: 0,\n",
       "  &quot;maxZoom&quot;: 19,\n",
       "  &quot;maxNativeZoom&quot;: 19,\n",
       "  &quot;noWrap&quot;: false,\n",
       "  &quot;attribution&quot;: &quot;\\u0026copy; \\u003ca href=\\&quot;https://www.openstreetmap.org/copyright\\&quot;\\u003eOpenStreetMap\\u003c/a\\u003e contributors&quot;,\n",
       "  &quot;subdomains&quot;: &quot;abc&quot;,\n",
       "  &quot;detectRetina&quot;: false,\n",
       "  &quot;tms&quot;: false,\n",
       "  &quot;opacity&quot;: 1,\n",
       "}\n",
       "\n",
       "            );\n",
       "        \n",
       "    \n",
       "            tile_layer_438ae44a1ce98e1aa3744039b8a555b2.addTo(map_fb3be8b2b6c2a9d682bf9eb24da59b96);\n",
       "        \n",
       "    \n",
       "            var heat_map_81b7b1e0cf5a47dad76ee34dcfe4e98c = L.heatLayer(\n",
       "                [[45.65919243294477, 5.188825522855829, 1.4337178772417005], [48.42249052190957, 6.487270443591785, 0.5792909354884221], [49.21899252785913, 5.620137582021918, 2.4972823012919045], [50.252151131759355, 5.546035204115603, 1.5020173235928316], [45.89225648210827, 4.508578958432981, -1.470827569046012], [47.39825717573954, 5.482059536287267, 1.7959973620099086], [47.89552095023301, 4.940290961975757, 0.04094430952424477], [46.8427395033024, 4.618323836412575, 0.7913581393139755], [47.880669655697474, 5.7438610210702485, 1.303284557179365], [47.65442948891411, 4.539905335770128, 0.44940247062067396], [49.04867972381734, 5.278311756638923, 1.2049149892291469], [49.621045854008415, 7.214605296705124, 0.09919911698908046], [47.78978288060427, 5.6206472510960435, 0.6150497702177018], [47.82964134047187, 4.33118743180319, -0.190864190112366], [48.514266471635665, 5.252207895854056, 1.50793308848015], [48.24020154970158, 6.124976619160939, 1.0951567202537598], [46.062488848505886, 4.617972172485921, 1.4766822428632853], [47.20798170877821, 7.222589826955254, 0.9974599082073362], [47.37047851354605, 5.733866058697575, 0.5290079082541286], [48.32655382990201, 5.239789882200121, 0.5861119257902393], [47.26673515834962, 6.157903287187565, 1.0695168929493468], [47.559143329383005, 5.9163502202973675, 0.7926102133782487], [46.72789351102162, 4.88319166468175, 1.052588280080888], [49.578387702386685, 6.188581543519569, 1.842699140025882], [49.64819677505497, 5.1734880277192365, 2.2370059487836547], [46.786394089777104, 3.8112926822330038, 0.03611999785533904], [48.47342919549258, 4.80615219890448, -0.29455037783863247], [47.95922866396245, 5.609316113510797, 0.9629717594580738], [46.21934588440555, 4.594310640815368, -0.4971007076905072], [47.57378786798941, 4.411448831172501, 1.313672088863626], [50.09090757650813, 4.129443048632506, 2.447756603258229], [46.5983213839728, 4.509951943979297, 2.2891697063913954], [47.09677717831029, 4.890473816836618, 1.3528160803174099], [48.98365411799208, 4.060660168557628, 2.1840131684422883], [49.67304066434094, 5.92081835007216, 0.8527248473646099], [48.95256417880396, 4.323405021612652, 1.1908999978844692], [47.17360007987843, 5.286059551080583, 0.7743025794079773], [48.892165507346114, 4.667964226172795, 1.661828726083653], [47.800184604468036, 3.5758315897361035, 1.1837158026217618], [46.53195898111597, 4.255568745176562, 1.2591037517608388], [48.333761311564, 5.1668580815207115, 0.4976458674107409], [47.73239741845449, 4.811569355390189, 0.9752424649183272], [46.59755675978712, 6.178610406872606, 2.7224578070480296], [46.30048738667029, 4.733981500585519, -0.9708703195601887], [46.67890701785198, 5.645732396706782, -0.47739153602422624], [46.73052776065507, 3.90844139391825, 1.1069926082619377], [48.04431842748132, 3.9308471954770123, -0.6165330860185165], [48.123505951517394, 3.960788190061653, 1.8758527009437147], [49.15066495691552, 5.183399013344775, 0.4147711808463451], [47.9840337911316, 3.742027718271867, 1.638333047937258], [48.189287582363285, 3.4970585864364834, 2.1793272374434265], [47.47920430612591, 5.680748835765541, 2.2657852800808844], [47.71313864327219, 4.666959022698089, -1.3663387019008777], [48.4767491706748, 5.727430213110996, -0.6142030539771681], [46.13024390171913, 4.621686648671659, 1.8191501835569244], [46.38347368569357, 4.421060307069506, 1.9138520225501443], [48.37987109153663, 6.22084521445204, 1.7154402913176554], [47.91192576579395, 7.683172658333541, 2.481920747489835], [46.228815554233414, 4.2214992304058905, 2.438675153389758], [47.884674301885966, 5.951945742930218, 0.6159077989592516], [47.07067716357822, 6.779169998528703, 1.1066553773814496], [46.37183770885439, 4.380981694743454, 2.1081803149362486], [47.73146933617741, 3.599209316965559, 1.9974665741030382], [48.40665246112381, 5.222229172516001, -1.4163804734294279], [47.70109167488271, 4.046459276154056, 0.8516009271988408], [48.66688881836815, 5.320648657377768, 1.825204639353167], [48.04355541310072, 5.674013349746678, 1.414082694264613], [47.45003771044846, 5.907807711921872, 0.18403766473242344], [48.712008372667604, 5.654631625909246, 2.7798333100866297], [49.2773191084627, 6.390961590702487, 0.49123819814348013], [47.46628678253834, 3.6426292804879727, 0.9405544798585163], [48.5213847994464, 4.925905733381908, -0.07796249486255413], [48.51611933417418, 5.00900183620924, 2.1215895463104344], [47.45739175549711, 6.100429889582765, 0.2760070116994945], [47.67187173122488, 2.570903834536307, 1.2440343859400467], [48.15352439370296, 5.499325278621428, 0.8742024996996288], [47.99920598768396, 5.042659100837428, 0.48745698919577984], [48.743495585372, 3.2386831712227497, 2.4002503963722095], [46.380698206390385, 2.761827366642637, 0.6988466116856771], [48.53034697869797, 6.427798618050071, 2.1724322609477036], [48.535446866238445, 3.7190649038945676, 0.7129328574288806], [46.90642361263757, 5.660652581699269, -1.108969763792527], [48.36382051164658, 4.998109476377686, 3.0146020290815865], [48.71232101177349, 5.142646753104551, 0.9517781866361724], [47.84230800251805, 5.334551056123819, 0.2536871779586234], [48.20916094688138, 5.585109838484492, 2.8757657590531664], [47.15414293256693, 5.444411155326427, 1.6273707641507533], [49.67262016546539, 6.020229513762357, 0.21148017876864433], [47.88650901752315, 3.3198782080982197, 1.0362962350409466], [47.561892498990105, 3.910529272117728, 0.13444815930805287], [47.11174580295525, 6.13437445447194, 0.12378075755394646], [47.29155800510814, 3.7341051030074675, 1.5920727655739062], [46.18245342127098, 4.270270610889784, 0.6172029636897244], [46.4929910194507, 5.1426658606510545, -0.5915869633247082], [47.59681251408766, 4.666748002410924, 1.434295867076265], [48.44524604373614, 6.438728389898786, 1.0227344938098826], [47.769464729994475, 5.049125298366208, 0.9841990895120717], [47.24239784503235, 5.860764895471352, -0.25557765922634945], [47.87357880884608, 4.906660488299883, 2.491485656096401], [48.02883648333441, 4.585642596278209, 0.38410768805668005]],\n",
       "                {\n",
       "  &quot;minOpacity&quot;: 0.5,\n",
       "  &quot;maxZoom&quot;: 18,\n",
       "  &quot;radius&quot;: 25,\n",
       "  &quot;blur&quot;: 15,\n",
       "}\n",
       "            );\n",
       "        \n",
       "    \n",
       "            heat_map_81b7b1e0cf5a47dad76ee34dcfe4e98c.addTo(map_fb3be8b2b6c2a9d682bf9eb24da59b96);\n",
       "        \n",
       "&lt;/script&gt;\n",
       "&lt;/html&gt;\" style=\"position:absolute;width:100%;height:100%;left:0;top:0;border:none !important;\" allowfullscreen webkitallowfullscreen mozallowfullscreen></iframe></div></div>"
      ],
      "text/plain": [
       "<folium.folium.Map at 0x7f0d00156990>"
      ]
     },
     "execution_count": 2,
     "metadata": {},
     "output_type": "execute_result"
    }
   ],
   "source": [
    "import folium\n",
    "from folium.plugins import HeatMap\n",
    "\n",
    "m = folium.Map([48.0, 5.0], zoom_start=6)\n",
    "\n",
    "HeatMap(data).add_to(m)\n",
    "\n",
    "m"
   ]
  }
 ],
 "metadata": {
  "jupytext": {
   "text_representation": {
    "extension": ".mystnb",
    "format_name": "myst"
   }
  },
  "language_info": {
   "codemirror_mode": {
    "name": "ipython",
    "version": 3
   },
   "file_extension": ".py",
   "mimetype": "text/x-python",
   "name": "python",
   "nbconvert_exporter": "python",
   "pygments_lexer": "ipython3",
   "version": "3.12.11"
  }
 },
 "nbformat": 4,
 "nbformat_minor": 5
}
