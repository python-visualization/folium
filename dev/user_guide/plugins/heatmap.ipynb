{
 "cells": [
  {
   "cell_type": "markdown",
   "id": "2af1983b",
   "metadata": {},
   "source": [
    "## Heatmap"
   ]
  },
  {
   "cell_type": "code",
   "execution_count": 1,
   "id": "5a116db4",
   "metadata": {
    "execution": {
     "iopub.execute_input": "2025-04-19T13:11:11.153080Z",
     "iopub.status.busy": "2025-04-19T13:11:11.152708Z",
     "iopub.status.idle": "2025-04-19T13:11:11.207724Z",
     "shell.execute_reply": "2025-04-19T13:11:11.207291Z"
    }
   },
   "outputs": [],
   "source": [
    "import numpy as np\n",
    "\n",
    "data = (\n",
    "    np.random.normal(size=(100, 3)) * np.array([[1, 1, 1]]) + np.array([[48, 5, 1]])\n",
    ").tolist()"
   ]
  },
  {
   "cell_type": "code",
   "execution_count": 2,
   "id": "5ae0415b",
   "metadata": {
    "execution": {
     "iopub.execute_input": "2025-04-19T13:11:11.209830Z",
     "iopub.status.busy": "2025-04-19T13:11:11.209612Z",
     "iopub.status.idle": "2025-04-19T13:11:11.650206Z",
     "shell.execute_reply": "2025-04-19T13:11:11.649701Z"
    }
   },
   "outputs": [
    {
     "data": {
      "text/html": [
       "<div style=\"width:100%;\"><div style=\"position:relative;width:100%;height:0;padding-bottom:60%;\"><span style=\"color:#565656\">Make this Notebook Trusted to load map: File -> Trust Notebook</span><iframe srcdoc=\"&lt;!DOCTYPE html&gt;\n",
       "&lt;html&gt;\n",
       "&lt;head&gt;\n",
       "    \n",
       "    &lt;meta http-equiv=&quot;content-type&quot; content=&quot;text/html; charset=UTF-8&quot; /&gt;\n",
       "    &lt;script src=&quot;https://cdn.jsdelivr.net/npm/leaflet@1.9.3/dist/leaflet.js&quot;&gt;&lt;/script&gt;\n",
       "    &lt;script src=&quot;https://code.jquery.com/jquery-3.7.1.min.js&quot;&gt;&lt;/script&gt;\n",
       "    &lt;script src=&quot;https://cdn.jsdelivr.net/npm/bootstrap@5.2.2/dist/js/bootstrap.bundle.min.js&quot;&gt;&lt;/script&gt;\n",
       "    &lt;script src=&quot;https://cdnjs.cloudflare.com/ajax/libs/Leaflet.awesome-markers/2.0.2/leaflet.awesome-markers.js&quot;&gt;&lt;/script&gt;\n",
       "    &lt;link rel=&quot;stylesheet&quot; href=&quot;https://cdn.jsdelivr.net/npm/leaflet@1.9.3/dist/leaflet.css&quot;/&gt;\n",
       "    &lt;link rel=&quot;stylesheet&quot; href=&quot;https://cdn.jsdelivr.net/npm/bootstrap@5.2.2/dist/css/bootstrap.min.css&quot;/&gt;\n",
       "    &lt;link rel=&quot;stylesheet&quot; href=&quot;https://netdna.bootstrapcdn.com/bootstrap/3.0.0/css/bootstrap-glyphicons.css&quot;/&gt;\n",
       "    &lt;link rel=&quot;stylesheet&quot; href=&quot;https://cdn.jsdelivr.net/npm/@fortawesome/fontawesome-free@6.2.0/css/all.min.css&quot;/&gt;\n",
       "    &lt;link rel=&quot;stylesheet&quot; href=&quot;https://cdnjs.cloudflare.com/ajax/libs/Leaflet.awesome-markers/2.0.2/leaflet.awesome-markers.css&quot;/&gt;\n",
       "    &lt;link rel=&quot;stylesheet&quot; href=&quot;https://cdn.jsdelivr.net/gh/python-visualization/folium/folium/templates/leaflet.awesome.rotate.min.css&quot;/&gt;\n",
       "    \n",
       "            &lt;meta name=&quot;viewport&quot; content=&quot;width=device-width,\n",
       "                initial-scale=1.0, maximum-scale=1.0, user-scalable=no&quot; /&gt;\n",
       "            &lt;style&gt;\n",
       "                #map_fbd1241b716bbebb7cbe4b715b6e2ff0 {\n",
       "                    position: relative;\n",
       "                    width: 100.0%;\n",
       "                    height: 100.0%;\n",
       "                    left: 0.0%;\n",
       "                    top: 0.0%;\n",
       "                }\n",
       "                .leaflet-container { font-size: 1rem; }\n",
       "            &lt;/style&gt;\n",
       "\n",
       "            &lt;style&gt;html, body {\n",
       "                width: 100%;\n",
       "                height: 100%;\n",
       "                margin: 0;\n",
       "                padding: 0;\n",
       "            }\n",
       "            &lt;/style&gt;\n",
       "\n",
       "            &lt;style&gt;#map {\n",
       "                position:absolute;\n",
       "                top:0;\n",
       "                bottom:0;\n",
       "                right:0;\n",
       "                left:0;\n",
       "                }\n",
       "            &lt;/style&gt;\n",
       "\n",
       "            &lt;script&gt;\n",
       "                L_NO_TOUCH = false;\n",
       "                L_DISABLE_3D = false;\n",
       "            &lt;/script&gt;\n",
       "\n",
       "        \n",
       "    &lt;script src=&quot;https://cdn.jsdelivr.net/gh/python-visualization/folium@main/folium/templates/leaflet_heat.min.js&quot;&gt;&lt;/script&gt;\n",
       "&lt;/head&gt;\n",
       "&lt;body&gt;\n",
       "    \n",
       "    \n",
       "            &lt;div class=&quot;folium-map&quot; id=&quot;map_fbd1241b716bbebb7cbe4b715b6e2ff0&quot; &gt;&lt;/div&gt;\n",
       "        \n",
       "&lt;/body&gt;\n",
       "&lt;script&gt;\n",
       "    \n",
       "    \n",
       "            var map_fbd1241b716bbebb7cbe4b715b6e2ff0 = L.map(\n",
       "                &quot;map_fbd1241b716bbebb7cbe4b715b6e2ff0&quot;,\n",
       "                {\n",
       "                    center: [48.0, 5.0],\n",
       "                    crs: L.CRS.EPSG3857,\n",
       "                    ...{\n",
       "  &quot;zoom&quot;: 6,\n",
       "  &quot;zoomControl&quot;: true,\n",
       "  &quot;preferCanvas&quot;: false,\n",
       "}\n",
       "\n",
       "                }\n",
       "            );\n",
       "\n",
       "            \n",
       "\n",
       "        \n",
       "    \n",
       "            var tile_layer_dc20a0814770ecf9bfea410fcc8bc9be = L.tileLayer(\n",
       "                &quot;https://tile.openstreetmap.org/{z}/{x}/{y}.png&quot;,\n",
       "                {\n",
       "  &quot;minZoom&quot;: 0,\n",
       "  &quot;maxZoom&quot;: 19,\n",
       "  &quot;maxNativeZoom&quot;: 19,\n",
       "  &quot;noWrap&quot;: false,\n",
       "  &quot;attribution&quot;: &quot;\\u0026copy; \\u003ca href=\\&quot;https://www.openstreetmap.org/copyright\\&quot;\\u003eOpenStreetMap\\u003c/a\\u003e contributors&quot;,\n",
       "  &quot;subdomains&quot;: &quot;abc&quot;,\n",
       "  &quot;detectRetina&quot;: false,\n",
       "  &quot;tms&quot;: false,\n",
       "  &quot;opacity&quot;: 1,\n",
       "}\n",
       "\n",
       "            );\n",
       "        \n",
       "    \n",
       "            tile_layer_dc20a0814770ecf9bfea410fcc8bc9be.addTo(map_fbd1241b716bbebb7cbe4b715b6e2ff0);\n",
       "        \n",
       "    \n",
       "            var heat_map_c45b0f76fb4766db2505c2808d52e3c1 = L.heatLayer(\n",
       "                [[46.78070733088356, 5.747845216083759, 0.9088431699551172], [46.958337944563375, 6.684863269953865, -0.26162639644684993], [49.14541803284179, 5.475850266934828, 1.754287639287162], [48.00282096726921, 5.176106623205013, 0.8103203083002085], [47.510559417814974, 4.89583612726753, -0.8035071811140113], [48.77522570513178, 4.951633483387098, -0.5939839460890437], [47.94187510808155, 5.297641725815769, 0.14477993081598517], [48.1345072966468, 5.882128834022367, -1.1835800684308366], [48.14733394595805, 4.088801871778297, -0.09130801713880787], [47.97356070148633, 2.7812001519164675, 0.20504805116885627], [47.617660800948954, 5.276978835770043, 0.6308745148166284], [48.30416829143139, 3.9034188639181018, -0.8263726515542942], [47.478555530583314, 5.654861031503736, 0.008323632491009869], [47.68488189624946, 4.86850386354276, -0.08505224175299775], [48.23046969503007, 4.194169771108379, 1.120376455336947], [49.81215414555214, 5.080978134162951, 1.8009266360009453], [47.17354867900456, 6.608423142680984, -0.5624694620254183], [49.74016851492017, 5.1649737787435415, 0.6492261986773091], [47.87682508043482, 4.555011062548073, 3.823241408023639], [49.63434440780806, 4.781839603841376, 2.150374172689257], [48.20009591019862, 4.193956295445003, 1.4634908112508096], [47.61073825408765, 5.280776313563539, 0.33699997448990526], [47.96015601359537, 4.639957970888612, 0.23279475050249876], [48.572894083910484, 5.6794402451199435, 1.1548194442019817], [49.017965176869566, 6.127652795517143, 0.32360143068842884], [46.74487833243914, 2.822585103487327, 1.8136646453560765], [47.5550536847209, 3.921715102660266, 2.2744525249637895], [47.50644713127769, 5.043891016140438, 0.3916594020815004], [46.662981691734814, 4.452995727803429, 0.3989034634156431], [47.76367436351391, 3.473241632120425, 0.2325853196892026], [46.070714260878766, 3.7169229782640407, 1.4123810195748017], [48.171318663986526, 5.431661048266629, -0.31366394900626204], [46.82981243192372, 4.291139413096553, -0.08399567190558499], [48.2480184860601, 4.463847611332175, 1.6743957354543608], [48.24724188112671, 5.491214756291852, 0.35255708782684536], [48.07846251955411, 5.56836036099784, 0.8806401120529362], [49.612949381133035, 4.0353108507724755, 0.9764055263902103], [48.07665001612198, 5.557645825807099, -1.0203598855223412], [46.36616180168388, 5.07215406357471, 1.18684583787583], [47.70323352489754, 6.121944753444069, 1.0823730720998959], [48.39093413102299, 6.29166437076681, 0.46089868836636105], [46.867651186770495, 5.5410798268982875, 0.7752992814753564], [48.75609054176064, 4.851702929569705, 1.7515269353115508], [46.39817452290839, 5.343942606654865, 2.76808508977466], [46.905648858360664, 4.951894021585151, -1.8033103316068764], [48.323254841772254, 6.800018974647838, 0.718769715283943], [48.02269797021548, 4.03643772542177, 2.5868452874106787], [47.88936441696749, 4.96256972948719, 1.7377670825752172], [48.02285404908928, 4.433766089242537, 1.3006718282516172], [47.191349952846046, 5.238399900387078, 1.5253934190009963], [49.81400199565849, 3.8903282549068017, 0.7875816630667788], [47.2805020961775, 4.468850574968692, -0.7171837691208831], [48.36144349573145, 4.207668138794991, 0.989607199209311], [47.409304329022724, 4.141161243421164, -1.6775580609950635], [47.79391848486959, 4.66695064622743, 1.7789918649716105], [47.139007375455186, 5.27335562991696, 1.9136827088147028], [46.25446172849498, 5.581540456767167, 0.17480821621555787], [47.34755540975496, 3.659736200797417, 1.096218251070397], [47.11221000795267, 5.235091086382803, 2.454832267951489], [48.80076311401017, 5.778778447563251, 0.8219549460324855], [47.90879213618434, 5.050541839763131, 0.3674001261469677], [47.77821545450622, 4.509386822944796, 0.5516097119935232], [46.95019750691556, 3.4963740553856946, 0.9141929197554702], [48.0916026699693, 4.932271097583277, -0.6831297523246751], [47.5738670116634, 5.510291173444801, 1.8815225612408404], [48.89729505158746, 6.867341346852797, 1.280978310096346], [47.664740839188575, 5.075488859125087, 1.3916930951595008], [47.19577807694719, 5.085155026776699, 1.8463311345281668], [46.810852828310544, 5.2515459677695535, 0.9576741582391883], [47.66126649362416, 5.8059557574797145, -0.5879642358317441], [49.68473569452739, 4.276487093320056, 2.608350930692856], [47.38276869044711, 4.468789335600219, 0.7181938606906093], [49.25717751808488, 3.877539832090621, -0.9706901671397683], [49.590458578577156, 5.045592360606621, 1.7025146379088858], [46.859449740780704, 5.135478143052939, 1.3843203786501008], [48.551073882525415, 5.924004373975637, 1.078038425989107], [47.20032237596761, 5.138913119494254, 0.12099506860407838], [47.65418099254386, 7.516164606929943, -0.02561068061923666], [49.07927241971828, 4.333732699821264, 2.0702296980616275], [48.01314407695927, 5.157745898962765, 0.664318049575414], [46.84909217958384, 4.407748986562917, 1.1135834142645538], [49.12189005861025, 6.461322940326291, 1.6250261437461346], [47.62746012657247, 6.558280836102594, -0.12558241969583883], [48.70657920617009, 3.450588237669494, 0.4090113819022465], [47.80926139694715, 7.053919533842487, 0.9757380221413882], [49.237275947414865, 4.5754662353775535, 0.10894914517163712], [48.13445311227816, 5.485462908557775, 1.7791869958536752], [49.04691175881772, 4.839991110927681, -0.0817664975218293], [46.73006668522259, 4.222731975370268, 1.7286098228157183], [47.50290607540531, 7.218990253703135, 0.5911481098669565], [49.197002664780456, 4.517797781873917, 2.04630365076777], [48.798181641184165, 4.495120226050693, 0.8575827350475642], [48.48955433299576, 5.5584212799941906, 2.2891498266965016], [48.78262472214844, 5.223331149961016, -0.5980917068642659], [46.906006308419606, 3.3626814848825193, 1.020388141698085], [48.156249446600704, 5.842298951479189, 0.49027346317233245], [49.66838459332079, 4.8339137161508345, 0.7395499451118749], [47.87588716364724, 5.454234288355671, 0.7536788728626036], [47.20832397650637, 4.730079636898124, 1.1864366175539862], [49.897900136908966, 3.5575745489942374, 1.7034460810350738]],\n",
       "                {\n",
       "  &quot;minOpacity&quot;: 0.5,\n",
       "  &quot;maxZoom&quot;: 18,\n",
       "  &quot;radius&quot;: 25,\n",
       "  &quot;blur&quot;: 15,\n",
       "}\n",
       "            );\n",
       "        \n",
       "    \n",
       "            heat_map_c45b0f76fb4766db2505c2808d52e3c1.addTo(map_fbd1241b716bbebb7cbe4b715b6e2ff0);\n",
       "        \n",
       "&lt;/script&gt;\n",
       "&lt;/html&gt;\" style=\"position:absolute;width:100%;height:100%;left:0;top:0;border:none !important;\" allowfullscreen webkitallowfullscreen mozallowfullscreen></iframe></div></div>"
      ],
      "text/plain": [
       "<folium.folium.Map at 0x7f0b581a6b70>"
      ]
     },
     "execution_count": 2,
     "metadata": {},
     "output_type": "execute_result"
    }
   ],
   "source": [
    "import folium\n",
    "from folium.plugins import HeatMap\n",
    "\n",
    "m = folium.Map([48.0, 5.0], zoom_start=6)\n",
    "\n",
    "HeatMap(data).add_to(m)\n",
    "\n",
    "m"
   ]
  }
 ],
 "metadata": {
  "jupytext": {
   "text_representation": {
    "extension": ".mystnb",
    "format_name": "myst"
   }
  },
  "language_info": {
   "codemirror_mode": {
    "name": "ipython",
    "version": 3
   },
   "file_extension": ".py",
   "mimetype": "text/x-python",
   "name": "python",
   "nbconvert_exporter": "python",
   "pygments_lexer": "ipython3",
   "version": "3.12.10"
  }
 },
 "nbformat": 4,
 "nbformat_minor": 5
}
