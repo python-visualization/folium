{
 "cells": [
  {
   "cell_type": "markdown",
   "id": "217fd030",
   "metadata": {},
   "source": [
    "## Heatmap"
   ]
  },
  {
   "cell_type": "code",
   "execution_count": 1,
   "id": "a3a92cb1",
   "metadata": {
    "execution": {
     "iopub.execute_input": "2025-08-12T18:03:13.303909Z",
     "iopub.status.busy": "2025-08-12T18:03:13.303734Z",
     "iopub.status.idle": "2025-08-12T18:03:13.359188Z",
     "shell.execute_reply": "2025-08-12T18:03:13.358718Z"
    }
   },
   "outputs": [],
   "source": [
    "import numpy as np\n",
    "\n",
    "data = (\n",
    "    np.random.normal(size=(100, 3)) * np.array([[1, 1, 1]]) + np.array([[48, 5, 1]])\n",
    ").tolist()"
   ]
  },
  {
   "cell_type": "code",
   "execution_count": 2,
   "id": "65f4cc9d",
   "metadata": {
    "execution": {
     "iopub.execute_input": "2025-08-12T18:03:13.361239Z",
     "iopub.status.busy": "2025-08-12T18:03:13.361021Z",
     "iopub.status.idle": "2025-08-12T18:03:13.775961Z",
     "shell.execute_reply": "2025-08-12T18:03:13.775445Z"
    }
   },
   "outputs": [
    {
     "data": {
      "text/html": [
       "<div style=\"width:100%;\"><div style=\"position:relative;width:100%;height:0;padding-bottom:60%;\"><span style=\"color:#565656\">Make this Notebook Trusted to load map: File -> Trust Notebook</span><iframe srcdoc=\"&lt;!DOCTYPE html&gt;\n",
       "&lt;html&gt;\n",
       "&lt;head&gt;\n",
       "    \n",
       "    &lt;meta http-equiv=&quot;content-type&quot; content=&quot;text/html; charset=UTF-8&quot; /&gt;\n",
       "    &lt;script src=&quot;https://cdn.jsdelivr.net/npm/leaflet@1.9.3/dist/leaflet.js&quot;&gt;&lt;/script&gt;\n",
       "    &lt;script src=&quot;https://code.jquery.com/jquery-3.7.1.min.js&quot;&gt;&lt;/script&gt;\n",
       "    &lt;script src=&quot;https://cdn.jsdelivr.net/npm/bootstrap@5.2.2/dist/js/bootstrap.bundle.min.js&quot;&gt;&lt;/script&gt;\n",
       "    &lt;script src=&quot;https://cdnjs.cloudflare.com/ajax/libs/Leaflet.awesome-markers/2.0.2/leaflet.awesome-markers.js&quot;&gt;&lt;/script&gt;\n",
       "    &lt;link rel=&quot;stylesheet&quot; href=&quot;https://cdn.jsdelivr.net/npm/leaflet@1.9.3/dist/leaflet.css&quot;/&gt;\n",
       "    &lt;link rel=&quot;stylesheet&quot; href=&quot;https://cdn.jsdelivr.net/npm/bootstrap@5.2.2/dist/css/bootstrap.min.css&quot;/&gt;\n",
       "    &lt;link rel=&quot;stylesheet&quot; href=&quot;https://netdna.bootstrapcdn.com/bootstrap/3.0.0/css/bootstrap-glyphicons.css&quot;/&gt;\n",
       "    &lt;link rel=&quot;stylesheet&quot; href=&quot;https://cdn.jsdelivr.net/npm/@fortawesome/fontawesome-free@6.2.0/css/all.min.css&quot;/&gt;\n",
       "    &lt;link rel=&quot;stylesheet&quot; href=&quot;https://cdnjs.cloudflare.com/ajax/libs/Leaflet.awesome-markers/2.0.2/leaflet.awesome-markers.css&quot;/&gt;\n",
       "    &lt;link rel=&quot;stylesheet&quot; href=&quot;https://cdn.jsdelivr.net/gh/python-visualization/folium/folium/templates/leaflet.awesome.rotate.min.css&quot;/&gt;\n",
       "    \n",
       "            &lt;meta name=&quot;viewport&quot; content=&quot;width=device-width,\n",
       "                initial-scale=1.0, maximum-scale=1.0, user-scalable=no&quot; /&gt;\n",
       "            &lt;style&gt;\n",
       "                #map_fa5e07c003f7b65c7acacab33af31435 {\n",
       "                    position: relative;\n",
       "                    width: 100.0%;\n",
       "                    height: 100.0%;\n",
       "                    left: 0.0%;\n",
       "                    top: 0.0%;\n",
       "                }\n",
       "                .leaflet-container { font-size: 1rem; }\n",
       "            &lt;/style&gt;\n",
       "\n",
       "            &lt;style&gt;html, body {\n",
       "                width: 100%;\n",
       "                height: 100%;\n",
       "                margin: 0;\n",
       "                padding: 0;\n",
       "            }\n",
       "            &lt;/style&gt;\n",
       "\n",
       "            &lt;style&gt;#map {\n",
       "                position:absolute;\n",
       "                top:0;\n",
       "                bottom:0;\n",
       "                right:0;\n",
       "                left:0;\n",
       "                }\n",
       "            &lt;/style&gt;\n",
       "\n",
       "            &lt;script&gt;\n",
       "                L_NO_TOUCH = false;\n",
       "                L_DISABLE_3D = false;\n",
       "            &lt;/script&gt;\n",
       "\n",
       "        \n",
       "    &lt;script src=&quot;https://cdn.jsdelivr.net/gh/python-visualization/folium@main/folium/templates/leaflet_heat.min.js&quot;&gt;&lt;/script&gt;\n",
       "&lt;/head&gt;\n",
       "&lt;body&gt;\n",
       "    \n",
       "    \n",
       "            &lt;div class=&quot;folium-map&quot; id=&quot;map_fa5e07c003f7b65c7acacab33af31435&quot; &gt;&lt;/div&gt;\n",
       "        \n",
       "&lt;/body&gt;\n",
       "&lt;script&gt;\n",
       "    \n",
       "    \n",
       "            var map_fa5e07c003f7b65c7acacab33af31435 = L.map(\n",
       "                &quot;map_fa5e07c003f7b65c7acacab33af31435&quot;,\n",
       "                {\n",
       "                    center: [48.0, 5.0],\n",
       "                    crs: L.CRS.EPSG3857,\n",
       "                    ...{\n",
       "  &quot;zoom&quot;: 6,\n",
       "  &quot;zoomControl&quot;: true,\n",
       "  &quot;preferCanvas&quot;: false,\n",
       "}\n",
       "\n",
       "                }\n",
       "            );\n",
       "\n",
       "            \n",
       "\n",
       "        \n",
       "    \n",
       "            var tile_layer_31acfdef5c5d1c2a77ccab2cf85bca2d = L.tileLayer(\n",
       "                &quot;https://tile.openstreetmap.org/{z}/{x}/{y}.png&quot;,\n",
       "                {\n",
       "  &quot;minZoom&quot;: 0,\n",
       "  &quot;maxZoom&quot;: 19,\n",
       "  &quot;maxNativeZoom&quot;: 19,\n",
       "  &quot;noWrap&quot;: false,\n",
       "  &quot;attribution&quot;: &quot;\\u0026copy; \\u003ca href=\\&quot;https://www.openstreetmap.org/copyright\\&quot;\\u003eOpenStreetMap\\u003c/a\\u003e contributors&quot;,\n",
       "  &quot;subdomains&quot;: &quot;abc&quot;,\n",
       "  &quot;detectRetina&quot;: false,\n",
       "  &quot;tms&quot;: false,\n",
       "  &quot;opacity&quot;: 1,\n",
       "}\n",
       "\n",
       "            );\n",
       "        \n",
       "    \n",
       "            tile_layer_31acfdef5c5d1c2a77ccab2cf85bca2d.addTo(map_fa5e07c003f7b65c7acacab33af31435);\n",
       "        \n",
       "    \n",
       "            var heat_map_9bbef31f442318f6cb5a69fd5c6e0cd2 = L.heatLayer(\n",
       "                [[45.291541598475504, 4.97335269110854, 0.835662469823393], [49.41658227653068, 6.119818616759202, 0.3945221399442028], [47.18803352991438, 5.5917457598544615, 1.7606098809217112], [47.71471702553231, 5.134313798604904, 1.5429873539206695], [46.53147295762652, 3.679174652070688, -0.21818909366762385], [48.674801251760556, 5.3366350033256, 1.286906016230628], [46.28329743715223, 4.807932185793221, -0.6779174598525779], [47.82444038567152, 6.83545729196536, 0.21341944672665913], [49.433725443080334, 5.661493997606616, 1.3656973236395236], [47.837675188838716, 4.813695260325063, 1.3817999349554981], [48.37108267526472, 5.235948733267549, 1.0562850280300016], [47.5465055928438, 4.628239581449966, 0.95199612166927], [46.72123705616226, 6.283643723752024, -0.7194285207272848], [48.94298988133398, 4.77212357033544, 1.6532929814913482], [48.691516403101744, 5.180543177339264, 0.5364136671182594], [48.38677598019812, 5.120563066967983, 0.5527369468898606], [49.59407870263902, 5.27631288950604, 1.1846037318458225], [49.06866840513933, 5.949377937809049, 0.04877518297129446], [46.32779543786369, 5.177754775356281, 1.847126295069693], [49.18726667785416, 4.975072744164655, 0.43238209141302997], [50.65862241389583, 4.349961317644185, 1.3466765677859214], [48.153297961443215, 7.148064114810955, 0.2478307367222955], [46.98694110606368, 4.201937311269661, 0.35514035561348], [48.19099332239954, 5.57072760955572, 2.1660227199673723], [48.124608901675956, 3.8196373138165027, 2.4819215874472316], [47.93284799394526, 5.188600369916636, 2.134207635335625], [48.479763546782884, 5.514530266006285, 1.4139896012327562], [48.75106233300822, 3.9923428976715485, 3.2996906628521976], [46.88836577121864, 4.501684230504426, -1.4514782558973724], [48.933616377405656, 6.843841991367954, 1.536472585454626], [47.53737465194729, 2.1058408368869066, 1.2214507337461689], [48.86406548557273, 5.030088728364017, -0.0781120634073813], [46.6139594928309, 3.9098254113999156, 1.045120857187197], [49.444664388713264, 3.5601647065408892, -0.7969187719110609], [47.69704195435958, 4.81281986609169, 1.6721019045799355], [49.726512700532915, 5.12802816862735, 1.7489944755921174], [50.70879487672522, 5.227202604166901, 2.9770454110234557], [47.31498315525721, 3.335906712502708, 0.8134570795465373], [47.62537262598138, 5.5835603504842615, 1.6432331302870322], [47.8400196063577, 5.5793246870955135, -0.4230438850128797], [47.19677338666588, 6.804294170204756, 0.11844012814443172], [48.08709531727291, 4.852941150290564, 2.3046170777494823], [47.166135517916196, 5.993384262964576, 1.5370011450813803], [48.48635772958313, 6.738251339864553, 1.1447850092460512], [46.96793518584188, 5.377547295739406, 0.7341641000278318], [47.07880229175162, 3.2730429707171216, 1.6413589954317815], [47.22680886121361, 5.2049196742680515, 0.7500413976895084], [49.9367100969221, 4.881382542701748, 1.5184149486205882], [46.928388425837646, 6.135672083148434, -0.7182380095862035], [48.85585934168626, 5.636816845469419, 0.7469263329537235], [49.18996098706856, 5.362996845296303, 0.006446860750347172], [48.06618837527729, 4.407289424832123, 0.6584472208668243], [49.52596685075059, 5.56409223213835, -0.17045932564143262], [47.03346814901001, 5.102629925427045, 0.13641856017340115], [47.591507863616904, 4.316675110101377, 2.147050705325175], [50.29204915606416, 6.684666173244814, 3.331170084264902], [47.06748597438546, 4.2093147153635115, 0.816191790793064], [47.71038501137491, 5.580022786705882, -0.030072085078513], [48.599817089537346, 6.591827080409237, 3.424383401034318], [48.59221091582727, 4.349204888069148, 2.1521654076372663], [48.01441040568314, 4.9188361050070695, 2.0744830849949567], [48.91600930999987, 6.90014287147447, 0.7987835636012152], [48.42585685231644, 5.426519284140237, 0.6857596626147551], [48.50959192676508, 4.713719018690751, 0.7781077669161571], [48.05830268276496, 3.7979618094191405, 2.7901762581275236], [47.81835098597986, 4.3539680644330065, 0.9558264638806242], [47.28152407160219, 5.622181409722311, 0.5375919187106826], [47.054218925792775, 4.958431920966312, 1.361039950321417], [46.46776915343963, 4.7619458720261, 1.5125592313786607], [49.08781783348244, 7.011957544085666, 2.8823608626360393], [49.623189472795055, 4.066293054483133, 0.1503424684965594], [48.33596341573814, 3.0554314881444884, 0.8986557572030112], [46.21696021354326, 3.870672571838946, 2.3937280414866855], [46.343247034692894, 4.640228658393729, 1.1115338310853216], [49.314834424874846, 5.083892403393067, 0.1646456076682017], [48.97072856946386, 5.044604488645668, 0.13060893929762085], [48.09167983017648, 5.89533917091474, 0.8166906154959133], [46.227850007562765, 8.117571621935484, 0.7566404232361833], [47.91119737406409, 4.96683699784687, 1.276051130346481], [48.65473329529867, 4.426057343419342, 1.2297627583307909], [48.4142659890641, 3.944361607868691, -0.18061351309253104], [49.547022682431816, 4.610114098198162, 1.0898284396703626], [47.947092876515384, 4.016650636675414, -0.5273662991940917], [46.75830043526952, 4.349480323947103, 1.4791915385570327], [48.567286056548284, 6.269282100354455, -2.525000897253288], [48.09888981335608, 4.20801240169009, 1.7786341058116646], [49.326097618982985, 5.68090965835805, 0.3297626068438907], [48.82193281016815, 6.317236972925118, 2.614000917588671], [47.93418904005174, 4.721314284591011, 1.852371500114926], [47.22641535228189, 5.418425862096895, 1.3128283322667575], [49.071549972088114, 5.630349154758424, 0.8154192789730939], [47.89433623465821, 6.022699641065339, 0.3067328018402955], [48.252182372585175, 4.949558722113674, 3.5410579130867923], [49.06591226928916, 4.9027764781711785, -0.25751523475050697], [48.69603463590529, 4.133711545422154, -0.4276305092546415], [47.66201923090712, 5.458437108645048, 3.224571775405447], [46.87232562408784, 5.908847960234839, 1.476631114184915], [48.41728127590677, 3.660582519313773, -0.018227635174006496], [46.780090919328764, 4.5580545908135734, 1.1857705499151356], [48.31475466365618, 4.908945419984886, 2.8956186033958033]],\n",
       "                {\n",
       "  &quot;minOpacity&quot;: 0.5,\n",
       "  &quot;maxZoom&quot;: 18,\n",
       "  &quot;radius&quot;: 25,\n",
       "  &quot;blur&quot;: 15,\n",
       "}\n",
       "            );\n",
       "        \n",
       "    \n",
       "            heat_map_9bbef31f442318f6cb5a69fd5c6e0cd2.addTo(map_fa5e07c003f7b65c7acacab33af31435);\n",
       "        \n",
       "&lt;/script&gt;\n",
       "&lt;/html&gt;\" style=\"position:absolute;width:100%;height:100%;left:0;top:0;border:none !important;\" allowfullscreen webkitallowfullscreen mozallowfullscreen></iframe></div></div>"
      ],
      "text/plain": [
       "<folium.folium.Map at 0x7f23cc921d30>"
      ]
     },
     "execution_count": 2,
     "metadata": {},
     "output_type": "execute_result"
    }
   ],
   "source": [
    "import folium\n",
    "from folium.plugins import HeatMap\n",
    "\n",
    "m = folium.Map([48.0, 5.0], zoom_start=6)\n",
    "\n",
    "HeatMap(data).add_to(m)\n",
    "\n",
    "m"
   ]
  }
 ],
 "metadata": {
  "jupytext": {
   "text_representation": {
    "extension": ".mystnb",
    "format_name": "myst"
   }
  },
  "language_info": {
   "codemirror_mode": {
    "name": "ipython",
    "version": 3
   },
   "file_extension": ".py",
   "mimetype": "text/x-python",
   "name": "python",
   "nbconvert_exporter": "python",
   "pygments_lexer": "ipython3",
   "version": "3.13.5"
  }
 },
 "nbformat": 4,
 "nbformat_minor": 5
}
