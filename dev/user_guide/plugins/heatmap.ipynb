{
 "cells": [
  {
   "cell_type": "markdown",
   "id": "9114349a",
   "metadata": {},
   "source": [
    "## Heatmap"
   ]
  },
  {
   "cell_type": "code",
   "execution_count": 1,
   "id": "430e4b64",
   "metadata": {
    "execution": {
     "iopub.execute_input": "2025-03-15T12:59:22.768602Z",
     "iopub.status.busy": "2025-03-15T12:59:22.768442Z",
     "iopub.status.idle": "2025-03-15T12:59:22.822985Z",
     "shell.execute_reply": "2025-03-15T12:59:22.822559Z"
    }
   },
   "outputs": [],
   "source": [
    "import numpy as np\n",
    "\n",
    "data = (\n",
    "    np.random.normal(size=(100, 3)) * np.array([[1, 1, 1]]) + np.array([[48, 5, 1]])\n",
    ").tolist()"
   ]
  },
  {
   "cell_type": "code",
   "execution_count": 2,
   "id": "83e8be92",
   "metadata": {
    "execution": {
     "iopub.execute_input": "2025-03-15T12:59:22.825034Z",
     "iopub.status.busy": "2025-03-15T12:59:22.824820Z",
     "iopub.status.idle": "2025-03-15T12:59:23.263626Z",
     "shell.execute_reply": "2025-03-15T12:59:23.263206Z"
    }
   },
   "outputs": [
    {
     "data": {
      "text/html": [
       "<div style=\"width:100%;\"><div style=\"position:relative;width:100%;height:0;padding-bottom:60%;\"><span style=\"color:#565656\">Make this Notebook Trusted to load map: File -> Trust Notebook</span><iframe srcdoc=\"&lt;!DOCTYPE html&gt;\n",
       "&lt;html&gt;\n",
       "&lt;head&gt;\n",
       "    \n",
       "    &lt;meta http-equiv=&quot;content-type&quot; content=&quot;text/html; charset=UTF-8&quot; /&gt;\n",
       "    \n",
       "        &lt;script&gt;\n",
       "            L_NO_TOUCH = false;\n",
       "            L_DISABLE_3D = false;\n",
       "        &lt;/script&gt;\n",
       "    \n",
       "    &lt;style&gt;html, body {width: 100%;height: 100%;margin: 0;padding: 0;}&lt;/style&gt;\n",
       "    &lt;style&gt;#map {position:absolute;top:0;bottom:0;right:0;left:0;}&lt;/style&gt;\n",
       "    &lt;script src=&quot;https://cdn.jsdelivr.net/npm/leaflet@1.9.3/dist/leaflet.js&quot;&gt;&lt;/script&gt;\n",
       "    &lt;script src=&quot;https://code.jquery.com/jquery-3.7.1.min.js&quot;&gt;&lt;/script&gt;\n",
       "    &lt;script src=&quot;https://cdn.jsdelivr.net/npm/bootstrap@5.2.2/dist/js/bootstrap.bundle.min.js&quot;&gt;&lt;/script&gt;\n",
       "    &lt;script src=&quot;https://cdnjs.cloudflare.com/ajax/libs/Leaflet.awesome-markers/2.0.2/leaflet.awesome-markers.js&quot;&gt;&lt;/script&gt;\n",
       "    &lt;link rel=&quot;stylesheet&quot; href=&quot;https://cdn.jsdelivr.net/npm/leaflet@1.9.3/dist/leaflet.css&quot;/&gt;\n",
       "    &lt;link rel=&quot;stylesheet&quot; href=&quot;https://cdn.jsdelivr.net/npm/bootstrap@5.2.2/dist/css/bootstrap.min.css&quot;/&gt;\n",
       "    &lt;link rel=&quot;stylesheet&quot; href=&quot;https://netdna.bootstrapcdn.com/bootstrap/3.0.0/css/bootstrap-glyphicons.css&quot;/&gt;\n",
       "    &lt;link rel=&quot;stylesheet&quot; href=&quot;https://cdn.jsdelivr.net/npm/@fortawesome/fontawesome-free@6.2.0/css/all.min.css&quot;/&gt;\n",
       "    &lt;link rel=&quot;stylesheet&quot; href=&quot;https://cdnjs.cloudflare.com/ajax/libs/Leaflet.awesome-markers/2.0.2/leaflet.awesome-markers.css&quot;/&gt;\n",
       "    &lt;link rel=&quot;stylesheet&quot; href=&quot;https://cdn.jsdelivr.net/gh/python-visualization/folium/folium/templates/leaflet.awesome.rotate.min.css&quot;/&gt;\n",
       "    \n",
       "            &lt;meta name=&quot;viewport&quot; content=&quot;width=device-width,\n",
       "                initial-scale=1.0, maximum-scale=1.0, user-scalable=no&quot; /&gt;\n",
       "            &lt;style&gt;\n",
       "                #map_12dbbcf25e2a7e5d833f8f4b519bbdf3 {\n",
       "                    position: relative;\n",
       "                    width: 100.0%;\n",
       "                    height: 100.0%;\n",
       "                    left: 0.0%;\n",
       "                    top: 0.0%;\n",
       "                }\n",
       "                .leaflet-container { font-size: 1rem; }\n",
       "            &lt;/style&gt;\n",
       "        \n",
       "    &lt;script src=&quot;https://cdn.jsdelivr.net/gh/python-visualization/folium@main/folium/templates/leaflet_heat.min.js&quot;&gt;&lt;/script&gt;\n",
       "&lt;/head&gt;\n",
       "&lt;body&gt;\n",
       "    \n",
       "    \n",
       "            &lt;div class=&quot;folium-map&quot; id=&quot;map_12dbbcf25e2a7e5d833f8f4b519bbdf3&quot; &gt;&lt;/div&gt;\n",
       "        \n",
       "&lt;/body&gt;\n",
       "&lt;script&gt;\n",
       "    \n",
       "    \n",
       "            var map_12dbbcf25e2a7e5d833f8f4b519bbdf3 = L.map(\n",
       "                &quot;map_12dbbcf25e2a7e5d833f8f4b519bbdf3&quot;,\n",
       "                {\n",
       "                    center: [48.0, 5.0],\n",
       "                    crs: L.CRS.EPSG3857,\n",
       "                    ...{\n",
       "  &quot;zoom&quot;: 6,\n",
       "  &quot;zoomControl&quot;: true,\n",
       "  &quot;preferCanvas&quot;: false,\n",
       "}\n",
       "\n",
       "                }\n",
       "            );\n",
       "\n",
       "            \n",
       "\n",
       "        \n",
       "    \n",
       "            var tile_layer_a68415180edf309e6f5dcabee980833b = L.tileLayer(\n",
       "                &quot;https://tile.openstreetmap.org/{z}/{x}/{y}.png&quot;,\n",
       "                {\n",
       "  &quot;minZoom&quot;: 0,\n",
       "  &quot;maxZoom&quot;: 19,\n",
       "  &quot;maxNativeZoom&quot;: 19,\n",
       "  &quot;noWrap&quot;: false,\n",
       "  &quot;attribution&quot;: &quot;\\u0026copy; \\u003ca href=\\&quot;https://www.openstreetmap.org/copyright\\&quot;\\u003eOpenStreetMap\\u003c/a\\u003e contributors&quot;,\n",
       "  &quot;subdomains&quot;: &quot;abc&quot;,\n",
       "  &quot;detectRetina&quot;: false,\n",
       "  &quot;tms&quot;: false,\n",
       "  &quot;opacity&quot;: 1,\n",
       "}\n",
       "\n",
       "            );\n",
       "        \n",
       "    \n",
       "            tile_layer_a68415180edf309e6f5dcabee980833b.addTo(map_12dbbcf25e2a7e5d833f8f4b519bbdf3);\n",
       "        \n",
       "    \n",
       "            var heat_map_fbc0d3a77c2ff364ff6b63851c42d165 = L.heatLayer(\n",
       "                [[48.528862002426784, 3.7901393471823326, 0.9434556612424567], [48.7396179351459, 6.020852815142756, -0.4505945596205272], [47.88008666182645, 4.840643833624363, 2.7580187188344256], [48.368009937046175, 7.037878977962913, 1.9312176043451217], [49.41866276098721, 3.9138374471360957, 0.2427221756816269], [49.15575066667138, 5.699705280867558, 2.5560815757433404], [48.29510082480133, 6.283078408339023, 1.4567507364394885], [49.71817799557997, 5.0593863386410245, 0.4933927960930051], [48.07466828896426, 4.042958692171113, 0.23499009670767845], [48.719616667133096, 1.4303319977179263, 1.2813785620245024], [49.29213446091638, 4.9828284013556745, 2.330098940942466], [47.491739600310936, 6.771011181837083, 1.2690729156439902], [47.85627488279083, 5.9031063956165255, 1.11528941405932], [48.663673689025764, 4.648758341591485, -0.1172775271631481], [47.25390899545167, 2.741872266273644, 1.935359455124137], [48.21994646976569, 4.334923786177814, 0.48872879666376545], [45.582740366799925, 5.619327509496813, 1.5879089763605916], [49.28876197708255, 6.660851253607847, 0.5474800567370967], [47.91158074831598, 5.436789236072547, -0.3600749307398179], [48.60106750098901, 2.8694072145269, 0.4653175488053567], [48.07537768514574, 4.512810949042035, -0.044078480014978716], [48.50127268347986, 5.497316718612663, -0.932736921235374], [50.55292053289876, 5.660679811422078, 0.35001730819919397], [49.59975696780527, 5.084721736125946, 2.013569673327567], [47.746055246665506, 5.520109818077153, 1.7961889307985748], [46.57399573381416, 5.006421737156621, -0.6374827748241119], [47.89838006824839, 4.7770208982349285, 0.8727493977053273], [49.638783784117685, 3.563144758281563, 0.5534863468644147], [46.87826973321417, 6.851447441665599, -0.22177990071349618], [47.39916536280076, 4.286241345369479, 2.1692590231683218], [49.37299646461572, 4.006022846524793, 1.038869673885396], [48.84459232666427, 2.104496601248207, 0.3781659467480438], [47.68422131547445, 5.5251588652956345, 1.1459712453961473], [47.2115180026506, 4.113821166522465, 2.1088179035195904], [50.19956890792918, 5.172900328394452, 0.3665532238420217], [46.220242421178995, 4.65897498518375, 1.604702531715224], [47.141121614009776, 5.262327839091821, 0.00882201492448964], [48.89994332282105, 4.292075186226108, -2.8131244967001066], [48.74513896871213, 4.916330057862181, 0.5090127912730755], [47.730812815435016, 5.32927665044487, -0.9338766278671098], [48.44695239036688, 4.388803710388919, 1.672079405190288], [48.43377148797425, 4.186179447219968, 2.2642717294073846], [46.932694777312626, 2.795068646405723, 0.5985388031278862], [47.53645649460244, 5.097210816767364, 1.4065512708209709], [47.60017533714221, 4.178100378634778, 0.09518027383311567], [49.072181248806366, 5.7971002881458675, 2.063225259978678], [47.546516027337184, 5.812221259714153, 1.3290729503565752], [47.42926070685844, 5.88217605333205, 0.8984977356279117], [50.063589452384306, 4.6340020968706845, 0.48405838525544964], [46.71616980619655, 4.442267033468739, 0.7444783167319021], [46.197214713652315, 4.155592524084385, 0.6845473723165597], [48.64791325287665, 4.869613570134452, -1.2108670277415698], [46.812416589179165, 5.021438117892716, 0.41526199108680206], [47.95851299300575, 3.845568132250757, -1.5754347650211864], [47.04889311572456, 4.519680390388053, 1.627184163030961], [48.47532445942072, 5.17881142569448, 2.590748360463671], [46.62234637618762, 3.058402677011565, 1.4970274655073186], [46.85824267835656, 5.493160213972431, 0.02625272653902444], [47.45336831918051, 5.783136768017727, 2.2216821527890716], [47.417997461502026, 4.432256960597225, 2.247817216732773], [46.993484039332515, 4.967251517778613, 0.6519617006802436], [48.64320955104973, 5.464796666244719, 2.1358253591496226], [48.04722248698675, 5.807432942168493, 1.062538536966436], [48.38271664007545, 4.861260619044018, -0.6674137297056697], [46.92509854699201, 4.865646274355306, 0.32758961493337746], [47.210434121891, 4.227206329598796, 0.7604576249693064], [48.37483916688038, 6.964716248743308, 1.062400061360089], [47.085431921069635, 5.939844486158134, 0.8721567486781087], [47.90423530908585, 5.435055143009026, 0.2391038257212803], [48.02219818345981, 5.043784193790681, 2.5765455227555254], [47.527963714864676, 4.956232254790595, 1.3651264770915779], [46.90181518862335, 3.766919339756835, -1.4076654812095986], [49.28855478202242, 4.692756531394511, 1.0128655787755947], [46.562611971724955, 3.6496200168897506, 1.831169256581784], [46.23501399298818, 4.703080951060205, 0.22731902514584235], [47.702889107668916, 4.798853048138568, 1.1609166672439313], [48.5905431091469, 5.457818079374189, 1.0579120879365382], [47.88702721185889, 5.856563877572553, 1.104615957452478], [47.67109891976066, 5.4971511582346135, 2.048402378978319], [47.250395569498124, 4.060464350387233, 1.6330392601208144], [47.686501370720485, 5.993553988771704, 0.9690246478939478], [47.96382123929394, 4.601655774791958, 0.9246852775893276], [48.392830967516055, 3.963025414792093, 1.364347271583823], [47.033177385845825, 3.4195315393930086, 0.20448301867556984], [50.05787223857375, 3.368256651371899, 0.7290463856913718], [49.10611792689469, 3.9989186697526513, 0.5150151014390011], [48.95382676303167, 5.856900018710989, 1.2386691472080842], [48.956870938194484, 5.092589091519108, 2.794635212199992], [48.78906124242226, 5.836201489621937, 0.7667709536379751], [49.15391714858816, 0.8677306543113295, 1.9319041382444713], [48.54312721448915, 4.6173153352317975, 0.2097025639865402], [49.9790579120745, 4.871621067804827, 1.0720444582703041], [47.493956986641436, 2.9021816980324564, -0.3042454663552576], [50.0165966363008, 5.869063112873257, 1.0573096154394797], [48.192545990179774, 5.181917909692225, 0.9056730686626361], [50.807782874532755, 7.139861431913165, 0.4093270730942149], [47.535107604757414, 6.8499104335827585, 0.4564956423741333], [48.48942111103426, 5.28625745795624, 0.6314892409447004], [48.78303330424299, 4.008947179750532, 0.12253189896305294], [48.83823066694651, 4.572377424545735, 1.2009186223496946]],\n",
       "                {\n",
       "  &quot;minOpacity&quot;: 0.5,\n",
       "  &quot;maxZoom&quot;: 18,\n",
       "  &quot;radius&quot;: 25,\n",
       "  &quot;blur&quot;: 15,\n",
       "}\n",
       "            );\n",
       "        \n",
       "    \n",
       "            heat_map_fbc0d3a77c2ff364ff6b63851c42d165.addTo(map_12dbbcf25e2a7e5d833f8f4b519bbdf3);\n",
       "        \n",
       "&lt;/script&gt;\n",
       "&lt;/html&gt;\" style=\"position:absolute;width:100%;height:100%;left:0;top:0;border:none !important;\" allowfullscreen webkitallowfullscreen mozallowfullscreen></iframe></div></div>"
      ],
      "text/plain": [
       "<folium.folium.Map at 0x7f94b447df70>"
      ]
     },
     "execution_count": 2,
     "metadata": {},
     "output_type": "execute_result"
    }
   ],
   "source": [
    "import folium\n",
    "from folium.plugins import HeatMap\n",
    "\n",
    "m = folium.Map([48.0, 5.0], zoom_start=6)\n",
    "\n",
    "HeatMap(data).add_to(m)\n",
    "\n",
    "m"
   ]
  }
 ],
 "metadata": {
  "jupytext": {
   "text_representation": {
    "extension": ".mystnb",
    "format_name": "myst"
   }
  },
  "language_info": {
   "codemirror_mode": {
    "name": "ipython",
    "version": 3
   },
   "file_extension": ".py",
   "mimetype": "text/x-python",
   "name": "python",
   "nbconvert_exporter": "python",
   "pygments_lexer": "ipython3",
   "version": "3.12.9"
  }
 },
 "nbformat": 4,
 "nbformat_minor": 5
}
