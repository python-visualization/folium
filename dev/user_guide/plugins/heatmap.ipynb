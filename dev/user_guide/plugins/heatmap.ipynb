{
 "cells": [
  {
   "cell_type": "markdown",
   "id": "88672be2",
   "metadata": {},
   "source": [
    "## Heatmap"
   ]
  },
  {
   "cell_type": "code",
   "execution_count": 1,
   "id": "79877bc6",
   "metadata": {
    "execution": {
     "iopub.execute_input": "2025-08-03T13:18:09.285444Z",
     "iopub.status.busy": "2025-08-03T13:18:09.285227Z",
     "iopub.status.idle": "2025-08-03T13:18:09.341257Z",
     "shell.execute_reply": "2025-08-03T13:18:09.340827Z"
    }
   },
   "outputs": [],
   "source": [
    "import numpy as np\n",
    "\n",
    "data = (\n",
    "    np.random.normal(size=(100, 3)) * np.array([[1, 1, 1]]) + np.array([[48, 5, 1]])\n",
    ").tolist()"
   ]
  },
  {
   "cell_type": "code",
   "execution_count": 2,
   "id": "a9ffed8b",
   "metadata": {
    "execution": {
     "iopub.execute_input": "2025-08-03T13:18:09.343236Z",
     "iopub.status.busy": "2025-08-03T13:18:09.343018Z",
     "iopub.status.idle": "2025-08-03T13:18:09.758363Z",
     "shell.execute_reply": "2025-08-03T13:18:09.757895Z"
    }
   },
   "outputs": [
    {
     "data": {
      "text/html": [
       "<div style=\"width:100%;\"><div style=\"position:relative;width:100%;height:0;padding-bottom:60%;\"><span style=\"color:#565656\">Make this Notebook Trusted to load map: File -> Trust Notebook</span><iframe srcdoc=\"&lt;!DOCTYPE html&gt;\n",
       "&lt;html&gt;\n",
       "&lt;head&gt;\n",
       "    \n",
       "    &lt;meta http-equiv=&quot;content-type&quot; content=&quot;text/html; charset=UTF-8&quot; /&gt;\n",
       "    &lt;script src=&quot;https://cdn.jsdelivr.net/npm/leaflet@1.9.3/dist/leaflet.js&quot;&gt;&lt;/script&gt;\n",
       "    &lt;script src=&quot;https://code.jquery.com/jquery-3.7.1.min.js&quot;&gt;&lt;/script&gt;\n",
       "    &lt;script src=&quot;https://cdn.jsdelivr.net/npm/bootstrap@5.2.2/dist/js/bootstrap.bundle.min.js&quot;&gt;&lt;/script&gt;\n",
       "    &lt;script src=&quot;https://cdnjs.cloudflare.com/ajax/libs/Leaflet.awesome-markers/2.0.2/leaflet.awesome-markers.js&quot;&gt;&lt;/script&gt;\n",
       "    &lt;link rel=&quot;stylesheet&quot; href=&quot;https://cdn.jsdelivr.net/npm/leaflet@1.9.3/dist/leaflet.css&quot;/&gt;\n",
       "    &lt;link rel=&quot;stylesheet&quot; href=&quot;https://cdn.jsdelivr.net/npm/bootstrap@5.2.2/dist/css/bootstrap.min.css&quot;/&gt;\n",
       "    &lt;link rel=&quot;stylesheet&quot; href=&quot;https://netdna.bootstrapcdn.com/bootstrap/3.0.0/css/bootstrap-glyphicons.css&quot;/&gt;\n",
       "    &lt;link rel=&quot;stylesheet&quot; href=&quot;https://cdn.jsdelivr.net/npm/@fortawesome/fontawesome-free@6.2.0/css/all.min.css&quot;/&gt;\n",
       "    &lt;link rel=&quot;stylesheet&quot; href=&quot;https://cdnjs.cloudflare.com/ajax/libs/Leaflet.awesome-markers/2.0.2/leaflet.awesome-markers.css&quot;/&gt;\n",
       "    &lt;link rel=&quot;stylesheet&quot; href=&quot;https://cdn.jsdelivr.net/gh/python-visualization/folium/folium/templates/leaflet.awesome.rotate.min.css&quot;/&gt;\n",
       "    \n",
       "            &lt;meta name=&quot;viewport&quot; content=&quot;width=device-width,\n",
       "                initial-scale=1.0, maximum-scale=1.0, user-scalable=no&quot; /&gt;\n",
       "            &lt;style&gt;\n",
       "                #map_ff5d7cce88738dc6aeecc90c99c6e0f5 {\n",
       "                    position: relative;\n",
       "                    width: 100.0%;\n",
       "                    height: 100.0%;\n",
       "                    left: 0.0%;\n",
       "                    top: 0.0%;\n",
       "                }\n",
       "                .leaflet-container { font-size: 1rem; }\n",
       "            &lt;/style&gt;\n",
       "\n",
       "            &lt;style&gt;html, body {\n",
       "                width: 100%;\n",
       "                height: 100%;\n",
       "                margin: 0;\n",
       "                padding: 0;\n",
       "            }\n",
       "            &lt;/style&gt;\n",
       "\n",
       "            &lt;style&gt;#map {\n",
       "                position:absolute;\n",
       "                top:0;\n",
       "                bottom:0;\n",
       "                right:0;\n",
       "                left:0;\n",
       "                }\n",
       "            &lt;/style&gt;\n",
       "\n",
       "            &lt;script&gt;\n",
       "                L_NO_TOUCH = false;\n",
       "                L_DISABLE_3D = false;\n",
       "            &lt;/script&gt;\n",
       "\n",
       "        \n",
       "    &lt;script src=&quot;https://cdn.jsdelivr.net/gh/python-visualization/folium@main/folium/templates/leaflet_heat.min.js&quot;&gt;&lt;/script&gt;\n",
       "&lt;/head&gt;\n",
       "&lt;body&gt;\n",
       "    \n",
       "    \n",
       "            &lt;div class=&quot;folium-map&quot; id=&quot;map_ff5d7cce88738dc6aeecc90c99c6e0f5&quot; &gt;&lt;/div&gt;\n",
       "        \n",
       "&lt;/body&gt;\n",
       "&lt;script&gt;\n",
       "    \n",
       "    \n",
       "            var map_ff5d7cce88738dc6aeecc90c99c6e0f5 = L.map(\n",
       "                &quot;map_ff5d7cce88738dc6aeecc90c99c6e0f5&quot;,\n",
       "                {\n",
       "                    center: [48.0, 5.0],\n",
       "                    crs: L.CRS.EPSG3857,\n",
       "                    ...{\n",
       "  &quot;zoom&quot;: 6,\n",
       "  &quot;zoomControl&quot;: true,\n",
       "  &quot;preferCanvas&quot;: false,\n",
       "}\n",
       "\n",
       "                }\n",
       "            );\n",
       "\n",
       "            \n",
       "\n",
       "        \n",
       "    \n",
       "            var tile_layer_8b3eb8410a6455ff4c1215ec91ee907d = L.tileLayer(\n",
       "                &quot;https://tile.openstreetmap.org/{z}/{x}/{y}.png&quot;,\n",
       "                {\n",
       "  &quot;minZoom&quot;: 0,\n",
       "  &quot;maxZoom&quot;: 19,\n",
       "  &quot;maxNativeZoom&quot;: 19,\n",
       "  &quot;noWrap&quot;: false,\n",
       "  &quot;attribution&quot;: &quot;\\u0026copy; \\u003ca href=\\&quot;https://www.openstreetmap.org/copyright\\&quot;\\u003eOpenStreetMap\\u003c/a\\u003e contributors&quot;,\n",
       "  &quot;subdomains&quot;: &quot;abc&quot;,\n",
       "  &quot;detectRetina&quot;: false,\n",
       "  &quot;tms&quot;: false,\n",
       "  &quot;opacity&quot;: 1,\n",
       "}\n",
       "\n",
       "            );\n",
       "        \n",
       "    \n",
       "            tile_layer_8b3eb8410a6455ff4c1215ec91ee907d.addTo(map_ff5d7cce88738dc6aeecc90c99c6e0f5);\n",
       "        \n",
       "    \n",
       "            var heat_map_788377836dbbe72bce36ab2141abfe04 = L.heatLayer(\n",
       "                [[47.10365451257865, 5.459563053615989, 1.615083400057441], [46.54630290842513, 5.065506603475286, 1.060391096218538], [49.43985343324521, 6.672961552532326, 0.8029889323652326], [48.90545063556185, 3.7829239910757835, 0.44439937108615624], [49.10103085375975, 5.1189481226545155, 0.7558844750834197], [48.08361468764877, 4.940418349680246, 0.05483547766457553], [46.17538319617298, 4.284144039638864, 1.3184957761396299], [47.351513775060965, 4.410719717707163, 0.12055293491036734], [47.43452310906377, 5.442590552531127, 0.558112016720408], [45.43402904662764, 5.953286397420992, 2.166116972194491], [47.952800741609394, 2.4558825283581016, 0.2419380564218362], [47.57920620138044, 4.5907362485521395, 2.3926585883531795], [48.630754527552, 3.9042973526458185, 1.5734999585210196], [49.01815039919457, 4.152575908018449, 1.6489002594022806], [47.24138813686581, 5.7416579448939755, 0.8289679808634783], [48.170367149599855, 3.925899626623284, 1.9377860326245289], [47.63586283360033, 4.913995382932946, -1.425788690190143], [48.67330859310452, 6.825642161952441, 2.218419396513712], [49.056617967282264, 6.542702812897147, -0.04198401289535236], [47.65369703849717, 3.1355007589958204, 0.3197510970911821], [47.08554827651196, 6.4492980764229735, 1.6274561948478325], [48.61740187220484, 5.921641911414374, 0.013312114198070657], [48.046053164984805, 4.889718384775628, 1.3032548785201954], [46.92802196761983, 4.7581186555404065, 1.3575367364818314], [48.70761622820832, 5.309200121822595, -1.0281085429255135], [49.47441601739922, 5.01873387438069, 1.5186773344883244], [49.135955727224015, 4.270487113504593, 0.819147003516607], [47.80009295820805, 4.179066156954372, 0.5494713402802608], [48.97124932568991, 4.454424438316128, -0.9293559073188371], [49.00238588546831, 5.067973476842999, 0.575542203104571], [46.518487195293666, 4.020175182008865, 0.25155114269840395], [47.817964599148716, 5.01404409037874, 0.8172090315444953], [49.36880282850614, 5.041728563344485, 0.9398278860481042], [47.62770136086733, 5.464373260939832, 0.7330080633365341], [49.27758466375799, 5.487373471950732, 1.2135746151319187], [47.76643805178968, 5.450057377814054, 1.946974364878237], [48.482513674776754, 4.674577244981482, 2.4003402348581444], [50.43933812977212, 3.457929590151628, -0.1510523302471909], [48.44941034893069, 5.852146781041114, -0.46081739378479436], [48.2786300470407, 4.712993341472002, 1.2260616258055541], [48.100962072457115, 5.4447565845845, 1.4824346789331564], [48.21619611525121, 4.55083391858446, 1.2770515357420167], [47.7480143825009, 5.736042065951228, 1.1028607870011846], [47.926750079452106, 6.745122975583745, 1.4961293561196014], [47.00399888899878, 2.976869391625176, 1.100339815140779], [48.55115440326954, 4.873581526163329, 1.1735648428343026], [49.65503066802715, 4.80079396236858, 1.3951569972021522], [49.00081062556753, 4.934473137067208, 2.0970188944014603], [47.8361970538819, 4.982727335029534, 0.6464690671140045], [47.820745175115825, 6.3428086873360625, 0.5017472742501694], [48.20522831566374, 4.881373281590517, 1.9664620090096054], [47.71715085134616, 4.509336676031747, -0.06680022058158297], [47.4373798507305, 4.766678811624352, 0.6154740262153754], [46.09975391163855, 3.8288149147150827, 0.1241512293008038], [49.71878515190988, 4.280067708939753, 1.4189683143955], [47.639107417148864, 5.826567928691046, -0.0757776458322934], [47.38926594845222, 5.871398882413128, 1.3912968455304418], [47.17860429729351, 6.516536374677089, 0.5681110842176369], [47.03735349705975, 3.862941653803065, 1.9949630851356024], [48.60435131239427, 4.899885664127377, 3.51169317369904], [47.785264864277806, 3.5464449222809753, 0.5169384194659277], [47.92336400423727, 5.109802831905079, 2.068303753312981], [48.756875607183275, 4.800817036782689, 0.006533014670545789], [48.413777437227544, 4.5558749873450965, 0.24704088937419322], [49.13960681442026, 6.78904667369156, 1.1396912177763396], [48.059577062087065, 3.56894531819551, 1.0500292061339922], [47.828962026975795, 3.9528857276888973, 0.552790631698775], [50.668831315803686, 4.181479887741889, 1.1126085779767392], [47.81518859336643, 6.237334249946474, 1.69614052140573], [49.62080200932993, 3.9271167481873688, 2.163554521669642], [47.818990430428975, 6.542309166177857, 0.0910841622962768], [48.08655152943554, 5.461765556941715, 1.9731923877972213], [48.34805720240461, 3.7339779988306745, 1.9499334563896098], [45.93384193055435, 4.624868895990166, 1.2119414959114303], [49.52331895388093, 5.459092731005048, 2.101563474122238], [48.51095384623227, 4.968297527073826, 1.9739253927816316], [48.497668178010294, 5.88887772549352, 0.2029167453654398], [49.699556861520065, 4.374244253785137, 0.6351813076780635], [47.80649198660454, 4.935849027327278, 0.9486762097113267], [47.990444015900195, 3.5512474838861556, -0.3014752678996937], [48.85937977851473, 6.537937532000412, -0.9906208530921363], [48.41840331531534, 4.133295542209071, 0.6289643828352158], [47.9098433503919, 6.140824923689598, 0.5168983499148807], [47.69382683945187, 4.969517101200157, 1.4531264821689966], [49.61818063103751, 3.3761301082027115, 0.6384465251376], [46.99810447640003, 6.351201767125328, 1.021760274903574], [49.54582195901989, 3.787573600089519, 2.3954803866242447], [47.35747306752809, 5.458020894800341, 1.4229021478585433], [47.5980142985822, 5.843199134482491, 0.9983495954946316], [47.80446198126572, 4.221373431636242, 2.0437603703171883], [46.857286590152114, 6.909782536714688, 2.0252434419531413], [48.291336588404974, 4.313401886645318, 0.8799184541074511], [46.23672113009096, 5.965919752322337, 1.2598159588875122], [47.98713783570604, 4.522053825812843, 1.8179659974143538], [45.77408101305549, 3.937424376123735, 0.5724709103503314], [47.87526818417403, 5.3113030463287165, 0.6460943276803102], [49.851598504799014, 5.475707534816488, 1.4239389915781535], [47.2152397075783, 6.048874616981773, 0.9929683758883321], [47.75504709144248, 6.956259752016944, 0.871149900980372], [46.99092384679067, 5.2919904926878205, 2.891310144669583]],\n",
       "                {\n",
       "  &quot;minOpacity&quot;: 0.5,\n",
       "  &quot;maxZoom&quot;: 18,\n",
       "  &quot;radius&quot;: 25,\n",
       "  &quot;blur&quot;: 15,\n",
       "}\n",
       "            );\n",
       "        \n",
       "    \n",
       "            heat_map_788377836dbbe72bce36ab2141abfe04.addTo(map_ff5d7cce88738dc6aeecc90c99c6e0f5);\n",
       "        \n",
       "&lt;/script&gt;\n",
       "&lt;/html&gt;\" style=\"position:absolute;width:100%;height:100%;left:0;top:0;border:none !important;\" allowfullscreen webkitallowfullscreen mozallowfullscreen></iframe></div></div>"
      ],
      "text/plain": [
       "<folium.folium.Map at 0x7f0ac4269be0>"
      ]
     },
     "execution_count": 2,
     "metadata": {},
     "output_type": "execute_result"
    }
   ],
   "source": [
    "import folium\n",
    "from folium.plugins import HeatMap\n",
    "\n",
    "m = folium.Map([48.0, 5.0], zoom_start=6)\n",
    "\n",
    "HeatMap(data).add_to(m)\n",
    "\n",
    "m"
   ]
  }
 ],
 "metadata": {
  "jupytext": {
   "text_representation": {
    "extension": ".mystnb",
    "format_name": "myst"
   }
  },
  "language_info": {
   "codemirror_mode": {
    "name": "ipython",
    "version": 3
   },
   "file_extension": ".py",
   "mimetype": "text/x-python",
   "name": "python",
   "nbconvert_exporter": "python",
   "pygments_lexer": "ipython3",
   "version": "3.13.5"
  }
 },
 "nbformat": 4,
 "nbformat_minor": 5
}
