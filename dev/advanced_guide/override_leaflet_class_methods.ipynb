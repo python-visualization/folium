{
 "cells": [
  {
   "cell_type": "markdown",
   "id": "77007a4e",
   "metadata": {},
   "source": [
    "# Overriding Leaflet class methods"
   ]
  },
  {
   "cell_type": "code",
   "execution_count": 1,
   "id": "9c5fbf8d",
   "metadata": {
    "execution": {
     "iopub.execute_input": "2025-06-27T13:15:37.972293Z",
     "iopub.status.busy": "2025-06-27T13:15:37.971927Z",
     "iopub.status.idle": "2025-06-27T13:15:38.381974Z",
     "shell.execute_reply": "2025-06-27T13:15:38.381437Z"
    },
    "nbsphinx": "hidden"
   },
   "outputs": [],
   "source": [
    "import folium"
   ]
  },
  {
   "cell_type": "markdown",
   "id": "d7e16ee7",
   "metadata": {},
   "source": [
    "## Customizing Leaflet behavior\n",
    "Sometimes you want to override Leaflet's javascript behavior. This can be done using the `Class.include` statement. This mimics Leaflet's\n",
    "`L.Class.include` method. See [here](https://leafletjs.com/examples/extending/extending-1-classes.html) for more details.\n",
    "\n",
    "### Example: adding an authentication header to a TileLayer\n",
    "One such use case is if you need to override the `createTile` on `L.TileLayer`, because your tiles are hosted on an oauth2 protected\n",
    "server. This can be done like this:"
   ]
  },
  {
   "cell_type": "code",
   "execution_count": 2,
   "id": "d8ac52d0",
   "metadata": {
    "execution": {
     "iopub.execute_input": "2025-06-27T13:15:38.383874Z",
     "iopub.status.busy": "2025-06-27T13:15:38.383621Z",
     "iopub.status.idle": "2025-06-27T13:15:38.394029Z",
     "shell.execute_reply": "2025-06-27T13:15:38.393522Z"
    }
   },
   "outputs": [],
   "source": [
    "create_tile = folium.JsCode(\"\"\"\n",
    "    function(coords, done) {\n",
    "        const url = this.getTileUrl(coords);\n",
    "        const img = document.createElement('img');\n",
    "        fetch(url, {\n",
    "          headers: {\n",
    "            \"Authorization\": \"Bearer <Token>\"\n",
    "          },\n",
    "        })\n",
    "        .then((response) => {\n",
    "            img.src = URL.createObjectURL(response.body);\n",
    "            done(null, img);\n",
    "        })\n",
    "        return img;\n",
    "    }\n",
    "\"\"\")\n",
    "\n",
    "folium.TileLayer.include(create_tile=create_tile)\n",
    "tiles = folium.TileLayer(\n",
    "    tiles=\"OpenStreetMap\",\n",
    ")\n",
    "m = folium.Map(\n",
    "    tiles=tiles,\n",
    ")\n",
    "\n",
    "\n",
    "m = folium.Map()"
   ]
  }
 ],
 "metadata": {
  "jupytext": {
   "text_representation": {
    "extension": ".mystnb",
    "format_name": "myst"
   }
  },
  "language_info": {
   "codemirror_mode": {
    "name": "ipython",
    "version": 3
   },
   "file_extension": ".py",
   "mimetype": "text/x-python",
   "name": "python",
   "nbconvert_exporter": "python",
   "pygments_lexer": "ipython3",
   "version": "3.12.11"
  }
 },
 "nbformat": 4,
 "nbformat_minor": 5
}
