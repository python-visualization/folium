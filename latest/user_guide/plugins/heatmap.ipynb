{
 "cells": [
  {
   "cell_type": "markdown",
   "id": "bff993cd",
   "metadata": {},
   "source": [
    "## Heatmap"
   ]
  },
  {
   "cell_type": "code",
   "execution_count": 1,
   "id": "c01a0dd3",
   "metadata": {
    "execution": {
     "iopub.execute_input": "2023-05-24T13:45:56.554404Z",
     "iopub.status.busy": "2023-05-24T13:45:56.554404Z",
     "iopub.status.idle": "2023-05-24T13:45:56.643600Z",
     "shell.execute_reply": "2023-05-24T13:45:56.643600Z"
    }
   },
   "outputs": [],
   "source": [
    "import numpy as np\n",
    "\n",
    "data = (\n",
    "    np.random.normal(size=(100, 3)) * np.array([[1, 1, 1]]) + np.array([[48, 5, 1]])\n",
    ").tolist()"
   ]
  },
  {
   "cell_type": "code",
   "execution_count": 2,
   "id": "f3704bf0",
   "metadata": {
    "execution": {
     "iopub.execute_input": "2023-05-24T13:45:56.646604Z",
     "iopub.status.busy": "2023-05-24T13:45:56.646604Z",
     "iopub.status.idle": "2023-05-24T13:45:57.314602Z",
     "shell.execute_reply": "2023-05-24T13:45:57.314602Z"
    }
   },
   "outputs": [
    {
     "data": {
      "text/html": [
       "<div style=\"width:100%;\"><div style=\"position:relative;width:100%;height:0;padding-bottom:60%;\"><span style=\"color:#565656\">Make this Notebook Trusted to load map: File -> Trust Notebook</span><iframe srcdoc=\"&lt;!DOCTYPE html&gt;\n",
       "&lt;html&gt;\n",
       "&lt;head&gt;\n",
       "    \n",
       "    &lt;meta http-equiv=&quot;content-type&quot; content=&quot;text/html; charset=UTF-8&quot; /&gt;\n",
       "    \n",
       "        &lt;script&gt;\n",
       "            L_NO_TOUCH = false;\n",
       "            L_DISABLE_3D = false;\n",
       "        &lt;/script&gt;\n",
       "    \n",
       "    &lt;style&gt;html, body {width: 100%;height: 100%;margin: 0;padding: 0;}&lt;/style&gt;\n",
       "    &lt;style&gt;#map {position:absolute;top:0;bottom:0;right:0;left:0;}&lt;/style&gt;\n",
       "    &lt;script src=&quot;https://cdn.jsdelivr.net/npm/leaflet@1.9.3/dist/leaflet.js&quot;&gt;&lt;/script&gt;\n",
       "    &lt;script src=&quot;https://code.jquery.com/jquery-1.12.4.min.js&quot;&gt;&lt;/script&gt;\n",
       "    &lt;script src=&quot;https://cdn.jsdelivr.net/npm/bootstrap@5.2.2/dist/js/bootstrap.bundle.min.js&quot;&gt;&lt;/script&gt;\n",
       "    &lt;script src=&quot;https://cdnjs.cloudflare.com/ajax/libs/Leaflet.awesome-markers/2.0.2/leaflet.awesome-markers.js&quot;&gt;&lt;/script&gt;\n",
       "    &lt;link rel=&quot;stylesheet&quot; href=&quot;https://cdn.jsdelivr.net/npm/leaflet@1.9.3/dist/leaflet.css&quot;/&gt;\n",
       "    &lt;link rel=&quot;stylesheet&quot; href=&quot;https://cdn.jsdelivr.net/npm/bootstrap@5.2.2/dist/css/bootstrap.min.css&quot;/&gt;\n",
       "    &lt;link rel=&quot;stylesheet&quot; href=&quot;https://netdna.bootstrapcdn.com/bootstrap/3.0.0/css/bootstrap.min.css&quot;/&gt;\n",
       "    &lt;link rel=&quot;stylesheet&quot; href=&quot;https://cdn.jsdelivr.net/npm/@fortawesome/fontawesome-free@6.2.0/css/all.min.css&quot;/&gt;\n",
       "    &lt;link rel=&quot;stylesheet&quot; href=&quot;https://cdnjs.cloudflare.com/ajax/libs/Leaflet.awesome-markers/2.0.2/leaflet.awesome-markers.css&quot;/&gt;\n",
       "    &lt;link rel=&quot;stylesheet&quot; href=&quot;https://cdn.jsdelivr.net/gh/python-visualization/folium/folium/templates/leaflet.awesome.rotate.min.css&quot;/&gt;\n",
       "    \n",
       "            &lt;meta name=&quot;viewport&quot; content=&quot;width=device-width,\n",
       "                initial-scale=1.0, maximum-scale=1.0, user-scalable=no&quot; /&gt;\n",
       "            &lt;style&gt;\n",
       "                #map_5f56b2cff4efc1c5c01a52b3c3a3ae31 {\n",
       "                    position: relative;\n",
       "                    width: 100.0%;\n",
       "                    height: 100.0%;\n",
       "                    left: 0.0%;\n",
       "                    top: 0.0%;\n",
       "                }\n",
       "                .leaflet-container { font-size: 1rem; }\n",
       "            &lt;/style&gt;\n",
       "        \n",
       "    &lt;script src=&quot;https://cdn.jsdelivr.net/gh/python-visualization/folium@main/folium/templates/leaflet_heat.min.js&quot;&gt;&lt;/script&gt;\n",
       "&lt;/head&gt;\n",
       "&lt;body&gt;\n",
       "    \n",
       "    \n",
       "            &lt;div class=&quot;folium-map&quot; id=&quot;map_5f56b2cff4efc1c5c01a52b3c3a3ae31&quot; &gt;&lt;/div&gt;\n",
       "        \n",
       "&lt;/body&gt;\n",
       "&lt;script&gt;\n",
       "    \n",
       "    \n",
       "            var map_5f56b2cff4efc1c5c01a52b3c3a3ae31 = L.map(\n",
       "                &quot;map_5f56b2cff4efc1c5c01a52b3c3a3ae31&quot;,\n",
       "                {\n",
       "                    center: [48.0, 5.0],\n",
       "                    crs: L.CRS.EPSG3857,\n",
       "                    zoom: 6,\n",
       "                    zoomControl: true,\n",
       "                    preferCanvas: false,\n",
       "                }\n",
       "            );\n",
       "\n",
       "            \n",
       "\n",
       "        \n",
       "    \n",
       "            var tile_layer_206c22a54606f5d7b798bd7ea4a1fda7 = L.tileLayer(\n",
       "                &quot;https://stamen-tiles-{s}.a.ssl.fastly.net/toner/{z}/{x}/{y}.png&quot;,\n",
       "                {&quot;attribution&quot;: &quot;Map tiles by \\u003ca target=\\&quot;_blank\\&quot; href=\\&quot;http://stamen.com\\&quot;\\u003eStamen Design\\u003c/a\\u003e, under \\u003ca target=\\&quot;_blank\\&quot; href=\\&quot;http://creativecommons.org/licenses/by/3.0\\&quot;\\u003eCC BY 3.0\\u003c/a\\u003e. Data by \\u0026copy; \\u003ca target=\\&quot;_blank\\&quot; href=\\&quot;http://openstreetmap.org\\&quot;\\u003eOpenStreetMap\\u003c/a\\u003e, under \\u003ca target=\\&quot;_blank\\&quot; href=\\&quot;http://www.openstreetmap.org/copyright\\&quot;\\u003eODbL\\u003c/a\\u003e.&quot;, &quot;detectRetina&quot;: false, &quot;maxNativeZoom&quot;: 18, &quot;maxZoom&quot;: 18, &quot;minZoom&quot;: 0, &quot;noWrap&quot;: false, &quot;opacity&quot;: 1, &quot;subdomains&quot;: &quot;abc&quot;, &quot;tms&quot;: false}\n",
       "            );\n",
       "        \n",
       "    \n",
       "                tile_layer_206c22a54606f5d7b798bd7ea4a1fda7.addTo(map_5f56b2cff4efc1c5c01a52b3c3a3ae31);\n",
       "    \n",
       "            var heat_map_1d0ec00e88d83b67674bcaf72351f925 = L.heatLayer(\n",
       "                [[46.39607617213972, 6.942436685101477, 1.614724371452514], [48.04649571287098, 6.154544006393346, 2.493574278238226], [48.18216439956341, 5.40513722015895, 1.7172686755773285], [47.41029733777209, 5.222199239844935, 1.4460122557356128], [49.425020000169084, 6.262112556902866, 1.4837175621461078], [49.003101669161495, 4.49235119997065, 0.45459485624546614], [48.324862811290515, 4.280541084293258, 1.780472321927919], [49.06217850238216, 5.78403142749515, -1.1340803209855363], [47.2486860538546, 7.2475369396150215, 0.01636021997256709], [47.46866136242915, 4.455681327802271, 0.238296942534573], [49.37226691460037, 5.73939041407822, 3.062390066069524], [47.95667693061174, 5.241307143252232, 1.6343760712264894], [47.96709960188095, 6.60558936154951, -0.01753528418578143], [46.77128584697233, 4.210329148943397, 2.0731412243089054], [49.725747418527675, 3.700334119112033, 0.8437447036342395], [47.04963912563381, 5.447774530014557, 0.8609711085635248], [46.33262294909392, 3.230251949974895, 0.6829398570380423], [48.058205504275186, 5.608220496592939, 2.613980445385258], [47.357757175811564, 4.547914690634414, 2.7519345691143746], [47.753923549835015, 3.867121693460719, 2.34089390359415], [46.85606940381244, 4.0275672511595415, 1.918486260511916], [45.842926204056546, 4.1097113361129445, 0.8882759930142474], [47.65451315893072, 4.539966925056621, 2.8821544109188304], [46.453297518086984, 3.79990054750992, -0.02209538289319246], [48.44711334906547, 4.390684889797512, 1.20061925328095], [46.54777758436884, 6.210650283559416, 1.2844453524173147], [48.28226668080641, 5.089093208169282, 2.3678046921737703], [47.01170697748393, 5.0295934215691736, 0.18590546398482366], [48.16928544903281, 5.795716267331319, 1.0552463241219867], [47.978237269221665, 4.931759714947474, 2.3213960927637434], [49.873946753177165, 4.454529794470357, 0.7377460133750618], [47.28493965433166, 3.9315911760250533, 2.8471011645987017], [47.32355970498544, 5.359210513501528, 0.09372779629536587], [44.97136057556188, 5.193770741003574, 0.9709465595588858], [47.38041157401945, 4.720687386719484, 0.7974180427948627], [47.14938923977487, 4.466124692770192, 2.4916526723525756], [48.67707730015323, 4.833283754136827, 0.6284496860755058], [49.358655357119616, 5.495268541222205, 1.480591011398624], [47.03211793427609, 4.2179338680732785, 0.11143896329203296], [49.06397915472435, 6.6374996708927165, 2.779200816808716], [48.19569511971935, 3.334545248527644, 3.027254589463542], [48.19447305658216, 4.6590119762477755, 0.774531739976571], [47.758779420574335, 4.852451482323394, 0.9109430286683118], [47.79255076679449, 2.7710767873671927, 3.4647549431464855], [49.95703277649115, 5.667165394070865, 1.0393172462859468], [47.49336762117919, 4.086571655405172, 0.38692934692870906], [49.43814851933855, 4.9706908198505815, -0.6919302095912385], [48.555230915370416, 6.153839242909653, 0.142765839260799], [48.274073168846876, 4.449864363945345, 1.0317226622276194], [47.63649797191715, 5.144352571468022, 1.6592026919670002], [46.796596785305645, 5.409927765272523, 0.05512400944233775], [49.07808068219901, 5.2076960938283365, 0.43341870950025485], [47.90615821445738, 4.4196985203905355, -0.0013338937508291515], [48.11720264137916, 4.914332158376982, 1.5882732344601578], [48.693598648075294, 5.5241984440798095, 0.2783008917581218], [47.41750772321736, 5.041908836208945, 0.5490561332994752], [48.38564957647559, 4.9355780801151985, 1.3890466121311205], [45.99436593109701, 3.0851329828913228, -0.5126339777608699], [48.38349219439543, 4.088069958367837, 0.004735953233599655], [48.73178382102106, 4.48719536869452, 0.15176858971260598], [47.910389200557105, 5.266770229374128, 0.06124389488950421], [47.751556237078645, 6.2444774992026435, 2.0284253294332815], [48.671652959693084, 5.86746795665911, 1.502119808246709], [46.42376262385713, 6.617708598338786, 0.540877263706435], [47.75025081162744, 5.569066959347195, -0.4375793670136612], [48.45329357554164, 5.717232711148579, -0.7760340704928463], [48.92596733103674, 6.439164290080295, 0.8832471372669644], [47.90308940775343, 3.9866277240559755, 1.2080632954057753], [46.23597338882654, 5.61902733616384, -0.7868647804141349], [48.69644977922829, 5.554508949001372, 0.8075441140960262], [47.07912899174975, 5.689755304984702, 1.1247218724236026], [47.82967122453263, 3.443542276662825, -0.08220342473289621], [49.346058071482375, 4.008440426883305, -0.0825895127322156], [47.231722189541586, 6.375255090358796, 0.8194874806818356], [49.48988315726781, 4.1055545141711365, 1.338537943832398], [47.356908908541044, 5.306111273416378, 1.3137884520623633], [48.96468827394688, 4.503784051071342, 1.0699495935521228], [48.4462569035543, 4.02089777860267, 1.9899390663457561], [49.52816210083668, 5.494809052671003, 1.3230887679268613], [46.613188500556916, 5.380528052879106, 0.5766416470066464], [50.81281284781259, 5.3561299665608155, 0.5906652174811042], [48.30966094834451, 5.547291344651013, 1.0091440014048116], [45.98722111268914, 4.987735023110013, 1.7557091803967828], [47.26100552010504, 5.92361468247502, -0.16166386426200363], [46.29642663855411, 4.606898866944328, 0.8046610163970521], [48.42189058412887, 5.631235522722814, -0.493029253280155], [48.16931465952444, 6.7996525522150275, -0.21209198165264898], [48.59975484551401, 4.958410200368483, 2.151358055864476], [48.23014495684143, 4.457951940046729, 1.1361099908760361], [49.215824829857276, 6.122669374052959, 3.102414518605577], [48.915096116473315, 4.066582045950788, 2.178427592458097], [47.01064512642998, 6.913060230097145, 0.7949686961518039], [47.9091653013769, 5.163066687987399, 0.8014400220447997], [48.85753088912496, 4.249454174045615, -0.4509689021818972], [49.36487462409752, 4.329469787232074, 0.4307639057368656], [47.58143124700813, 5.034504012140726, 1.4421976953666193], [48.009216917505405, 4.090974670409, -0.45553477903200057], [48.52557118643262, 4.632107551293043, 2.3996431538235807], [50.008193468142196, 5.557500458223869, 1.7554256679877338], [49.65604988407179, 5.734008040303518, -0.7349588382544265]],\n",
       "                {&quot;blur&quot;: 15, &quot;maxZoom&quot;: 18, &quot;minOpacity&quot;: 0.5, &quot;radius&quot;: 25}\n",
       "            );\n",
       "        \n",
       "    \n",
       "                heat_map_1d0ec00e88d83b67674bcaf72351f925.addTo(map_5f56b2cff4efc1c5c01a52b3c3a3ae31);\n",
       "&lt;/script&gt;\n",
       "&lt;/html&gt;\" style=\"position:absolute;width:100%;height:100%;left:0;top:0;border:none !important;\" allowfullscreen webkitallowfullscreen mozallowfullscreen></iframe></div></div>"
      ],
      "text/plain": [
       "<folium.folium.Map at 0x209415dc430>"
      ]
     },
     "execution_count": 2,
     "metadata": {},
     "output_type": "execute_result"
    }
   ],
   "source": [
    "import folium\n",
    "from folium.plugins import HeatMap\n",
    "\n",
    "m = folium.Map([48.0, 5.0], tiles=\"stamentoner\", zoom_start=6)\n",
    "\n",
    "HeatMap(data).add_to(m)\n",
    "\n",
    "m"
   ]
  }
 ],
 "metadata": {
  "jupytext": {
   "text_representation": {
    "extension": ".mystnb",
    "format_name": "myst"
   }
  },
  "language_info": {
   "codemirror_mode": {
    "name": "ipython",
    "version": 3
   },
   "file_extension": ".py",
   "mimetype": "text/x-python",
   "name": "python",
   "nbconvert_exporter": "python",
   "pygments_lexer": "ipython3",
   "version": "3.9.16"
  }
 },
 "nbformat": 4,
 "nbformat_minor": 5
}
