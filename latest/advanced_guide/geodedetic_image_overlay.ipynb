{
 "cells": [
  {
   "cell_type": "markdown",
   "id": "9f8c682e",
   "metadata": {},
   "source": [
    "# Geodedetic image overlay"
   ]
  },
  {
   "cell_type": "code",
   "execution_count": 1,
   "id": "270ff8a2",
   "metadata": {
    "execution": {
     "iopub.execute_input": "2023-05-24T13:43:57.112504Z",
     "iopub.status.busy": "2023-05-24T13:43:57.111503Z",
     "iopub.status.idle": "2023-05-24T13:43:57.217859Z",
     "shell.execute_reply": "2023-05-24T13:43:57.217859Z"
    }
   },
   "outputs": [],
   "source": [
    "import numpy as np\n",
    "\n",
    "\n",
    "def sample_data(shape=(73, 145)):\n",
    "    nlats, nlons = shape\n",
    "    lats = np.linspace(-np.pi / 2, np.pi / 2, nlats)\n",
    "    lons = np.linspace(0, 2 * np.pi, nlons)\n",
    "    lons, lats = np.meshgrid(lons, lats)\n",
    "    wave = 0.75 * (np.sin(2 * lats) ** 8) * np.cos(4 * lons)\n",
    "    mean = 0.5 * np.cos(2 * lats) * ((np.sin(2 * lats)) ** 2 + 2)\n",
    "\n",
    "    lats = np.rad2deg(lats)\n",
    "    lons = np.rad2deg(lons)\n",
    "    data = wave + mean\n",
    "\n",
    "    return lons, lats, data\n",
    "\n",
    "\n",
    "lon, lat, data = sample_data(shape=(73, 145))\n",
    "lon -= 180"
   ]
  },
  {
   "cell_type": "code",
   "execution_count": 2,
   "id": "0c7b1d12",
   "metadata": {
    "execution": {
     "iopub.execute_input": "2023-05-24T13:43:57.220862Z",
     "iopub.status.busy": "2023-05-24T13:43:57.219862Z",
     "iopub.status.idle": "2023-05-24T13:43:57.683857Z",
     "shell.execute_reply": "2023-05-24T13:43:57.683857Z"
    }
   },
   "outputs": [
    {
     "name": "stderr",
     "output_type": "stream",
     "text": [
      "C:\\Users\\frank\\AppData\\Local\\Temp\\ipykernel_4632\\1018709867.py:5: MatplotlibDeprecationWarning: The get_cmap function was deprecated in Matplotlib 3.7 and will be removed two minor releases later. Use ``matplotlib.colormaps[name]`` or ``matplotlib.colormaps.get_cmap(obj)`` instead.\n",
      "  cm = matplotlib.cm.get_cmap(\"cubehelix\")\n"
     ]
    }
   ],
   "source": [
    "%matplotlib inline\n",
    "\n",
    "import matplotlib\n",
    "\n",
    "cm = matplotlib.cm.get_cmap(\"cubehelix\")\n",
    "\n",
    "normed_data = (data - data.min()) / (data.max() - data.min())\n",
    "colored_data = cm(normed_data)"
   ]
  },
  {
   "cell_type": "markdown",
   "id": "d0459174",
   "metadata": {},
   "source": [
    "## Bad"
   ]
  },
  {
   "cell_type": "code",
   "execution_count": 3,
   "id": "0c81028e",
   "metadata": {
    "execution": {
     "iopub.execute_input": "2023-05-24T13:43:57.686860Z",
     "iopub.status.busy": "2023-05-24T13:43:57.685860Z",
     "iopub.status.idle": "2023-05-24T13:43:58.268852Z",
     "shell.execute_reply": "2023-05-24T13:43:58.268852Z"
    }
   },
   "outputs": [
    {
     "data": {
      "text/html": [
       "<div style=\"width:100%;\"><div style=\"position:relative;width:100%;height:0;padding-bottom:60%;\"><span style=\"color:#565656\">Make this Notebook Trusted to load map: File -> Trust Notebook</span><iframe srcdoc=\"&lt;!DOCTYPE html&gt;\n",
       "&lt;html&gt;\n",
       "&lt;head&gt;\n",
       "    \n",
       "    &lt;meta http-equiv=&quot;content-type&quot; content=&quot;text/html; charset=UTF-8&quot; /&gt;\n",
       "    \n",
       "        &lt;script&gt;\n",
       "            L_NO_TOUCH = false;\n",
       "            L_DISABLE_3D = false;\n",
       "        &lt;/script&gt;\n",
       "    \n",
       "    &lt;style&gt;html, body {width: 100%;height: 100%;margin: 0;padding: 0;}&lt;/style&gt;\n",
       "    &lt;style&gt;#map {position:absolute;top:0;bottom:0;right:0;left:0;}&lt;/style&gt;\n",
       "    &lt;script src=&quot;https://cdn.jsdelivr.net/npm/leaflet@1.9.3/dist/leaflet.js&quot;&gt;&lt;/script&gt;\n",
       "    &lt;script src=&quot;https://code.jquery.com/jquery-1.12.4.min.js&quot;&gt;&lt;/script&gt;\n",
       "    &lt;script src=&quot;https://cdn.jsdelivr.net/npm/bootstrap@5.2.2/dist/js/bootstrap.bundle.min.js&quot;&gt;&lt;/script&gt;\n",
       "    &lt;script src=&quot;https://cdnjs.cloudflare.com/ajax/libs/Leaflet.awesome-markers/2.0.2/leaflet.awesome-markers.js&quot;&gt;&lt;/script&gt;\n",
       "    &lt;link rel=&quot;stylesheet&quot; href=&quot;https://cdn.jsdelivr.net/npm/leaflet@1.9.3/dist/leaflet.css&quot;/&gt;\n",
       "    &lt;link rel=&quot;stylesheet&quot; href=&quot;https://cdn.jsdelivr.net/npm/bootstrap@5.2.2/dist/css/bootstrap.min.css&quot;/&gt;\n",
       "    &lt;link rel=&quot;stylesheet&quot; href=&quot;https://netdna.bootstrapcdn.com/bootstrap/3.0.0/css/bootstrap.min.css&quot;/&gt;\n",
       "    &lt;link rel=&quot;stylesheet&quot; href=&quot;https://cdn.jsdelivr.net/npm/@fortawesome/fontawesome-free@6.2.0/css/all.min.css&quot;/&gt;\n",
       "    &lt;link rel=&quot;stylesheet&quot; href=&quot;https://cdnjs.cloudflare.com/ajax/libs/Leaflet.awesome-markers/2.0.2/leaflet.awesome-markers.css&quot;/&gt;\n",
       "    &lt;link rel=&quot;stylesheet&quot; href=&quot;https://cdn.jsdelivr.net/gh/python-visualization/folium/folium/templates/leaflet.awesome.rotate.min.css&quot;/&gt;\n",
       "    \n",
       "            &lt;meta name=&quot;viewport&quot; content=&quot;width=device-width,\n",
       "                initial-scale=1.0, maximum-scale=1.0, user-scalable=no&quot; /&gt;\n",
       "            &lt;style&gt;\n",
       "                #map_ddfda278e00a5fca3fa34045883179c5 {\n",
       "                    position: relative;\n",
       "                    width: 100.0%;\n",
       "                    height: 100.0%;\n",
       "                    left: 0.0%;\n",
       "                    top: 0.0%;\n",
       "                }\n",
       "                .leaflet-container { font-size: 1rem; }\n",
       "            &lt;/style&gt;\n",
       "        \n",
       "    \n",
       "                &lt;style&gt;\n",
       "                    .leaflet-image-layer {\n",
       "                        /* old android/safari*/\n",
       "                        image-rendering: -webkit-optimize-contrast;\n",
       "                        image-rendering: crisp-edges; /* safari */\n",
       "                        image-rendering: pixelated; /* chrome */\n",
       "                        image-rendering: -moz-crisp-edges; /* firefox */\n",
       "                        image-rendering: -o-crisp-edges; /* opera */\n",
       "                        -ms-interpolation-mode: nearest-neighbor; /* ie */\n",
       "                    }\n",
       "                &lt;/style&gt;\n",
       "            \n",
       "&lt;/head&gt;\n",
       "&lt;body&gt;\n",
       "    \n",
       "    \n",
       "            &lt;div class=&quot;folium-map&quot; id=&quot;map_ddfda278e00a5fca3fa34045883179c5&quot; &gt;&lt;/div&gt;\n",
       "        \n",
       "&lt;/body&gt;\n",
       "&lt;script&gt;\n",
       "    \n",
       "    \n",
       "            var map_ddfda278e00a5fca3fa34045883179c5 = L.map(\n",
       "                &quot;map_ddfda278e00a5fca3fa34045883179c5&quot;,\n",
       "                {\n",
       "                    center: [0.0, -8.592297607680002e-17],\n",
       "                    crs: L.CRS.EPSG3857,\n",
       "                    zoom: 1,\n",
       "                    zoomControl: true,\n",
       "                    preferCanvas: false,\n",
       "                }\n",
       "            );\n",
       "\n",
       "            \n",
       "\n",
       "        \n",
       "    \n",
       "            var tile_layer_987769c25abc7c0eb5afe799b02c6e57 = L.tileLayer(\n",
       "                &quot;https://{s}.tile.openstreetmap.org/{z}/{x}/{y}.png&quot;,\n",
       "                {&quot;attribution&quot;: &quot;Data by \\u0026copy; \\u003ca target=\\&quot;_blank\\&quot; href=\\&quot;http://openstreetmap.org\\&quot;\\u003eOpenStreetMap\\u003c/a\\u003e, under \\u003ca target=\\&quot;_blank\\&quot; href=\\&quot;http://www.openstreetmap.org/copyright\\&quot;\\u003eODbL\\u003c/a\\u003e.&quot;, &quot;detectRetina&quot;: false, &quot;maxNativeZoom&quot;: 18, &quot;maxZoom&quot;: 18, &quot;minZoom&quot;: 0, &quot;noWrap&quot;: false, &quot;opacity&quot;: 1, &quot;subdomains&quot;: &quot;abc&quot;, &quot;tms&quot;: false}\n",
       "            );\n",
       "        \n",
       "    \n",
       "                tile_layer_987769c25abc7c0eb5afe799b02c6e57.addTo(map_ddfda278e00a5fca3fa34045883179c5);\n",
       "    \n",
       "            var image_overlay_96609025438a1ea38f140bce4e3fd345 = L.imageOverlay(\n",
       "                &quot;data:image/png;base64,iVBORw0KGgoAAAANSUhEUgAAAJEAAABJCAYAAAA9tcRhAAAHx0lEQVR42u2de4gVVRzHzz7a1nxR7vNamZmURGpq6apZbg9tU0EMQYwehNEDFKVi702LyBAiKIoiiIwiCDEipAiKKNfXqunWutG7tDLLx+51V9189et8fndnGae9/eGoNfQb+DHNmfP7fj/39vOcM3fvnXHOObGwiBn2JlhYEVlYEVlYEVlYFLgCsbCIE664oFhONooKivJGHF3jSRaPO6e4txC9inrljdLC0h6jpLAkb+TL+SefgMV4ksXjzj27XMLRv2RAd/QrOVej71n9NfoU99UIv5joC4qeC3ICjUAz7BNlMJ5k8bjKfkPlhOg7RCr6DJby3oOkrPcFUnbOQBnQq1rOK608Abon2Kh52JR8dNBDF3188Psbg/EkiselLpgg3XF+jaRS4yRVNUZSFaOkumyEVJ93uVT1v1STFbQLMgAMKjUcAUgAQR756KCHLvrqgx++YQ7jSRSPq6iZLhpjp0nlmFukcmSdVF0xVaovu1FSQyZLatBESVVfLanykSpI5QVwVGsUjGPau2F8f/LIVx30vC76+OCHL/7dLMaTKB5XddsUqZzrT865WSpm10n5zGlSVjddyq+fIRXjp0vlqLoc4EWTVLR6wBVqxBAXhgoPiQrlzyuQ768wPh8d9NBFX328H774w2E8p4Bn2E1nlMdNfvhKmeSj5sHRMnrRVXL5ghoZfO+1MvCuG7SzJk6crhWolQ6Yr1TmR8wBCRZv7DmmnfNa0QD5PPLRQQ9d9PHBD1/84TCe5PG459PXybPpSbIsUyOPZMbIvZmRMis9XDsMmz9ezr+7Vspn3SLltTNyYBdfq/MjVcscCkSw4mfPMe2c13nU91cgn48Oeuiijw9++OIPh/Ekj8dtXfKMbFnytGx85DFZnV4gq+rnysvpG7XjHJ9ExVGBOnR64arhN+tiiqplCGQ4DENxTLtWte9Hf/LIRwc9dNHHBz988YfDeJLH45pe+UaaXv5Kml9okpanP5FtT6yQzYuflPfr75QX05O18qjCIfdfIxW3+gqfNCM35/phj9U7C7JgnlUgf0y7DqO+H/3JIx8d9NBFHx/88MUfDuNJHo9bvalDVjd2yJqP98uGVXtly+vbZduzjdL8+KvSkF4ky9NTZH4mN/dRmTpU+rlSF5P+ck+vALo+q2CvFU27P08/+pNHPjrooYs+Pvjhiz8cxpM8Hrd5V5s07szKuu2+8YsOaVjbLo1v75bPXmrRqlubeUheS9d1g2mFdw2VzJ3VQ2tzl4F8ZuD3HAdzajAkBkDooIcu+vjghy/+cJxuHvqH36CA5/MXm/8Vnuj/sFP9/oSnttPF43440CbfdbTJF9lW+fS3Nln7/X6tLqotCrYwM0qm1o/QhRardaq2bMoMHQK1iv1ej3075+lHf/KiBYQ+Pvjhiz8cxpM8Hrf3cIfs/qNdfj6Ula/3t8qW39tkzbftOlRteGeP/gttWfqWbMgslhX1M2VpZpzckRmh1Tpi4Vi55IGJMuieyXLhvFrdc0w75+lHf/LIRwc9dHVI9j744Ys/HMaTPB534GintB89pA07Dma1wjb92iYNX7afMFS2LFulq/GP0vfJG/XT5Kn0BHnQV+w8b8zqfbYP9hzTznn60Z888sNDIvr44Icv/nAYT/J4uouIitrZmZVv2lvls72tsuGnbPecy1C2dfl3urCiOpsefU4rFcP36m+Xt+tny8r6WbrnmHbO04/+5JGPTjCnoo8PfvjiH36TjCc5PI7/yB45qI27OvfrHEe1MWyt35FbvOlc+GFWq5LVuc69z6yTlqc+0IpVYy79/F6PfTvn6Ud/8sjXKwuvhy76+OCHL/5wGE/yeFzrkQPd8ywnGaqotpa2HFjjL9nc4q3FC272ld7Qrgbr392nZhtX7pJNK36VzW/u1D3HtHOefvQnj3x00EMXfXzwwzeYX88kD3O88cTn0YV1GIoF04++2kig8j7f1wXnL+eoSAAbvsoNcaubfTT52BKKpq52hlbfj/7kkY8Oeuiijw9+YSjjSR6Pi4L95oM5L4DjMo7VOELNrbn5d+ueNr3M4zMCFlvRoJ3z9KM/eeSjg14Agw9+0TfIeJLF45jXCIal8FAZAFJ1ASRDGYLBZxVUZ74IPkOgP3kBBHoBSHhIJAIW40kWj16dBSv+cPQEGwYOoPPF7ohxT+ZRz4DFeJLF4zqPHZZwHDz2R48RfgHRyPdCo5FPO8pgPMnicUePH5NwHD5+5IxHlMF4ksXjjv95XCws4oQT22yLuVkR2WZFZJsVkW1WRLbZZkVkmxWRbVZEtlkR2WabFpF94moR+xNr+9uQ8cT+25n9ldp4Yv8V374vYzyxv09k39wzntjfbLTvEBtP7O9Y268ZjCf2rz3+z787s9/BnaLfndkvPI0n9i9g7bfmxhP7t/h21wvjiX1XELv/jvHEvj+R3QnMeGLfKc3u2Wj3bIx9z0a7O6rxxL57rN2n2Xhi38fa7hhvPLHvqG/PrjCe2M/2sKfoGE/spwzZ88XseWexn3dmTxY0nthPXrRnnBpP7GfA2tOWjSf206jtue/GE5fH9SQcjdLC0h6jpLAkb+TL+SeffC/UeP7bPK64oFhONooKivJGHF3jSRaPK3AFYmERJ5zfxMIiZtibYGFFZGFFZGFFZPG/j78ATU9UtyDU4dYAAAAASUVORK5CYII=&quot;,\n",
       "                [[-90.0, -180.0], [90.0, 180.0]],\n",
       "                {&quot;opacity&quot;: 0.25}\n",
       "            );\n",
       "        \n",
       "    \n",
       "                image_overlay_96609025438a1ea38f140bce4e3fd345.addTo(map_ddfda278e00a5fca3fa34045883179c5);\n",
       "&lt;/script&gt;\n",
       "&lt;/html&gt;\" style=\"position:absolute;width:100%;height:100%;left:0;top:0;border:none !important;\" allowfullscreen webkitallowfullscreen mozallowfullscreen></iframe></div></div>"
      ],
      "text/plain": [
       "<folium.folium.Map at 0x1b16d85e490>"
      ]
     },
     "execution_count": 3,
     "metadata": {},
     "output_type": "execute_result"
    }
   ],
   "source": [
    "import folium\n",
    "\n",
    "\n",
    "m = folium.Map(location=[lat.mean(), lon.mean()], zoom_start=1)\n",
    "\n",
    "folium.raster_layers.ImageOverlay(\n",
    "    image=colored_data,\n",
    "    bounds=[[lat.min(), lon.min()], [lat.max(), lon.max()]],\n",
    "    opacity=0.25,\n",
    ").add_to(m)\n",
    "\n",
    "m"
   ]
  },
  {
   "cell_type": "markdown",
   "id": "20db144a",
   "metadata": {},
   "source": [
    "## Good"
   ]
  },
  {
   "cell_type": "code",
   "execution_count": 4,
   "id": "81beb6ed",
   "metadata": {
    "execution": {
     "iopub.execute_input": "2023-05-24T13:43:58.271855Z",
     "iopub.status.busy": "2023-05-24T13:43:58.270855Z",
     "iopub.status.idle": "2023-05-24T13:43:58.299850Z",
     "shell.execute_reply": "2023-05-24T13:43:58.299850Z"
    }
   },
   "outputs": [
    {
     "data": {
      "text/html": [
       "<div style=\"width:100%;\"><div style=\"position:relative;width:100%;height:0;padding-bottom:60%;\"><span style=\"color:#565656\">Make this Notebook Trusted to load map: File -> Trust Notebook</span><iframe srcdoc=\"&lt;!DOCTYPE html&gt;\n",
       "&lt;html&gt;\n",
       "&lt;head&gt;\n",
       "    \n",
       "    &lt;meta http-equiv=&quot;content-type&quot; content=&quot;text/html; charset=UTF-8&quot; /&gt;\n",
       "    \n",
       "        &lt;script&gt;\n",
       "            L_NO_TOUCH = false;\n",
       "            L_DISABLE_3D = false;\n",
       "        &lt;/script&gt;\n",
       "    \n",
       "    &lt;style&gt;html, body {width: 100%;height: 100%;margin: 0;padding: 0;}&lt;/style&gt;\n",
       "    &lt;style&gt;#map {position:absolute;top:0;bottom:0;right:0;left:0;}&lt;/style&gt;\n",
       "    &lt;script src=&quot;https://cdn.jsdelivr.net/npm/leaflet@1.9.3/dist/leaflet.js&quot;&gt;&lt;/script&gt;\n",
       "    &lt;script src=&quot;https://code.jquery.com/jquery-1.12.4.min.js&quot;&gt;&lt;/script&gt;\n",
       "    &lt;script src=&quot;https://cdn.jsdelivr.net/npm/bootstrap@5.2.2/dist/js/bootstrap.bundle.min.js&quot;&gt;&lt;/script&gt;\n",
       "    &lt;script src=&quot;https://cdnjs.cloudflare.com/ajax/libs/Leaflet.awesome-markers/2.0.2/leaflet.awesome-markers.js&quot;&gt;&lt;/script&gt;\n",
       "    &lt;link rel=&quot;stylesheet&quot; href=&quot;https://cdn.jsdelivr.net/npm/leaflet@1.9.3/dist/leaflet.css&quot;/&gt;\n",
       "    &lt;link rel=&quot;stylesheet&quot; href=&quot;https://cdn.jsdelivr.net/npm/bootstrap@5.2.2/dist/css/bootstrap.min.css&quot;/&gt;\n",
       "    &lt;link rel=&quot;stylesheet&quot; href=&quot;https://netdna.bootstrapcdn.com/bootstrap/3.0.0/css/bootstrap.min.css&quot;/&gt;\n",
       "    &lt;link rel=&quot;stylesheet&quot; href=&quot;https://cdn.jsdelivr.net/npm/@fortawesome/fontawesome-free@6.2.0/css/all.min.css&quot;/&gt;\n",
       "    &lt;link rel=&quot;stylesheet&quot; href=&quot;https://cdnjs.cloudflare.com/ajax/libs/Leaflet.awesome-markers/2.0.2/leaflet.awesome-markers.css&quot;/&gt;\n",
       "    &lt;link rel=&quot;stylesheet&quot; href=&quot;https://cdn.jsdelivr.net/gh/python-visualization/folium/folium/templates/leaflet.awesome.rotate.min.css&quot;/&gt;\n",
       "    \n",
       "            &lt;meta name=&quot;viewport&quot; content=&quot;width=device-width,\n",
       "                initial-scale=1.0, maximum-scale=1.0, user-scalable=no&quot; /&gt;\n",
       "            &lt;style&gt;\n",
       "                #map_1197ab3776c247e71301f9d6c40bf236 {\n",
       "                    position: relative;\n",
       "                    width: 100.0%;\n",
       "                    height: 100.0%;\n",
       "                    left: 0.0%;\n",
       "                    top: 0.0%;\n",
       "                }\n",
       "                .leaflet-container { font-size: 1rem; }\n",
       "            &lt;/style&gt;\n",
       "        \n",
       "    \n",
       "                &lt;style&gt;\n",
       "                    .leaflet-image-layer {\n",
       "                        /* old android/safari*/\n",
       "                        image-rendering: -webkit-optimize-contrast;\n",
       "                        image-rendering: crisp-edges; /* safari */\n",
       "                        image-rendering: pixelated; /* chrome */\n",
       "                        image-rendering: -moz-crisp-edges; /* firefox */\n",
       "                        image-rendering: -o-crisp-edges; /* opera */\n",
       "                        -ms-interpolation-mode: nearest-neighbor; /* ie */\n",
       "                    }\n",
       "                &lt;/style&gt;\n",
       "            \n",
       "&lt;/head&gt;\n",
       "&lt;body&gt;\n",
       "    \n",
       "    \n",
       "            &lt;div class=&quot;folium-map&quot; id=&quot;map_1197ab3776c247e71301f9d6c40bf236&quot; &gt;&lt;/div&gt;\n",
       "        \n",
       "&lt;/body&gt;\n",
       "&lt;script&gt;\n",
       "    \n",
       "    \n",
       "            var map_1197ab3776c247e71301f9d6c40bf236 = L.map(\n",
       "                &quot;map_1197ab3776c247e71301f9d6c40bf236&quot;,\n",
       "                {\n",
       "                    center: [0.0, -8.592297607680002e-17],\n",
       "                    crs: L.CRS.EPSG3857,\n",
       "                    zoom: 1,\n",
       "                    zoomControl: true,\n",
       "                    preferCanvas: false,\n",
       "                }\n",
       "            );\n",
       "\n",
       "            \n",
       "\n",
       "        \n",
       "    \n",
       "            var tile_layer_a09ea08c0db62b686732fecdec968c84 = L.tileLayer(\n",
       "                &quot;https://{s}.tile.openstreetmap.org/{z}/{x}/{y}.png&quot;,\n",
       "                {&quot;attribution&quot;: &quot;Data by \\u0026copy; \\u003ca target=\\&quot;_blank\\&quot; href=\\&quot;http://openstreetmap.org\\&quot;\\u003eOpenStreetMap\\u003c/a\\u003e, under \\u003ca target=\\&quot;_blank\\&quot; href=\\&quot;http://www.openstreetmap.org/copyright\\&quot;\\u003eODbL\\u003c/a\\u003e.&quot;, &quot;detectRetina&quot;: false, &quot;maxNativeZoom&quot;: 18, &quot;maxZoom&quot;: 18, &quot;minZoom&quot;: 0, &quot;noWrap&quot;: false, &quot;opacity&quot;: 1, &quot;subdomains&quot;: &quot;abc&quot;, &quot;tms&quot;: false}\n",
       "            );\n",
       "        \n",
       "    \n",
       "                tile_layer_a09ea08c0db62b686732fecdec968c84.addTo(map_1197ab3776c247e71301f9d6c40bf236);\n",
       "    \n",
       "            var image_overlay_554ec9b3d08d8c8bf9dd0e1180a66f57 = L.imageOverlay(\n",
       "                &quot;data:image/png;base64,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&quot;,\n",
       "                [[-90.0, -180.0], [90.0, 180.0]],\n",
       "                {&quot;opacity&quot;: 0.25}\n",
       "            );\n",
       "        \n",
       "    \n",
       "                image_overlay_554ec9b3d08d8c8bf9dd0e1180a66f57.addTo(map_1197ab3776c247e71301f9d6c40bf236);\n",
       "&lt;/script&gt;\n",
       "&lt;/html&gt;\" style=\"position:absolute;width:100%;height:100%;left:0;top:0;border:none !important;\" allowfullscreen webkitallowfullscreen mozallowfullscreen></iframe></div></div>"
      ],
      "text/plain": [
       "<folium.folium.Map at 0x1b16cffebe0>"
      ]
     },
     "execution_count": 4,
     "metadata": {},
     "output_type": "execute_result"
    }
   ],
   "source": [
    "m = folium.Map(location=[lat.mean(), lon.mean()], zoom_start=1)\n",
    "\n",
    "folium.raster_layers.ImageOverlay(\n",
    "    image=colored_data,\n",
    "    bounds=[[lat.min(), lon.min()], [lat.max(), lon.max()]],\n",
    "    mercator_project=True,\n",
    "    opacity=0.25,\n",
    ").add_to(m)\n",
    "\n",
    "\n",
    "m"
   ]
  },
  {
   "cell_type": "markdown",
   "id": "d396db8a",
   "metadata": {},
   "source": [
    "## Same as above but with cartopy"
   ]
  },
  {
   "cell_type": "code",
   "execution_count": 5,
   "id": "6d1b9edb",
   "metadata": {
    "execution": {
     "iopub.execute_input": "2023-05-24T13:43:58.301852Z",
     "iopub.status.busy": "2023-05-24T13:43:58.301852Z",
     "iopub.status.idle": "2023-05-24T13:43:59.022024Z",
     "shell.execute_reply": "2023-05-24T13:43:59.022024Z"
    }
   },
   "outputs": [
    {
     "data": {
      "text/html": [
       "<div style=\"width:100%;\"><div style=\"position:relative;width:100%;height:0;padding-bottom:60%;\"><span style=\"color:#565656\">Make this Notebook Trusted to load map: File -> Trust Notebook</span><iframe srcdoc=\"&lt;!DOCTYPE html&gt;\n",
       "&lt;html&gt;\n",
       "&lt;head&gt;\n",
       "    \n",
       "    &lt;meta http-equiv=&quot;content-type&quot; content=&quot;text/html; charset=UTF-8&quot; /&gt;\n",
       "    \n",
       "        &lt;script&gt;\n",
       "            L_NO_TOUCH = false;\n",
       "            L_DISABLE_3D = false;\n",
       "        &lt;/script&gt;\n",
       "    \n",
       "    &lt;style&gt;html, body {width: 100%;height: 100%;margin: 0;padding: 0;}&lt;/style&gt;\n",
       "    &lt;style&gt;#map {position:absolute;top:0;bottom:0;right:0;left:0;}&lt;/style&gt;\n",
       "    &lt;script src=&quot;https://cdn.jsdelivr.net/npm/leaflet@1.9.3/dist/leaflet.js&quot;&gt;&lt;/script&gt;\n",
       "    &lt;script src=&quot;https://code.jquery.com/jquery-1.12.4.min.js&quot;&gt;&lt;/script&gt;\n",
       "    &lt;script src=&quot;https://cdn.jsdelivr.net/npm/bootstrap@5.2.2/dist/js/bootstrap.bundle.min.js&quot;&gt;&lt;/script&gt;\n",
       "    &lt;script src=&quot;https://cdnjs.cloudflare.com/ajax/libs/Leaflet.awesome-markers/2.0.2/leaflet.awesome-markers.js&quot;&gt;&lt;/script&gt;\n",
       "    &lt;link rel=&quot;stylesheet&quot; href=&quot;https://cdn.jsdelivr.net/npm/leaflet@1.9.3/dist/leaflet.css&quot;/&gt;\n",
       "    &lt;link rel=&quot;stylesheet&quot; href=&quot;https://cdn.jsdelivr.net/npm/bootstrap@5.2.2/dist/css/bootstrap.min.css&quot;/&gt;\n",
       "    &lt;link rel=&quot;stylesheet&quot; href=&quot;https://netdna.bootstrapcdn.com/bootstrap/3.0.0/css/bootstrap.min.css&quot;/&gt;\n",
       "    &lt;link rel=&quot;stylesheet&quot; href=&quot;https://cdn.jsdelivr.net/npm/@fortawesome/fontawesome-free@6.2.0/css/all.min.css&quot;/&gt;\n",
       "    &lt;link rel=&quot;stylesheet&quot; href=&quot;https://cdnjs.cloudflare.com/ajax/libs/Leaflet.awesome-markers/2.0.2/leaflet.awesome-markers.css&quot;/&gt;\n",
       "    &lt;link rel=&quot;stylesheet&quot; href=&quot;https://cdn.jsdelivr.net/gh/python-visualization/folium/folium/templates/leaflet.awesome.rotate.min.css&quot;/&gt;\n",
       "    \n",
       "            &lt;meta name=&quot;viewport&quot; content=&quot;width=device-width,\n",
       "                initial-scale=1.0, maximum-scale=1.0, user-scalable=no&quot; /&gt;\n",
       "            &lt;style&gt;\n",
       "                #map_c5b6484f0d32c91e839573baf4832fc7 {\n",
       "                    position: relative;\n",
       "                    width: 100.0%;\n",
       "                    height: 100.0%;\n",
       "                    left: 0.0%;\n",
       "                    top: 0.0%;\n",
       "                }\n",
       "                .leaflet-container { font-size: 1rem; }\n",
       "            &lt;/style&gt;\n",
       "        \n",
       "    \n",
       "                &lt;style&gt;\n",
       "                    .leaflet-image-layer {\n",
       "                        /* old android/safari*/\n",
       "                        image-rendering: -webkit-optimize-contrast;\n",
       "                        image-rendering: crisp-edges; /* safari */\n",
       "                        image-rendering: pixelated; /* chrome */\n",
       "                        image-rendering: -moz-crisp-edges; /* firefox */\n",
       "                        image-rendering: -o-crisp-edges; /* opera */\n",
       "                        -ms-interpolation-mode: nearest-neighbor; /* ie */\n",
       "                    }\n",
       "                &lt;/style&gt;\n",
       "            \n",
       "&lt;/head&gt;\n",
       "&lt;body&gt;\n",
       "    \n",
       "    \n",
       "            &lt;div class=&quot;folium-map&quot; id=&quot;map_c5b6484f0d32c91e839573baf4832fc7&quot; &gt;&lt;/div&gt;\n",
       "        \n",
       "&lt;/body&gt;\n",
       "&lt;script&gt;\n",
       "    \n",
       "    \n",
       "            var map_c5b6484f0d32c91e839573baf4832fc7 = L.map(\n",
       "                &quot;map_c5b6484f0d32c91e839573baf4832fc7&quot;,\n",
       "                {\n",
       "                    center: [0.0, -8.592297607680002e-17],\n",
       "                    crs: L.CRS.EPSG3857,\n",
       "                    zoom: 1,\n",
       "                    zoomControl: true,\n",
       "                    preferCanvas: false,\n",
       "                }\n",
       "            );\n",
       "\n",
       "            \n",
       "\n",
       "        \n",
       "    \n",
       "            var tile_layer_244bf67f48d7c3768a2ddd9d94b711a2 = L.tileLayer(\n",
       "                &quot;https://{s}.tile.openstreetmap.org/{z}/{x}/{y}.png&quot;,\n",
       "                {&quot;attribution&quot;: &quot;Data by \\u0026copy; \\u003ca target=\\&quot;_blank\\&quot; href=\\&quot;http://openstreetmap.org\\&quot;\\u003eOpenStreetMap\\u003c/a\\u003e, under \\u003ca target=\\&quot;_blank\\&quot; href=\\&quot;http://www.openstreetmap.org/copyright\\&quot;\\u003eODbL\\u003c/a\\u003e.&quot;, &quot;detectRetina&quot;: false, &quot;maxNativeZoom&quot;: 18, &quot;maxZoom&quot;: 18, &quot;minZoom&quot;: 0, &quot;noWrap&quot;: false, &quot;opacity&quot;: 1, &quot;subdomains&quot;: &quot;abc&quot;, &quot;tms&quot;: false}\n",
       "            );\n",
       "        \n",
       "    \n",
       "                tile_layer_244bf67f48d7c3768a2ddd9d94b711a2.addTo(map_c5b6484f0d32c91e839573baf4832fc7);\n",
       "    \n",
       "            var image_overlay_6e6a20916ed7d0e8971a39aff179d1ff = L.imageOverlay(\n",
       "                &quot;data:image/png;base64,iVBORw0KGgoAAAANSUhEUgAAAEkAAACRCAYAAACPHpWeAAAFeklEQVR42u2db2hVZRzHz9xa0zlF3d3cNTMzIZB0WpTDNWsV6nKDEIQoogjBCupNxe61iEgQeuOLKHqTUW8ijF6MohcRsTXb1OZ0TgKxsj+2JXO7u3dz7l/fzve3nXUz2s7kMOzhe+HHs+f3fH9f5cNzzj333Oc81/M8D4oZQxAESZAESZAESZAESSFIgiRIgiRIgiRICkESJEESJEH6f0aOlwPF9CFIgiRIcwcpLycP00VuTu5UzKR11UeQBEmQ5g7SgrxCzM+d/48omFcwFfnz8qciO391jcs+giRIEUFacmMMjMX5yywW5S9B0Q2LsTCvyATBPxb8zTzHqQtqAg9XfQRJkCKCVLpoLSyK1iBWuArFC1ZgaUHpv4yzDThOHfWsm/Jw1EeQwkCKr9wCi/hmxEs2oWzpOhNQzKlGgyDYZ57j1FFvdYGHoz6CJEgRQSqpqEXJPTtRWl6DstsfQnxVJeKxcjsWWRgcw2zNyM9znDrqWcd6l30EKQyk5Y9vQ+mjOxB7ZCdiD9ShdFMN4rdUoWzZHSguXGkmfAcwM7/PPMepo551rHfZR5DCQLr/5Y2oePFOrHuhAiueehDFNbU21eJld6Nk4WqbkrwiZcs+8xynjnrWsd5lH0EKA+mtxH04kKzA3mQ5qvzETU9XI1Zdh/itW+1kRhN+xmFrJzc/z3HqqGcd61328U68ehBH972GhvrHsC95l9Er2V2D5et32DUDj1masWWfeY5TRz3rWO+yjyCFgdT+3ll0vN2O0298jC/qn7RptubZexGrqrPjlNcQnJJs2Wee49RRzzrWu+zjNR7L4Juv+9H24Xl0vP4+DiW22ckqtuthu6giZZ7Y2LLPPMepo551rHfZR5DCQDre1Ycj5/vR1JzGyXc70Zx8Cc8nN05MTf9sX7a22j7ksWV/9d6tNk4d9axj/Wx9mA98Tr3Tcc0+s/3/UD9bH+/HgT6cSfWi+Yd+tDT02LH4QaIG2+s3TFxfbPOvPitrrWWfeY5TRz3rWO+yjyCFgdQznMGvl1No+6MPja0Zm/otyVewP7nZjtHbnqvEzXuqrWWfeY5TRz3rWO+yjzcwOoSLV9JGren7NFo/vYjOAw34KvEM3kxswZ7kBuxOrLeWfeY5Th31rGO9yz4GibTOpnvR8kvKTlgnDp1D5/5PjOzn9U/gcP0ua9lnnuPUUc861rvs46VHL1uHx55NzTMZNH+ZsrfA0wePGF0ep9b6feY5Th31rGO9yz5e78iATaufB1Po7OtF62++sDODpqY0vv3sEo4e7sLxjy5Yyz7zHKeOetax3mUfQQoDiVOKHZ7JeRyeuuQbXkjZWyCnXmO7H22TLaesn+c4ddSzjvUu+xgkRvek4bnMxPXFyZ5efNfdh2O//x3sM89x6qjvnjRy2cdLjQzalArIdw31m+gn/8TFAlINgn3mOU5dQJr1LvvYJQDP4IyrjRndWRHksg2CWpd9vKGxYTAGx65MBQeyIxBnR7Y+8HDVxxsdHwNjeHzkmiPwcNXHG/9zHIrpw4NeM74ESZAESZAESZAESZD0+g9IuqIOccWtz24hPrvpLkCIuwC6nxTifpLuTIa4M6l73CHucevbkhDfluh7N305GQ0krQUIsRZAq0pCrCrR+qQQ65O00i3ESjetmdTC0mggaR13iHXceiJAj01EA0lPKYV4SknPu+mhwGgg6RncEM/g6mluPfIeDSTtMKFtOKKBpF1vtDVQNJC0E5e2KxOkOYOkfSa1GWc0kLT3rTYIFqQ5g6Sd3bX9vSDNGST9bol+3EWQBOl6gqTfb9OP4AmSIF1PkPQ7t/qxYEESJEESJEESJIUgCZIgCZIgCZIgKQRJkARJkARJkNyNvwCSI1SoBAohzAAAAABJRU5ErkJggg==&quot;,\n",
       "                [[-90.0, -180.0], [90.0, 180.0]],\n",
       "                {&quot;opacity&quot;: 0.25}\n",
       "            );\n",
       "        \n",
       "    \n",
       "                image_overlay_6e6a20916ed7d0e8971a39aff179d1ff.addTo(map_c5b6484f0d32c91e839573baf4832fc7);\n",
       "&lt;/script&gt;\n",
       "&lt;/html&gt;\" style=\"position:absolute;width:100%;height:100%;left:0;top:0;border:none !important;\" allowfullscreen webkitallowfullscreen mozallowfullscreen></iframe></div></div>"
      ],
      "text/plain": [
       "<folium.folium.Map at 0x1b16eed0cd0>"
      ]
     },
     "execution_count": 5,
     "metadata": {},
     "output_type": "execute_result"
    }
   ],
   "source": [
    "import cartopy.crs as ccrs\n",
    "from cartopy.img_transform import warp_array\n",
    "\n",
    "source_extent = [lon.min(), lon.max(), lat.min(), lat.max()]\n",
    "\n",
    "new_data = warp_array(\n",
    "    colored_data,\n",
    "    target_proj=ccrs.GOOGLE_MERCATOR,\n",
    "    source_proj=ccrs.PlateCarree(),\n",
    "    target_res=data.shape,\n",
    "    source_extent=source_extent,\n",
    "    target_extent=None,\n",
    "    mask_extrapolated=False,\n",
    ")\n",
    "\n",
    "\n",
    "m = folium.Map(location=[lat.mean(), lon.mean()], zoom_start=1)\n",
    "\n",
    "folium.raster_layers.ImageOverlay(\n",
    "    image=new_data[0],\n",
    "    bounds=[[lat.min(), lon.min()], [lat.max(), lon.max()]],\n",
    "    opacity=0.25,\n",
    ").add_to(m)\n",
    "\n",
    "m"
   ]
  },
  {
   "cell_type": "markdown",
   "id": "10c92565",
   "metadata": {},
   "source": [
    "TODO: Try [rasterio](https://github.com/mapbox/rasterio/blob/ca75cf0a842943c1b3da4522e6ea3500215130fd/docs/reproject.rst).  Rasterio can warp images and arrays.\n",
    "\n",
    "\n",
    "## Compare to original\n",
    "\n",
    "From https://scitools.org.uk/cartopy/docs/latest/gallery/scalar_data/waves.html\n",
    "\n",
    "![](https://scitools.org.uk/cartopy/docs/latest/_images/sphx_glr_waves_001.png)"
   ]
  }
 ],
 "metadata": {
  "jupytext": {
   "text_representation": {
    "extension": ".mystnb",
    "format_name": "myst"
   }
  },
  "language_info": {
   "codemirror_mode": {
    "name": "ipython",
    "version": 3
   },
   "file_extension": ".py",
   "mimetype": "text/x-python",
   "name": "python",
   "nbconvert_exporter": "python",
   "pygments_lexer": "ipython3",
   "version": "3.9.16"
  }
 },
 "nbformat": 4,
 "nbformat_minor": 5
}
