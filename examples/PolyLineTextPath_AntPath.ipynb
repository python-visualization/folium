{
 "cells": [
  {
   "cell_type": "code",
   "execution_count": 1,
   "metadata": {},
   "outputs": [
    {
     "data": {
      "text/html": [
       "<div style=\"width:100%;\"><div style=\"position:relative;width:100%;height:0;padding-bottom:60%;\"><span style=\"color:#565656\">Make this Notebook Trusted to load map: File -> Trust Notebook</span><iframe src=\"about:blank\" style=\"position:absolute;width:100%;height:100%;left:0;top:0;border:none !important;\" data-html=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 onload=\"this.contentDocument.open();this.contentDocument.write(atob(this.getAttribute('data-html')));this.contentDocument.close();\" allowfullscreen webkitallowfullscreen mozallowfullscreen></iframe></div></div>"
      ],
      "text/plain": [
       "<folium.folium.Map at 0x7fd3391769a0>"
      ]
     },
     "execution_count": 1,
     "metadata": {},
     "output_type": "execute_result"
    }
   ],
   "source": [
    "import folium\n",
    "from folium import plugins\n",
    "\n",
    "\n",
    "m = folium.Map([30, 0], zoom_start=3)\n",
    "\n",
    "wind_locations = [\n",
    "    [59.35560, -31.992190],\n",
    "    [55.178870, -42.89062],\n",
    "    [47.754100, -43.94531],\n",
    "    [38.272690, -37.96875],\n",
    "    [27.059130, -41.13281],\n",
    "    [16.299050, -36.56250],\n",
    "    [8.4071700, -30.23437],\n",
    "    [1.0546300, -22.50000],\n",
    "    [-8.754790, -18.28125],\n",
    "    [-21.61658, -20.03906],\n",
    "    [-31.35364, -24.25781],\n",
    "    [-39.90974, -30.93750],\n",
    "    [-43.83453, -41.13281],\n",
    "    [-47.75410, -49.92187],\n",
    "    [-50.95843, -54.14062],\n",
    "    [-55.97380, -56.60156],\n",
    "]\n",
    "\n",
    "wind_line = folium.PolyLine(wind_locations, weight=15, color=\"#8EE9FF\").add_to(m)\n",
    "\n",
    "attr = {\"fill\": \"#007DEF\", \"font-weight\": \"bold\", \"font-size\": \"24\"}\n",
    "\n",
    "plugins.PolyLineTextPath(\n",
    "    wind_line, \") \", repeat=True, offset=7, attributes=attr\n",
    ").add_to(m)\n",
    "\n",
    "danger_line = folium.PolyLine(\n",
    "    [[-40.311, -31.952], [-12.086, -18.727]], weight=10, color=\"orange\", opacity=0.8\n",
    ").add_to(m)\n",
    "\n",
    "attr = {\"fill\": \"red\"}\n",
    "\n",
    "plugins.PolyLineTextPath(\n",
    "    danger_line, \"\\u25BA\", repeat=True, offset=6, attributes=attr\n",
    ").add_to(m)\n",
    "\n",
    "plane_line = folium.PolyLine(\n",
    "    [[-49.38237, -37.26562], [-1.75754, -14.41406], [51.61802, -23.20312]],\n",
    "    weight=1,\n",
    "    color=\"black\",\n",
    ").add_to(m)\n",
    "\n",
    "attr = {\"font-weight\": \"bold\", \"font-size\": \"24\"}\n",
    "\n",
    "plugins.PolyLineTextPath(\n",
    "    plane_line, \"\\u2708     \", repeat=True, offset=8, attributes=attr\n",
    ").add_to(m)\n",
    "\n",
    "\n",
    "line_to_new_delhi = folium.PolyLine(\n",
    "    [\n",
    "        [46.67959447, 3.33984375],\n",
    "        [46.5588603, 29.53125],\n",
    "        [42.29356419, 51.328125],\n",
    "        [35.74651226, 68.5546875],\n",
    "        [28.65203063, 76.81640625],\n",
    "    ]\n",
    ").add_to(m)\n",
    "\n",
    "\n",
    "line_to_hanoi = folium.PolyLine(\n",
    "    [\n",
    "        [28.76765911, 77.60742188],\n",
    "        [27.83907609, 88.72558594],\n",
    "        [25.68113734, 97.3828125],\n",
    "        [21.24842224, 105.77636719],\n",
    "    ]\n",
    ").add_to(m)\n",
    "\n",
    "\n",
    "plugins.PolyLineTextPath(line_to_new_delhi, \"To New Delhi\", offset=-5).add_to(m)\n",
    "\n",
    "\n",
    "plugins.PolyLineTextPath(line_to_hanoi, \"To Hanoi\", offset=-5).add_to(m)\n",
    "\n",
    "m"
   ]
  },
  {
   "cell_type": "code",
   "execution_count": 2,
   "metadata": {},
   "outputs": [
    {
     "data": {
      "text/html": [
       "<div style=\"width:100%;\"><div style=\"position:relative;width:100%;height:0;padding-bottom:60%;\"><span style=\"color:#565656\">Make this Notebook Trusted to load map: File -> Trust Notebook</span><iframe src=\"about:blank\" style=\"position:absolute;width:100%;height:100%;left:0;top:0;border:none !important;\" data-html=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 onload=\"this.contentDocument.open();this.contentDocument.write(atob(this.getAttribute('data-html')));this.contentDocument.close();\" allowfullscreen webkitallowfullscreen mozallowfullscreen></iframe></div></div>"
      ],
      "text/plain": [
       "<folium.folium.Map at 0x7fd33916e610>"
      ]
     },
     "execution_count": 2,
     "metadata": {},
     "output_type": "execute_result"
    }
   ],
   "source": [
    "m = folium.Map()\n",
    "\n",
    "folium.plugins.AntPath(\n",
    "    locations=wind_locations, reverse=\"True\", dash_array=[20, 30]\n",
    ").add_to(m)\n",
    "\n",
    "m.fit_bounds(m.get_bounds())\n",
    "\n",
    "m"
   ]
  }
 ],
 "metadata": {
  "kernelspec": {
   "display_name": "Python 3",
   "language": "python",
   "name": "python3"
  },
  "language_info": {
   "codemirror_mode": {
    "name": "ipython",
    "version": 3
   },
   "file_extension": ".py",
   "mimetype": "text/x-python",
   "name": "python",
   "nbconvert_exporter": "python",
   "pygments_lexer": "ipython3",
   "version": "3.9.0"
  }
 },
 "nbformat": 4,
 "nbformat_minor": 1
}
