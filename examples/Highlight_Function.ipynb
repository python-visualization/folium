{
 "cells": [
  {
   "cell_type": "code",
   "execution_count": null,
   "metadata": {},
   "outputs": [],
   "source": [
    "import os\n",
    "\n",
    "import folium\n",
    "\n",
    "print(folium.__version__)"
   ]
  },
  {
   "cell_type": "code",
   "execution_count": null,
   "metadata": {},
   "outputs": [],
   "source": [
    "import pandas as pd\n",
    "\n",
    "df = pd.read_csv(os.path.join(\"data\", \"highlight_flight_trajectories.csv\"))"
   ]
  },
  {
   "cell_type": "markdown",
   "metadata": {},
   "source": [
    "Let us take a glance at the data.\n",
    "Each row represents the trajectory of a flight,\n",
    "and the last column contains the coordinates of the flight path in `GeoJSON` format."
   ]
  },
  {
   "cell_type": "code",
   "execution_count": null,
   "metadata": {},
   "outputs": [],
   "source": [
    "df"
   ]
  },
  {
   "cell_type": "code",
   "execution_count": null,
   "metadata": {},
   "outputs": [],
   "source": [
    "m = folium.Map(location=[40, 10], zoom_start=4, control_scale=True, prefer_canvas=True)\n",
    "\n",
    "\n",
    "def style_function(feature):\n",
    "    return {\"fillColor\": \"#ffaf00\", \"color\": \"blue\", \"weight\": 1.5, \"dashArray\": \"5, 5\"}\n",
    "\n",
    "\n",
    "def highlight_function(feature):\n",
    "    return {\"fillColor\": \"#ffaf00\", \"color\": \"green\", \"weight\": 3, \"dashArray\": \"5, 5\"}\n",
    "\n",
    "\n",
    "for index, row in df.iterrows():\n",
    "    c = folium.GeoJson(\n",
    "        row[\"geojson\"],\n",
    "        name=(\"{}{}\".format(row[\"dep\"], row[\"dest\"])),\n",
    "        overlay=True,\n",
    "        style_function=style_function,\n",
    "        highlight_function=highlight_function,\n",
    "    )\n",
    "    folium.Popup(\"{}\\n{}\".format(row[\"dep\"], row[\"dest\"])).add_to(c)\n",
    "    c.add_to(m)\n",
    "\n",
    "folium.LayerControl().add_to(m)\n",
    "m.save(os.path.join(\"results\", \"Highlight_Function.html\"))\n",
    "\n",
    "m"
   ]
  }
 ],
 "metadata": {
  "kernelspec": {
   "display_name": "Python 3",
   "language": "python",
   "name": "python3"
  },
  "language_info": {
   "codemirror_mode": {
    "name": "ipython",
    "version": 3
   },
   "file_extension": ".py",
   "mimetype": "text/x-python",
   "name": "python",
   "nbconvert_exporter": "python",
   "pygments_lexer": "ipython3",
   "version": "3.9.0"
  }
 },
 "nbformat": 4,
 "nbformat_minor": 2
}
