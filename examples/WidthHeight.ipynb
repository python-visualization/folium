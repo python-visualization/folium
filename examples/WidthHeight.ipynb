{
 "cells": [
  {
   "cell_type": "code",
   "execution_count": null,
   "metadata": {},
   "outputs": [],
   "source": [
    "from branca.element import Figure\n",
    "\n",
    "lon, lat = -122.1889, 46.1991\n",
    "\n",
    "location = [lat, lon]\n",
    "\n",
    "zoom_start = 13\n",
    "\n",
    "tiles = \"OpenStreetMap\""
   ]
  },
  {
   "cell_type": "markdown",
   "metadata": {},
   "source": [
    "# Using same width and height triggers the scroll bar"
   ]
  },
  {
   "cell_type": "code",
   "execution_count": null,
   "metadata": {},
   "outputs": [],
   "source": [
    "import folium\n",
    "\n",
    "\n",
    "width, height = 480, 350\n",
    "\n",
    "fig = Figure(width=width, height=height)\n",
    "\n",
    "m = folium.Map(\n",
    "    location=location, tiles=tiles, width=width, height=height, zoom_start=zoom_start\n",
    ")\n",
    "\n",
    "fig.add_child(m)\n",
    "\n",
    "fig"
   ]
  },
  {
   "cell_type": "markdown",
   "metadata": {},
   "source": [
    "# Can figure take relative sizes?"
   ]
  },
  {
   "cell_type": "code",
   "execution_count": null,
   "metadata": {},
   "outputs": [],
   "source": [
    "width, height = \"100%\", 350\n",
    "\n",
    "fig = Figure(width=width, height=height)\n",
    "\n",
    "m = folium.Map(\n",
    "    location=location, tiles=tiles, width=width, height=height, zoom_start=zoom_start\n",
    ")\n",
    "\n",
    "fig.add_child(m)\n",
    "\n",
    "fig"
   ]
  },
  {
   "cell_type": "markdown",
   "metadata": {},
   "source": [
    "# I guess not.  (Well, it does make sense for a single HTML page, but not for iframes.)"
   ]
  },
  {
   "cell_type": "code",
   "execution_count": null,
   "metadata": {},
   "outputs": [],
   "source": [
    "width, height = 480, \"100%\"\n",
    "\n",
    "fig = Figure(width=width, height=height)\n",
    "\n",
    "m = folium.Map(\n",
    "    location=location, tiles=tiles, width=width, height=height, zoom_start=zoom_start\n",
    ")\n",
    "\n",
    "fig.add_child(m)\n",
    "\n",
    "fig"
   ]
  },
  {
   "cell_type": "markdown",
   "metadata": {},
   "source": [
    "# Not that Figure is interpreting this as 50px.  We should raise something and be explicit on the docs."
   ]
  },
  {
   "cell_type": "code",
   "execution_count": null,
   "metadata": {},
   "outputs": [],
   "source": [
    "width, height = \"50%\", \"100%\"\n",
    "\n",
    "fig = Figure(width=width, height=height)\n",
    "\n",
    "m = folium.Map(\n",
    "    location=location, tiles=tiles, width=width, height=height, zoom_start=zoom_start\n",
    ")\n",
    "\n",
    "fig.add_child(m)\n",
    "\n",
    "fig"
   ]
  },
  {
   "cell_type": "code",
   "execution_count": null,
   "metadata": {},
   "outputs": [],
   "source": [
    "width, height = \"150%\", \"100%\"\n",
    "\n",
    "try:\n",
    "    folium.Map(\n",
    "        location=location,\n",
    "        tiles=tiles,\n",
    "        width=width,\n",
    "        height=height,\n",
    "        zoom_start=zoom_start,\n",
    "    )\n",
    "except ValueError as e:\n",
    "    print(e)"
   ]
  },
  {
   "cell_type": "code",
   "execution_count": null,
   "metadata": {},
   "outputs": [],
   "source": [
    "width, height = \"50%\", \"80p\"\n",
    "\n",
    "try:\n",
    "    folium.Map(\n",
    "        location=location,\n",
    "        tiles=tiles,\n",
    "        width=width,\n",
    "        height=height,\n",
    "        zoom_start=zoom_start,\n",
    "    )\n",
    "except ValueError as e:\n",
    "    print(e)"
   ]
  },
  {
   "cell_type": "code",
   "execution_count": null,
   "metadata": {},
   "outputs": [],
   "source": [
    "width, height = width, height = 480, -350\n",
    "\n",
    "try:\n",
    "    folium.Map(\n",
    "        location=location,\n",
    "        tiles=tiles,\n",
    "        width=width,\n",
    "        height=height,\n",
    "        zoom_start=zoom_start,\n",
    "    )\n",
    "except ValueError as e:\n",
    "    print(e)"
   ]
  },
  {
   "cell_type": "markdown",
   "metadata": {},
   "source": [
    "# Maybe we should recommend"
   ]
  },
  {
   "cell_type": "code",
   "execution_count": null,
   "metadata": {},
   "outputs": [],
   "source": [
    "width, height = 480, 350\n",
    "\n",
    "fig = Figure(width=width, height=height)\n",
    "\n",
    "m = folium.Map(\n",
    "    location=location, tiles=tiles, width=\"100%\", height=\"100%\", zoom_start=zoom_start\n",
    ")\n",
    "\n",
    "fig.add_child(m)\n",
    "\n",
    "fig"
   ]
  }
 ],
 "metadata": {
  "kernelspec": {
   "display_name": "Python 3 (ipykernel)",
   "language": "python",
   "name": "python3"
  },
  "language_info": {
   "codemirror_mode": {
    "name": "ipython",
    "version": 3
   },
   "file_extension": ".py",
   "mimetype": "text/x-python",
   "name": "python",
   "nbconvert_exporter": "python",
   "pygments_lexer": "ipython3",
   "version": "3.10.1"
  }
 },
 "nbformat": 4,
 "nbformat_minor": 1
}
