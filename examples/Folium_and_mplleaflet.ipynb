{
 "cells": [
  {
   "cell_type": "code",
   "execution_count": null,
   "metadata": {},
   "outputs": [],
   "source": [
    "import os\n",
    "\n",
    "import folium\n",
    "\n",
    "print(folium.__version__)"
   ]
  },
  {
   "cell_type": "code",
   "execution_count": null,
   "metadata": {},
   "outputs": [],
   "source": [
    "import gpxpy\n",
    "import requests\n",
    "\n",
    "url = (\n",
    "    \"https://raw.githubusercontent.com/python-visualization/folium/master/examples/data\"\n",
    ")\n",
    "fname = f\"{url}/2014_08_05_farol.gpx\"\n",
    "gpx = gpxpy.parse(requests.get(fname).text)\n",
    "\n",
    "print(\"{} track(s)\".format(len(gpx.tracks)))\n",
    "track = gpx.tracks[0]\n",
    "\n",
    "print(\"{} segment(s)\".format(len(track.segments)))\n",
    "segment = track.segments[0]\n",
    "\n",
    "print(\"{} point(s)\".format(len(segment.points)))"
   ]
  },
  {
   "cell_type": "code",
   "execution_count": null,
   "metadata": {},
   "outputs": [],
   "source": [
    "data = []\n",
    "segment_length = segment.length_3d()\n",
    "for point_idx, point in enumerate(segment.points):\n",
    "    data.append(\n",
    "        [\n",
    "            point.longitude,\n",
    "            point.latitude,\n",
    "            point.elevation,\n",
    "            point.time,\n",
    "            segment.get_speed(point_idx),\n",
    "        ]\n",
    "    )"
   ]
  },
  {
   "cell_type": "code",
   "execution_count": null,
   "metadata": {},
   "outputs": [],
   "source": [
    "from pandas import DataFrame\n",
    "\n",
    "columns = [\"Longitude\", \"Latitude\", \"Altitude\", \"Time\", \"Speed\"]\n",
    "df = DataFrame(data, columns=columns)\n",
    "df.head()"
   ]
  },
  {
   "cell_type": "code",
   "execution_count": null,
   "metadata": {},
   "outputs": [],
   "source": [
    "import numpy as np\n",
    "from geographiclib.geodesic import Geodesic\n",
    "\n",
    "angles = [90]\n",
    "for i in range(len(df) - 1):\n",
    "    info = Geodesic.WGS84.Inverse(\n",
    "        df.iloc[i, 1], df.iloc[i, 0], df.iloc[i + 1, 1], df.iloc[i + 1, 0]\n",
    "    )\n",
    "    angles.append(info[\"azi2\"])\n",
    "\n",
    "# Change from CW-from-North to CCW-from-East.\n",
    "angles = np.deg2rad(450 - np.array(angles))\n",
    "\n",
    "# Normalize the speed to use as the length of the arrows.\n",
    "r = df[\"Speed\"] / df[\"Speed\"].max()\n",
    "df[\"u\"] = r * np.cos(angles)\n",
    "df[\"v\"] = r * np.sin(angles)"
   ]
  },
  {
   "cell_type": "code",
   "execution_count": null,
   "metadata": {},
   "outputs": [],
   "source": [
    "import matplotlib.pyplot as plt\n",
    "import mplleaflet\n",
    "\n",
    "fig, ax = plt.subplots()\n",
    "df = df.dropna()\n",
    "\n",
    "# This style was lost below.\n",
    "ax.plot(df[\"Longitude\"], df[\"Latitude\"], color=\"darkorange\", linewidth=5, alpha=0.5)\n",
    "\n",
    "# This is preserved in the SVG icon.\n",
    "sub = 10\n",
    "kw = {\"color\": \"deepskyblue\", \"alpha\": 0.8, \"scale\": 10}\n",
    "ax.quiver(\n",
    "    df[\"Longitude\"][::sub], df[\"Latitude\"][::sub], df[\"u\"][::sub], df[\"v\"][::sub], **kw\n",
    ")\n",
    "\n",
    "gj = mplleaflet.fig_to_geojson(fig=fig)"
   ]
  },
  {
   "cell_type": "code",
   "execution_count": null,
   "metadata": {
    "scrolled": false
   },
   "outputs": [],
   "source": [
    "import folium\n",
    "\n",
    "lon, lat = -38.51386097, -13.00868051\n",
    "zoom_start = 14\n",
    "\n",
    "m = folium.Map(location=[lat, lon], tiles=\"Cartodb Positron\", zoom_start=zoom_start)\n",
    "\n",
    "# The first geometry is a lineString.\n",
    "line_string = gj[\"features\"][0]\n",
    "gjson = folium.features.GeoJson(line_string)\n",
    "\n",
    "m.add_child(gjson)\n",
    "m.save(os.path.join(\"results\", \"Folium_and_mplleaflet_0.html\"))\n",
    "\n",
    "m"
   ]
  },
  {
   "cell_type": "code",
   "execution_count": null,
   "metadata": {},
   "outputs": [],
   "source": [
    "line_string[\"properties\"]"
   ]
  },
  {
   "cell_type": "code",
   "execution_count": null,
   "metadata": {},
   "outputs": [],
   "source": [
    "from IPython.display import HTML\n",
    "\n",
    "msg = '<font color=\"{}\">This should be darkorange!</font>'.format\n",
    "HTML(msg(line_string[\"properties\"][\"color\"]))"
   ]
  },
  {
   "cell_type": "code",
   "execution_count": null,
   "metadata": {},
   "outputs": [],
   "source": [
    "m = folium.Map(location=[lat, lon], tiles=\"Cartodb Positron\", zoom_start=zoom_start)\n",
    "\n",
    "icon_size = (14, 14)\n",
    "\n",
    "for feature in gj[\"features\"]:\n",
    "    if feature[\"geometry\"][\"type\"] == \"LineString\":\n",
    "        continue\n",
    "    elif feature[\"geometry\"][\"type\"] == \"Point\":\n",
    "        lon, lat = feature[\"geometry\"][\"coordinates\"]\n",
    "        html = feature[\"properties\"][\"html\"]\n",
    "\n",
    "        icon_anchor = (\n",
    "            feature[\"properties\"][\"anchor_x\"],\n",
    "            feature[\"properties\"][\"anchor_y\"],\n",
    "        )\n",
    "\n",
    "        icon = folium.features.DivIcon(\n",
    "            html=html, icon_size=(14, 14), icon_anchor=icon_anchor\n",
    "        )\n",
    "        marker = folium.map.Marker([lat, lon], icon=icon)\n",
    "        m.add_child(marker)\n",
    "    else:\n",
    "        msg = \"Unexpected geometry {}\".format\n",
    "        raise ValueError(msg(feature[\"geometry\"]))\n",
    "\n",
    "m.save(os.path.join(\"results\", \"Folium_and_mplleaflet_1.html\"))\n",
    "\n",
    "m"
   ]
  }
 ],
 "metadata": {
  "kernelspec": {
   "display_name": "Python 3",
   "language": "python",
   "name": "python3"
  },
  "language_info": {
   "codemirror_mode": {
    "name": "ipython",
    "version": 3
   },
   "file_extension": ".py",
   "mimetype": "text/x-python",
   "name": "python",
   "nbconvert_exporter": "python",
   "pygments_lexer": "ipython3",
   "version": "3.9.0"
  }
 },
 "nbformat": 4,
 "nbformat_minor": 1
}
