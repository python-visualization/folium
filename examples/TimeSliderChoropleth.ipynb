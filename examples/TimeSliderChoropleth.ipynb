{
 "cells": [
  {
   "cell_type": "code",
   "execution_count": null,
   "metadata": {},
   "outputs": [],
   "source": [
    "import os\n",
    "\n",
    "import folium\n",
    "\n",
    "print(folium.__version__)"
   ]
  },
  {
   "cell_type": "markdown",
   "metadata": {},
   "source": [
    "# Introduction\n",
    "\n",
    "In this notebook we'll make a choropleth with a timeslider. We'll use my branched version of `folium`, which contains a plugin with a class called `TimeDynamicGeoJson`.\n",
    "\n",
    "The class needs at least two arguments to be instantiated. \n",
    "\n",
    "1. A string-serielized geojson containing all the features (i.e., the areas)\n",
    "2. A dictionary with the following structure:\n",
    "\n",
    "```python\n",
    "styledict = {\n",
    "    '0': {\n",
    "        '2017-1-1': {'color': 'ffffff', 'opacity': 1}\n",
    "        '2017-1-2': {'color': 'fffff0', 'opacity': 1}\n",
    "        ...\n",
    "        },\n",
    "    ...,\n",
    "    'n': {\n",
    "        '2017-1-1': {'color': 'ffffff', 'opacity': 1}\n",
    "        '2017-1-2': {'color': 'fffff0', 'opacity': 1}\n",
    "        ...\n",
    "        }\n",
    "}\n",
    "```\n",
    "\n",
    "In the above dictionary, the keys are the feature-ids.\n",
    "\n",
    "Using both color and opacity gives us the ability to simultaneously visualize two features on the choropleth. I typically use color to visualize the main feature (like, average height) and opacity to visualize how many measurements were in that group.\n",
    "\n",
    "## Loading the features\n",
    "We use `geopandas` to load a dataset containing the boundaries of all the countries in the world."
   ]
  },
  {
   "cell_type": "code",
   "execution_count": null,
   "metadata": {},
   "outputs": [],
   "source": [
    "import geopandas as gpd\n",
    "\n",
    "assert \"naturalearth_lowres\" in gpd.datasets.available\n",
    "datapath = gpd.datasets.get_path(\"naturalearth_lowres\")\n",
    "gdf = gpd.read_file(datapath)"
   ]
  },
  {
   "cell_type": "code",
   "execution_count": null,
   "metadata": {},
   "outputs": [],
   "source": [
    "%matplotlib inline\n",
    "\n",
    "ax = gdf.plot(figsize=(10, 10))"
   ]
  },
  {
   "cell_type": "markdown",
   "metadata": {},
   "source": [
    "The `GeoDataFrame` contains the boundary coordinates, as well as some other data such as estimated population."
   ]
  },
  {
   "cell_type": "code",
   "execution_count": null,
   "metadata": {},
   "outputs": [],
   "source": [
    "gdf.head()"
   ]
  },
  {
   "cell_type": "markdown",
   "metadata": {},
   "source": [
    "## Creating the style dictionary\n",
    "Now we generate time series data for each country.  \n",
    "\n",
    "Data for different areas might be sampled at different times, and `TimeDynamicGeoJson` can deal with that. This means that there is no need to resample the data, as long as the number of datapoints isn't too large for the browser to deal with.  \n",
    "\n",
    "To simulate that data is sampled at different times we random sample data for `n_periods` rows of data and then pick without replacing `n_sample` of those rows. "
   ]
  },
  {
   "cell_type": "code",
   "execution_count": null,
   "metadata": {},
   "outputs": [],
   "source": [
    "import pandas as pd\n",
    "\n",
    "n_periods, n_sample = 48, 40\n",
    "\n",
    "assert n_sample < n_periods\n",
    "\n",
    "datetime_index = pd.date_range(\"2016-1-1\", periods=n_periods, freq=\"M\")\n",
    "dt_index_epochs = datetime_index.astype(int) // 10 ** 9\n",
    "dt_index = dt_index_epochs.astype(\"U10\")\n",
    "\n",
    "dt_index"
   ]
  },
  {
   "cell_type": "code",
   "execution_count": null,
   "metadata": {},
   "outputs": [],
   "source": [
    "import numpy as np\n",
    "\n",
    "styledata = {}\n",
    "\n",
    "for country in gdf.index:\n",
    "    df = pd.DataFrame(\n",
    "        {\n",
    "            \"color\": np.random.normal(size=n_periods),\n",
    "            \"opacity\": np.random.normal(size=n_periods),\n",
    "        },\n",
    "        index=dt_index,\n",
    "    )\n",
    "    df = df.cumsum()\n",
    "    df.sample(n_sample, replace=False).sort_index()\n",
    "    styledata[country] = df"
   ]
  },
  {
   "cell_type": "markdown",
   "metadata": {},
   "source": [
    "Note that the geodata and random sampled data is linked through the feature_id, which is the index of the `GeoDataFrame`."
   ]
  },
  {
   "cell_type": "code",
   "execution_count": null,
   "metadata": {},
   "outputs": [],
   "source": [
    "gdf.loc[0]"
   ]
  },
  {
   "cell_type": "code",
   "execution_count": null,
   "metadata": {},
   "outputs": [],
   "source": [
    "styledata.get(0).head()"
   ]
  },
  {
   "cell_type": "markdown",
   "metadata": {},
   "source": [
    "We see that we generated two series of data for each country; one for color and one for opacity. Let's plot them to see what they look like. "
   ]
  },
  {
   "cell_type": "code",
   "execution_count": null,
   "metadata": {},
   "outputs": [],
   "source": [
    "ax = df.plot()"
   ]
  },
  {
   "cell_type": "markdown",
   "metadata": {},
   "source": [
    "Looks random alright. We want to map the column named `color` to a hex color. To do this we use a normal colormap. To create the colormap, we calculate the maximum and minimum values over all the timeseries. We also need the max/min of the `opacity` column, so that we can map that column into a range [0,1]."
   ]
  },
  {
   "cell_type": "code",
   "execution_count": null,
   "metadata": {},
   "outputs": [],
   "source": [
    "max_color, min_color, max_opacity, min_opacity = 0, 0, 0, 0\n",
    "\n",
    "for country, data in styledata.items():\n",
    "    max_color = max(max_color, data[\"color\"].max())\n",
    "    min_color = min(max_color, data[\"color\"].min())\n",
    "    max_opacity = max(max_color, data[\"opacity\"].max())\n",
    "    max_opacity = min(max_color, data[\"opacity\"].max())"
   ]
  },
  {
   "cell_type": "markdown",
   "metadata": {},
   "source": [
    "Define and apply maps: "
   ]
  },
  {
   "cell_type": "code",
   "execution_count": null,
   "metadata": {},
   "outputs": [],
   "source": [
    "from branca.colormap import linear\n",
    "\n",
    "cmap = linear.PuRd_09.scale(min_color, max_color)\n",
    "\n",
    "\n",
    "def norm(x):\n",
    "    return (x - x.min()) / (x.max() - x.min())\n",
    "\n",
    "\n",
    "for country, data in styledata.items():\n",
    "    data[\"color\"] = data[\"color\"].apply(cmap)\n",
    "    data[\"opacity\"] = norm(data[\"opacity\"])"
   ]
  },
  {
   "cell_type": "code",
   "execution_count": null,
   "metadata": {},
   "outputs": [],
   "source": [
    "styledata.get(0).head()"
   ]
  },
  {
   "cell_type": "markdown",
   "metadata": {},
   "source": [
    "Finally we use `pd.DataFrame.to_dict()` to convert each dataframe into a dictionary, and place each of these in a map from country id to data. "
   ]
  },
  {
   "cell_type": "code",
   "execution_count": null,
   "metadata": {},
   "outputs": [],
   "source": [
    "styledict = {\n",
    "    str(country): data.to_dict(orient=\"index\") for country, data in styledata.items()\n",
    "}"
   ]
  },
  {
   "cell_type": "markdown",
   "metadata": {},
   "source": [
    "Finally we can create the choropleth. I like to use the Stamen Toner tileset because its monochrome colors makes it neutral and clean looking.  \n",
    "\n",
    "If the time slider above doesn't show up in the notebook, it's probably because the output is being cropped. Try loading the saved .html file in your browser for the fullscreen experience.   "
   ]
  },
  {
   "cell_type": "code",
   "execution_count": null,
   "metadata": {
    "scrolled": false
   },
   "outputs": [],
   "source": [
    "from folium.plugins import TimeSliderChoropleth\n",
    "\n",
    "m = folium.Map([0, 0], tiles=\"Stamen Toner\", zoom_start=2)\n",
    "\n",
    "g = TimeSliderChoropleth(\n",
    "    gdf.to_json(),\n",
    "    styledict=styledict,\n",
    ").add_to(m)\n",
    "\n",
    "m.save(os.path.join(\"results\", \"TimeSliderChoropleth.html\"))\n",
    "\n",
    "m"
   ]
  }
 ],
 "metadata": {
  "kernelspec": {
   "display_name": "Python 3",
   "language": "python",
   "name": "python3"
  },
  "language_info": {
   "codemirror_mode": {
    "name": "ipython",
    "version": 3
   },
   "file_extension": ".py",
   "mimetype": "text/x-python",
   "name": "python",
   "nbconvert_exporter": "python",
   "pygments_lexer": "ipython3",
   "version": "3.9.0"
  }
 },
 "nbformat": 4,
 "nbformat_minor": 2
}
