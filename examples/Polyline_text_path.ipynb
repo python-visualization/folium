{
 "cells": [
  {
   "cell_type": "code",
   "execution_count": 1,
   "metadata": {},
   "outputs": [
    {
     "name": "stdout",
     "output_type": "stream",
     "text": [
      "0.3.0+162.g0540622.dirty\n"
     ]
    }
   ],
   "source": [
    "import os\n",
    "import folium\n",
    "\n",
    "print(folium.__version__)"
   ]
  },
  {
   "cell_type": "markdown",
   "metadata": {},
   "source": [
    "# Demostrate PolylineTextPath plugin"
   ]
  },
  {
   "cell_type": "code",
   "execution_count": 2,
   "metadata": {},
   "outputs": [
    {
     "data": {
      "text/html": [
       "<div style=\"width:100%;\"><div style=\"position:relative;width:100%;height:0;padding-bottom:60%;\"><iframe src=\"data:text/html;charset=utf-8;base64,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\" style=\"position:absolute;width:100%;height:100%;left:0;top:0;border:none !important;\" allowfullscreen webkitallowfullscreen mozallowfullscreen></iframe></div></div>"
      ],
      "text/plain": [
       "<folium.folium.Map at 0x7fad0a966b90>"
      ]
     },
     "execution_count": 2,
     "metadata": {},
     "output_type": "execute_result"
    }
   ],
   "source": [
    "from folium import plugins\n",
    "\n",
    "m = folium.Map([30, 0], zoom_start=3)\n",
    "\n",
    "wind_locations = [\n",
    "    [59.35560, -31.992190],\n",
    "    [55.178870, -42.89062],\n",
    "    [47.754100, -43.94531],\n",
    "    [38.272690, -37.96875],\n",
    "    [27.059130, -41.13281],\n",
    "    [16.299050, -36.56250],\n",
    "    [8.4071700, -30.23437],\n",
    "    [1.0546300, -22.50000],\n",
    "    [-8.754790, -18.28125],\n",
    "    [-21.61658, -20.03906],\n",
    "    [-31.35364, -24.25781],\n",
    "    [-39.90974, -30.93750],\n",
    "    [-43.83453, -41.13281],\n",
    "    [-47.75410, -49.92187],\n",
    "    [-50.95843, -54.14062],\n",
    "    [-55.97380, -56.60156]\n",
    "]\n",
    "\n",
    "wind_line = folium.PolyLine(\n",
    "    wind_locations,\n",
    "    weight=15,\n",
    "    color='#8EE9FF'\n",
    ").add_to(m)\n",
    "\n",
    "attr = {'fill': '#007DEF', 'font-weight': 'bold', 'font-size': '24'}\n",
    "\n",
    "plugins.PolyLineTextPath(\n",
    "    wind_line,\n",
    "    ') ',\n",
    "    repeat=True,\n",
    "    offset=7,\n",
    "    attributes=attr\n",
    ").add_to(m)\n",
    "\n",
    "danger_line = folium.PolyLine(\n",
    "    [[-40.311, -31.952],\n",
    "     [-12.086, -18.727]],\n",
    "    weight=10,\n",
    "    color='orange',\n",
    "    opacity=0.8\n",
    ").add_to(m)\n",
    "\n",
    "attr = {'fill': 'red'}\n",
    "\n",
    "plugins.PolyLineTextPath(\n",
    "    danger_line,\n",
    "    '\\u25BA',\n",
    "    repeat=True,\n",
    "    offset=6,\n",
    "    attributes=attr\n",
    ").add_to(m)\n",
    "\n",
    "plane_line = folium.PolyLine(\n",
    "    [[-49.38237, -37.26562],\n",
    "     [-1.75754, -14.41406],\n",
    "     [51.61802, -23.20312]],\n",
    "    weight=1,\n",
    "    color='black'\n",
    ").add_to(m)\n",
    "\n",
    "attr = {'font-weight': 'bold', 'font-size': '24'}\n",
    "\n",
    "plugins.PolyLineTextPath(\n",
    "    plane_line,\n",
    "    '\\u2708     ',\n",
    "    repeat=True,\n",
    "    offset=8,\n",
    "    attributes=attr\n",
    ").add_to(m)\n",
    "\n",
    "\n",
    "line_to_new_delhi = folium.PolyLine(\n",
    "    [[46.67959447, 3.33984375],\n",
    "     [46.5588603, 29.53125],\n",
    "     [42.29356419, 51.328125],\n",
    "     [35.74651226, 68.5546875],\n",
    "     [28.65203063, 76.81640625]]\n",
    ").add_to(m)\n",
    "\n",
    "\n",
    "line_to_hanoi = folium.PolyLine(\n",
    "    [[28.76765911, 77.60742188],\n",
    "     [27.83907609, 88.72558594],\n",
    "     [25.68113734, 97.3828125],\n",
    "     [21.24842224, 105.77636719]]\n",
    ").add_to(m)\n",
    "\n",
    "\n",
    "plugins.PolyLineTextPath(\n",
    "    line_to_new_delhi,\n",
    "    'To New Delhi',\n",
    "    offset=-5\n",
    ").add_to(m)\n",
    "\n",
    "\n",
    "plugins.PolyLineTextPath(\n",
    "    line_to_hanoi,\n",
    "    'To Hanoi',\n",
    "    offset=-5\n",
    ").add_to(m)\n",
    "\n",
    "m.save(os.path.join('results', 'Polyline_text_path.html'))\n",
    "\n",
    "m"
   ]
  }
 ],
 "metadata": {
  "kernelspec": {
   "display_name": "Python 2",
   "language": "python",
   "name": "python2"
  },
  "language_info": {
   "codemirror_mode": {
    "name": "ipython",
    "version": 2
   },
   "file_extension": ".py",
   "mimetype": "text/x-python",
   "name": "python",
   "nbconvert_exporter": "python",
   "pygments_lexer": "ipython2",
   "version": "2.7.13"
  }
 },
 "nbformat": 4,
 "nbformat_minor": 1
}
