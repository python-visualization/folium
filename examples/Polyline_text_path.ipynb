{
 "cells": [
  {
   "cell_type": "code",
   "execution_count": 1,
   "metadata": {},
   "outputs": [
    {
     "name": "stdout",
     "output_type": "stream",
     "text": [
      "0.5.0+27.g2d457b0.dirty\n"
     ]
    }
   ],
   "source": [
    "import os\n",
    "import folium\n",
    "\n",
    "print(folium.__version__)"
   ]
  },
  {
   "cell_type": "markdown",
   "metadata": {},
   "source": [
    "# Demostrate PolylineTextPath plugin"
   ]
  },
  {
   "cell_type": "code",
   "execution_count": 2,
   "metadata": {},
   "outputs": [
    {
     "data": {
      "text/html": [
       "<div style=\"width:100%;\"><div style=\"position:relative;width:100%;height:0;padding-bottom:60%;\"><iframe src=\"data:text/html;charset=utf-8;base64,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\" style=\"position:absolute;width:100%;height:100%;left:0;top:0;border:none !important;\" allowfullscreen webkitallowfullscreen mozallowfullscreen></iframe></div></div>"
      ],
      "text/plain": [
       "<folium.folium.Map at 0x7f51ed3bf6a0>"
      ]
     },
     "execution_count": 2,
     "metadata": {},
     "output_type": "execute_result"
    }
   ],
   "source": [
    "from folium import plugins\n",
    "\n",
    "m = folium.Map([30, 0], zoom_start=3)\n",
    "\n",
    "wind_locations = [\n",
    "    [59.35560, -31.992190],\n",
    "    [55.178870, -42.89062],\n",
    "    [47.754100, -43.94531],\n",
    "    [38.272690, -37.96875],\n",
    "    [27.059130, -41.13281],\n",
    "    [16.299050, -36.56250],\n",
    "    [8.4071700, -30.23437],\n",
    "    [1.0546300, -22.50000],\n",
    "    [-8.754790, -18.28125],\n",
    "    [-21.61658, -20.03906],\n",
    "    [-31.35364, -24.25781],\n",
    "    [-39.90974, -30.93750],\n",
    "    [-43.83453, -41.13281],\n",
    "    [-47.75410, -49.92187],\n",
    "    [-50.95843, -54.14062],\n",
    "    [-55.97380, -56.60156]\n",
    "]\n",
    "\n",
    "wind_line = folium.PolyLine(\n",
    "    wind_locations,\n",
    "    weight=15,\n",
    "    color='#8EE9FF'\n",
    ").add_to(m)\n",
    "\n",
    "attr = {'fill': '#007DEF', 'font-weight': 'bold', 'font-size': '24'}\n",
    "\n",
    "plugins.PolyLineTextPath(\n",
    "    wind_line,\n",
    "    ') ',\n",
    "    repeat=True,\n",
    "    offset=7,\n",
    "    attributes=attr\n",
    ").add_to(m)\n",
    "\n",
    "danger_line = folium.PolyLine(\n",
    "    [[-40.311, -31.952],\n",
    "     [-12.086, -18.727]],\n",
    "    weight=10,\n",
    "    color='orange',\n",
    "    opacity=0.8\n",
    ").add_to(m)\n",
    "\n",
    "attr = {'fill': 'red'}\n",
    "\n",
    "plugins.PolyLineTextPath(\n",
    "    danger_line,\n",
    "    '\\u25BA',\n",
    "    repeat=True,\n",
    "    offset=6,\n",
    "    attributes=attr\n",
    ").add_to(m)\n",
    "\n",
    "plane_line = folium.PolyLine(\n",
    "    [[-49.38237, -37.26562],\n",
    "     [-1.75754, -14.41406],\n",
    "     [51.61802, -23.20312]],\n",
    "    weight=1,\n",
    "    color='black'\n",
    ").add_to(m)\n",
    "\n",
    "attr = {'font-weight': 'bold', 'font-size': '24'}\n",
    "\n",
    "plugins.PolyLineTextPath(\n",
    "    plane_line,\n",
    "    '\\u2708     ',\n",
    "    repeat=True,\n",
    "    offset=8,\n",
    "    attributes=attr\n",
    ").add_to(m)\n",
    "\n",
    "\n",
    "line_to_new_delhi = folium.PolyLine(\n",
    "    [[46.67959447, 3.33984375],\n",
    "     [46.5588603, 29.53125],\n",
    "     [42.29356419, 51.328125],\n",
    "     [35.74651226, 68.5546875],\n",
    "     [28.65203063, 76.81640625]]\n",
    ").add_to(m)\n",
    "\n",
    "\n",
    "line_to_hanoi = folium.PolyLine(\n",
    "    [[28.76765911, 77.60742188],\n",
    "     [27.83907609, 88.72558594],\n",
    "     [25.68113734, 97.3828125],\n",
    "     [21.24842224, 105.77636719]]\n",
    ").add_to(m)\n",
    "\n",
    "\n",
    "plugins.PolyLineTextPath(\n",
    "    line_to_new_delhi,\n",
    "    'To New Delhi',\n",
    "    offset=-5\n",
    ").add_to(m)\n",
    "\n",
    "\n",
    "plugins.PolyLineTextPath(\n",
    "    line_to_hanoi,\n",
    "    'To Hanoi',\n",
    "    offset=-5\n",
    ").add_to(m)\n",
    "\n",
    "m.save(os.path.join('results', 'Polyline_text_path.html'))\n",
    "\n",
    "m"
   ]
  }
 ],
 "metadata": {
  "kernelspec": {
   "display_name": "Python 3",
   "language": "python",
   "name": "python3"
  },
  "language_info": {
   "codemirror_mode": {
    "name": "ipython",
    "version": 3
   },
   "file_extension": ".py",
   "mimetype": "text/x-python",
   "name": "python",
   "nbconvert_exporter": "python",
   "pygments_lexer": "ipython3",
   "version": "3.6.2"
  }
 },
 "nbformat": 4,
 "nbformat_minor": 1
}
