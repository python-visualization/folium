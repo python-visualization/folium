{
 "cells": [
  {
   "cell_type": "code",
   "execution_count": null,
   "metadata": {},
   "outputs": [],
   "source": [
    "import folium\n",
    "\n",
    "\n",
    "m = folium.Map(location=[41, -71], zoom_start=4)\n",
    "\n",
    "kw = {\"prefix\": \"fa\", \"color\": \"green\", \"icon\": \"arrow-up\"}\n",
    "\n",
    "angle = 180\n",
    "icon = folium.Icon(angle=angle, **kw)\n",
    "folium.Marker(location=[41, -72], icon=icon, tooltip=str(angle)).add_to(m)\n",
    "\n",
    "angle = 45\n",
    "icon = folium.Icon(angle=angle, **kw)\n",
    "folium.Marker(location=[41, -75], icon=icon, tooltip=str(angle)).add_to(m)\n",
    "\n",
    "angle = 90\n",
    "icon = folium.Icon(angle=angle, **kw)\n",
    "folium.Marker([41, -78], icon=icon, tooltip=str(angle)).add_to(m)\n",
    "\n",
    "m"
   ]
  }
 ],
 "metadata": {
  "kernelspec": {
   "display_name": "Python 3 (ipykernel)",
   "language": "python",
   "name": "python3"
  },
  "language_info": {
   "codemirror_mode": {
    "name": "ipython",
    "version": 3
   },
   "file_extension": ".py",
   "mimetype": "text/x-python",
   "name": "python",
   "nbconvert_exporter": "python",
   "pygments_lexer": "ipython3",
   "version": "3.10.1"
  }
 },
 "nbformat": 4,
 "nbformat_minor": 1
}
