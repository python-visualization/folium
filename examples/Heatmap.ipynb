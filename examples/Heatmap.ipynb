{
 "cells": [
  {
   "cell_type": "code",
   "execution_count": 1,
   "metadata": {
    "execution": {
     "iopub.execute_input": "2022-11-21T15:42:36.656096Z",
     "iopub.status.busy": "2022-11-21T15:42:36.656096Z",
     "iopub.status.idle": "2022-11-21T15:42:36.762089Z",
     "shell.execute_reply": "2022-11-21T15:42:36.762089Z"
    }
   },
   "outputs": [],
   "source": [
    "import numpy as np\n",
    "\n",
    "\n",
    "data = (\n",
    "    np.random.normal(size=(100, 3)) * np.array([[1, 1, 1]]) + np.array([[48, 5, 1]])\n",
    ").tolist()"
   ]
  },
  {
   "cell_type": "code",
   "execution_count": 2,
   "metadata": {
    "execution": {
     "iopub.execute_input": "2022-11-21T15:42:36.765092Z",
     "iopub.status.busy": "2022-11-21T15:42:36.765092Z",
     "iopub.status.idle": "2022-11-21T15:42:37.431088Z",
     "shell.execute_reply": "2022-11-21T15:42:37.431088Z"
    }
   },
   "outputs": [
    {
     "data": {
      "text/html": [
       "<div style=\"width:100%;\"><div style=\"position:relative;width:100%;height:0;padding-bottom:60%;\"><span style=\"color:#565656\">Make this Notebook Trusted to load map: File -> Trust Notebook</span><iframe srcdoc=\"&lt;!DOCTYPE html&gt;\n",
       "&lt;html&gt;\n",
       "&lt;head&gt;\n",
       "    \n",
       "    &lt;meta http-equiv=&quot;content-type&quot; content=&quot;text/html; charset=UTF-8&quot; /&gt;\n",
       "    \n",
       "        &lt;script&gt;\n",
       "            L_NO_TOUCH = false;\n",
       "            L_DISABLE_3D = false;\n",
       "        &lt;/script&gt;\n",
       "    \n",
       "    &lt;style&gt;html, body {width: 100%;height: 100%;margin: 0;padding: 0;}&lt;/style&gt;\n",
       "    &lt;style&gt;#map {position:absolute;top:0;bottom:0;right:0;left:0;}&lt;/style&gt;\n",
       "    &lt;script src=&quot;https://cdn.jsdelivr.net/npm/leaflet@1.9.3/dist/leaflet.js&quot;&gt;&lt;/script&gt;\n",
       "    &lt;script src=&quot;https://code.jquery.com/jquery-1.12.4.min.js&quot;&gt;&lt;/script&gt;\n",
       "    &lt;script src=&quot;https://cdn.jsdelivr.net/npm/bootstrap@5.2.2/dist/js/bootstrap.bundle.min.js&quot;&gt;&lt;/script&gt;\n",
       "    &lt;script src=&quot;https://cdnjs.cloudflare.com/ajax/libs/Leaflet.awesome-markers/2.0.2/leaflet.awesome-markers.js&quot;&gt;&lt;/script&gt;\n",
       "    &lt;link rel=&quot;stylesheet&quot; href=&quot;https://cdn.jsdelivr.net/npm/leaflet@1.9.3/dist/leaflet.css&quot;/&gt;\n",
       "    &lt;link rel=&quot;stylesheet&quot; href=&quot;https://cdn.jsdelivr.net/npm/bootstrap@5.2.2/dist/css/bootstrap.min.css&quot;/&gt;\n",
       "    &lt;link rel=&quot;stylesheet&quot; href=&quot;https://netdna.bootstrapcdn.com/bootstrap/3.0.0/css/bootstrap.min.css&quot;/&gt;\n",
       "    &lt;link rel=&quot;stylesheet&quot; href=&quot;https://cdn.jsdelivr.net/npm/@fortawesome/fontawesome-free@6.2.0/css/all.min.css&quot;/&gt;\n",
       "    &lt;link rel=&quot;stylesheet&quot; href=&quot;https://cdnjs.cloudflare.com/ajax/libs/Leaflet.awesome-markers/2.0.2/leaflet.awesome-markers.css&quot;/&gt;\n",
       "    &lt;link rel=&quot;stylesheet&quot; href=&quot;https://cdn.jsdelivr.net/gh/python-visualization/folium/folium/templates/leaflet.awesome.rotate.min.css&quot;/&gt;\n",
       "    \n",
       "            &lt;meta name=&quot;viewport&quot; content=&quot;width=device-width,\n",
       "                initial-scale=1.0, maximum-scale=1.0, user-scalable=no&quot; /&gt;\n",
       "            &lt;style&gt;\n",
       "                #map_491fa958ced6761f660d468caef60f49 {\n",
       "                    position: relative;\n",
       "                    width: 100.0%;\n",
       "                    height: 100.0%;\n",
       "                    left: 0.0%;\n",
       "                    top: 0.0%;\n",
       "                }\n",
       "            &lt;/style&gt;\n",
       "        \n",
       "    &lt;script src=&quot;https://cdn.jsdelivr.net/gh/python-visualization/folium@main/folium/templates/leaflet_heat.min.js&quot;&gt;&lt;/script&gt;\n",
       "&lt;/head&gt;\n",
       "&lt;body&gt;\n",
       "    \n",
       "    \n",
       "            &lt;div class=&quot;folium-map&quot; id=&quot;map_491fa958ced6761f660d468caef60f49&quot; &gt;&lt;/div&gt;\n",
       "        \n",
       "&lt;/body&gt;\n",
       "&lt;script&gt;\n",
       "    \n",
       "    \n",
       "            var map_491fa958ced6761f660d468caef60f49 = L.map(\n",
       "                &quot;map_491fa958ced6761f660d468caef60f49&quot;,\n",
       "                {\n",
       "                    center: [48.0, 5.0],\n",
       "                    crs: L.CRS.EPSG3857,\n",
       "                    zoom: 6,\n",
       "                    zoomControl: true,\n",
       "                    preferCanvas: false,\n",
       "                }\n",
       "            );\n",
       "\n",
       "            \n",
       "\n",
       "        \n",
       "    \n",
       "            var tile_layer_d8d6071f711680238eff27a0ba573514 = L.tileLayer(\n",
       "                &quot;https://stamen-tiles-{s}.a.ssl.fastly.net/toner/{z}/{x}/{y}.png&quot;,\n",
       "                {&quot;attribution&quot;: &quot;Map tiles by \\u003ca target=\\&quot;_blank\\&quot; href=\\&quot;http://stamen.com\\&quot;\\u003eStamen Design\\u003c/a\\u003e, under \\u003ca target=\\&quot;_blank\\&quot; href=\\&quot;http://creativecommons.org/licenses/by/3.0\\&quot;\\u003eCC BY 3.0\\u003c/a\\u003e. Data by \\u0026copy; \\u003ca target=\\&quot;_blank\\&quot; href=\\&quot;http://openstreetmap.org\\&quot;\\u003eOpenStreetMap\\u003c/a\\u003e, under \\u003ca target=\\&quot;_blank\\&quot; href=\\&quot;http://www.openstreetmap.org/copyright\\&quot;\\u003eODbL\\u003c/a\\u003e.&quot;, &quot;detectRetina&quot;: false, &quot;maxNativeZoom&quot;: 18, &quot;maxZoom&quot;: 18, &quot;minZoom&quot;: 0, &quot;noWrap&quot;: false, &quot;opacity&quot;: 1, &quot;subdomains&quot;: &quot;abc&quot;, &quot;tms&quot;: false}\n",
       "            ).addTo(map_491fa958ced6761f660d468caef60f49);\n",
       "        \n",
       "    \n",
       "            var heat_map_656f33a7bda72f3e54a04318a901f77e = L.heatLayer(\n",
       "                [[48.49917961486735, 2.9652346823963485, 1.7058475421752994], [47.38095918491603, 6.851245566039431, 0.7907724732204346], [48.54535980378671, 3.498480685290544, 0.6974477013319382], [49.11768741802605, 4.213482237964052, 0.6143032743224901], [47.9176035141843, 3.2232158841977228, 0.9346144359649509], [47.87844168568946, 8.506014965568653, 1.1694164314508275], [47.8680641064835, 5.683269278489738, 2.0482674225302526], [48.5039571091669, 5.927894368333169, 1.8996686940942218], [47.59283231949702, 4.007674147629097, 1.1202826106695385], [47.525548169103864, 4.543200837510984, 1.2177175621003857], [47.04205811967689, 3.6275002533102505, 0.8188224029366926], [47.68836527681981, 5.391856349776717, 0.772463808374287], [47.34526743338324, 5.244983749650717, 0.9871491055647933], [49.80986886661043, 5.702463798667908, 2.539859225239339], [47.03580432934548, 5.172541851965301, 2.040839959783606], [48.600668859585504, 5.345835551038567, 1.8865531299793201], [47.89606299478251, 6.189687150377393, 0.6617263152250896], [45.96955634810547, 5.140284577304213, 0.2655255712789014], [49.07458127177059, 6.066019178679998, -0.2867331698438249], [46.247439490155536, 3.175969732016563, 1.363952872603714], [47.75551112985586, 3.3473197940689934, 1.7592816856393094], [48.375307094609035, 3.7194281679419117, 1.0059684470708876], [48.603776956252936, 5.9062653825120695, 1.1258064715202505], [47.5169851195623, 6.423209619544424, 0.4584020623560159], [48.18030376269174, 3.762416438688143, 2.3519860207657937], [49.493180496480726, 3.505908378126649, -0.08483312716872038], [48.993228695192606, 5.274097573464838, 2.1991129127587916], [48.388198585162925, 5.126369828377145, 1.0421446191214], [48.66838774393483, 5.204678805493876, 2.1995746863335213], [48.48926173750366, 4.227254671326914, 1.362081428564999], [47.33153586085744, 3.599685274795096, -0.7241757046849915], [49.09286547181265, 5.335493310987965, 0.4186551079279621], [48.16486899286869, 5.815568376716334, 0.6286327300722006], [47.06430430350578, 4.1894808230349225, 2.6281755355556937], [47.53878186378983, 5.381362644399949, 1.4408689671987247], [47.31766581252772, 3.408858351314846, 2.4989435197260463], [47.616466991158035, 3.939789139387818, 1.9500661447501124], [46.42691181869852, 6.289086385426424, 1.320040755137805], [46.717710866184156, 4.0399036565309006, 1.399394426437825], [48.61757452083995, 5.353043712877748, 2.0963545266994617], [49.301173388678514, 5.682471819229592, 3.22833779698489], [48.210354006236244, 4.830091191725057, 0.3925890016667406], [48.27316521505199, 5.945934368393621, -0.049436173693135244], [47.92553616847323, 3.373184216762743, 2.1070445099080404], [48.850014385092635, 6.988981556457221, 0.6288462763833558], [47.54954381800623, 5.484145232384659, 1.6202020420851713], [47.577007642625595, 4.883300662572855, 0.6896233372286139], [49.41030580419984, 3.4698002722884675, 2.2473243084996692], [47.84832579449987, 5.799474053194624, -1.4316426731250833], [47.36535486826065, 4.639672086354919, 0.6884238849009825], [49.26334569580873, 5.814426062080525, 0.794395285270182], [48.20914577613423, 2.819668914244643, 1.8372562649110753], [48.28068999425583, 3.572588225694007, -0.7718567366170603], [46.03217904780771, 5.096587632724083, 1.3383806193051448], [47.866363974475966, 4.834243936763179, 0.8793198159203428], [48.51918557554629, 3.8955466260508698, 0.15515140787330417], [50.045176746263195, 3.4489200041406978, 1.5910011925816683], [47.98243777254599, 4.8991412073646075, 1.9017218346023552], [47.45864609542818, 5.06536274891654, 0.9726391628337725], [49.232335317388234, 4.6378374256889785, 0.31677140726509434], [47.60982584645003, 5.1017167955074, 0.7144537871627121], [46.1822130824571, 6.071300018341715, 0.7957951116955894], [48.87142480773739, 4.402297941684745, 0.7340406557729395], [48.08840426168706, 4.4519383071118925, -0.9989130263099244], [47.271596570588606, 5.097913341791815, -0.48066318062585145], [49.42154322550648, 5.165673559273157, 3.0281640514179236], [48.90411099890747, 4.920554954349488, 2.0582444820817223], [48.27395027139916, 5.202694894379278, 0.3743985310873982], [48.92414843167123, 4.078673043818812, 0.35651165346253366], [47.73482704805011, 4.769289693214994, -0.002855208504157547], [48.73213632281837, 4.241344235265353, 1.1635097986845213], [48.36366554595429, 5.024605796940552, 0.9455124590295613], [47.74383516980548, 5.7088526584253, 1.2973449051405748], [49.12086821365838, 7.211206734512694, 0.4814619234396622], [47.61917068062102, 4.764659744459178, 1.9676931923454188], [48.36966637247633, 5.893307506290865, 3.062545869505652], [48.42333361094246, 5.244694832029697, 0.4077711281231452], [48.937137561954884, 5.461192711265127, 0.9466972952500168], [48.6678704148655, 3.6645993875502603, 3.968780676326941], [48.21324377149294, 5.043725296943766, 1.1477153233864088], [47.21467804379457, 4.178530788187033, 1.328401441911812], [48.25080804541391, 5.437767750546737, 1.448051928528047], [49.47551455273838, 4.721119313922557, 0.16491778386217648], [48.38772094143602, 4.1541572727341824, 0.3408213626552462], [48.36577782503445, 3.75801939716305, -0.40379644234254597], [50.09424363541763, 5.270908190869552, 2.293879236337092], [48.705833354492974, 4.1185675119577905, 1.3656694442109805], [47.75772348170093, 6.184143131398371, 0.26506774822161083], [48.89082658399466, 5.2199889092765694, 2.286253185483554], [47.042445448329254, 5.641375984461827, 1.688451057415771], [48.009928201358946, 3.446679742893012, 2.3090905865209352], [48.0394115338063, 5.109889899148205, 1.6989273698472038], [48.183399003335964, 6.145899686236279, 0.6844526096691594], [47.972044327524955, 3.6417629636112947, 2.9340202038567247], [48.24764193862762, 6.024720635584344, 1.4669758706749227], [48.75701630473506, 5.839291005951822, 1.1097150171822567], [49.134759008663515, 3.9889319860503427, 0.3727700084461524], [47.75790938867836, 2.3291045672885575, 1.4296357252010896], [46.95463150260267, 3.6766613426542403, 2.5465741193284286], [48.816209309863375, 4.553475981594995, 0.8168638647966231]],\n",
       "                {&quot;blur&quot;: 15, &quot;maxZoom&quot;: 18, &quot;minOpacity&quot;: 0.5, &quot;radius&quot;: 25}\n",
       "            ).addTo(map_491fa958ced6761f660d468caef60f49);\n",
       "        \n",
       "&lt;/script&gt;\n",
       "&lt;/html&gt;\" style=\"position:absolute;width:100%;height:100%;left:0;top:0;border:none !important;\" allowfullscreen webkitallowfullscreen mozallowfullscreen></iframe></div></div>"
      ],
      "text/plain": [
       "<folium.folium.Map at 0x24c3e9535e0>"
      ]
     },
     "execution_count": 2,
     "metadata": {},
     "output_type": "execute_result"
    }
   ],
   "source": [
    "import folium\n",
    "from folium.plugins import HeatMap\n",
    "\n",
    "\n",
    "m = folium.Map([48.0, 5.0], tiles=\"stamentoner\", zoom_start=6)\n",
    "\n",
    "HeatMap(data).add_to(m)\n",
    "\n",
    "m"
   ]
  }
 ],
 "metadata": {
  "kernelspec": {
   "display_name": "Python 3",
   "language": "python",
   "name": "python3"
  },
  "language_info": {
   "codemirror_mode": {
    "name": "ipython",
    "version": 3
   },
   "file_extension": ".py",
   "mimetype": "text/x-python",
   "name": "python",
   "nbconvert_exporter": "python",
   "pygments_lexer": "ipython3",
   "version": "3.9.13"
  }
 },
 "nbformat": 4,
 "nbformat_minor": 1
}
