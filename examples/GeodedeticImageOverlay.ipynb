{
 "cells": [
  {
   "cell_type": "code",
   "execution_count": 1,
   "metadata": {},
   "outputs": [
    {
     "name": "stdout",
     "output_type": "stream",
     "text": [
      "0.5.0+105.g065f6f3.dirty\n"
     ]
    }
   ],
   "source": [
    "import os\n",
    "import folium\n",
    "\n",
    "print(folium.__version__)"
   ]
  },
  {
   "cell_type": "code",
   "execution_count": 2,
   "metadata": {},
   "outputs": [],
   "source": [
    "import numpy as np\n",
    "\n",
    "\n",
    "def sample_data(shape=(73, 145)):\n",
    "    nlats, nlons = shape\n",
    "    lats = np.linspace(-np.pi / 2, np.pi / 2, nlats)\n",
    "    lons = np.linspace(0, 2 * np.pi, nlons)\n",
    "    lons, lats = np.meshgrid(lons, lats)\n",
    "    wave = 0.75 * (np.sin(2 * lats) ** 8) * np.cos(4 * lons)\n",
    "    mean = 0.5 * np.cos(2 * lats) * ((np.sin(2 * lats)) ** 2 + 2)\n",
    "\n",
    "    lats = np.rad2deg(lats)\n",
    "    lons = np.rad2deg(lons)\n",
    "    data = wave + mean\n",
    "\n",
    "    return lons, lats, data\n",
    "\n",
    "\n",
    "lon, lat, data = sample_data(shape=(73, 145))\n",
    "lon -= 180"
   ]
  },
  {
   "cell_type": "code",
   "execution_count": 3,
   "metadata": {},
   "outputs": [],
   "source": [
    "%matplotlib inline\n",
    "\n",
    "import matplotlib\n",
    "\n",
    "cm = matplotlib.cm.get_cmap('cubehelix')\n",
    "\n",
    "normed_data = (data - data.min()) / (data.max() - data.min())\n",
    "colored_data = cm(normed_data)"
   ]
  },
  {
   "cell_type": "markdown",
   "metadata": {},
   "source": [
    "# Bad"
   ]
  },
  {
   "cell_type": "code",
   "execution_count": 4,
   "metadata": {},
   "outputs": [
    {
     "data": {
      "text/html": [
       "<div style=\"width:100%;\"><div style=\"position:relative;width:100%;height:0;padding-bottom:60%;\"><iframe src=\"data:text/html;charset=utf-8;base64,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\" style=\"position:absolute;width:100%;height:100%;left:0;top:0;border:none !important;\" allowfullscreen webkitallowfullscreen mozallowfullscreen></iframe></div></div>"
      ],
      "text/plain": [
       "<folium.folium.Map at 0x7fe615d5e4a8>"
      ]
     },
     "execution_count": 4,
     "metadata": {},
     "output_type": "execute_result"
    }
   ],
   "source": [
    "m = folium.Map(location=[lat.mean(), lon.mean()], zoom_start=1)\n",
    "\n",
    "folium.raster_layers.ImageOverlay(\n",
    "    image=colored_data,\n",
    "    bounds=[[lat.min(), lon.min()], [lat.max(), lon.max()]],\n",
    "    opacity=0.25\n",
    ").add_to(m)\n",
    "\n",
    "m.save(os.path.join('results', 'GeodedeticImageOverlay_0.html'))\n",
    "\n",
    "m"
   ]
  },
  {
   "cell_type": "markdown",
   "metadata": {},
   "source": [
    "# Good"
   ]
  },
  {
   "cell_type": "code",
   "execution_count": 5,
   "metadata": {},
   "outputs": [
    {
     "data": {
      "text/html": [
       "<div style=\"width:100%;\"><div style=\"position:relative;width:100%;height:0;padding-bottom:60%;\"><iframe src=\"data:text/html;charset=utf-8;base64,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\" style=\"position:absolute;width:100%;height:100%;left:0;top:0;border:none !important;\" allowfullscreen webkitallowfullscreen mozallowfullscreen></iframe></div></div>"
      ],
      "text/plain": [
       "<folium.folium.Map at 0x7fe615ce5cc0>"
      ]
     },
     "execution_count": 5,
     "metadata": {},
     "output_type": "execute_result"
    }
   ],
   "source": [
    "m = folium.Map(location=[lat.mean(), lon.mean()], zoom_start=1)\n",
    "\n",
    "folium.raster_layers.ImageOverlay(\n",
    "    image=colored_data,\n",
    "    bounds=[[lat.min(), lon.min()], [lat.max(), lon.max()]],\n",
    "    mercator_project=True,\n",
    "    opacity=0.25\n",
    ").add_to(m)\n",
    "\n",
    "m.save(os.path.join('results', 'GeodedeticImageOverlay_1.html'))\n",
    "\n",
    "m"
   ]
  },
  {
   "cell_type": "markdown",
   "metadata": {},
   "source": [
    "# Same as above but with cartopy"
   ]
  },
  {
   "cell_type": "code",
   "execution_count": 6,
   "metadata": {},
   "outputs": [
    {
     "data": {
      "text/html": [
       "<div style=\"width:100%;\"><div style=\"position:relative;width:100%;height:0;padding-bottom:60%;\"><iframe src=\"data:text/html;charset=utf-8;base64,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\" style=\"position:absolute;width:100%;height:100%;left:0;top:0;border:none !important;\" allowfullscreen webkitallowfullscreen mozallowfullscreen></iframe></div></div>"
      ],
      "text/plain": [
       "<folium.folium.Map at 0x7fe615cf6ac8>"
      ]
     },
     "execution_count": 6,
     "metadata": {},
     "output_type": "execute_result"
    }
   ],
   "source": [
    "import cartopy.crs as ccrs\n",
    "from cartopy.img_transform import warp_array\n",
    "\n",
    "source_extent = [lon.min(), lon.max(), lat.min(), lat.max()]\n",
    "\n",
    "new_data = warp_array(colored_data,\n",
    "                      target_proj=ccrs.GOOGLE_MERCATOR,\n",
    "                      source_proj=ccrs.PlateCarree(),\n",
    "                      target_res=data.shape,\n",
    "                      source_extent=source_extent,\n",
    "                      target_extent=None,\n",
    "                      mask_extrapolated=False)\n",
    "\n",
    "\n",
    "m = folium.Map(location=[lat.mean(), lon.mean()], zoom_start=1)\n",
    "\n",
    "folium.raster_layers.ImageOverlay(\n",
    "    image=new_data[0],\n",
    "    bounds=[[lat.min(), lon.min()], [lat.max(), lon.max()]],\n",
    "    opacity=0.25\n",
    ").add_to(m)\n",
    "\n",
    "m.save(os.path.join('results', 'GeodedeticImageOverlay_2.html'))\n",
    "\n",
    "m"
   ]
  },
  {
   "cell_type": "markdown",
   "metadata": {},
   "source": [
    "TODO: Try [rasterio](https://github.com/mapbox/rasterio/blob/ca75cf0a842943c1b3da4522e6ea3500215130fd/docs/reproject.rst).  Rasterio can warp images and arrays."
   ]
  },
  {
   "cell_type": "markdown",
   "metadata": {},
   "source": [
    "# Compare to original"
   ]
  },
  {
   "cell_type": "code",
   "execution_count": 7,
   "metadata": {},
   "outputs": [
    {
     "data": {
      "text/html": [
       "\n",
       "        <iframe\n",
       "            width=\"900\"\n",
       "            height=\"750\"\n",
       "            src=\"http://scitools.org.uk/cartopy/docs/latest/gallery/waves.html\"\n",
       "            frameborder=\"0\"\n",
       "            allowfullscreen\n",
       "        ></iframe>\n",
       "        "
      ],
      "text/plain": [
       "<IPython.lib.display.IFrame at 0x7fe615d5e048>"
      ]
     },
     "execution_count": 7,
     "metadata": {},
     "output_type": "execute_result"
    }
   ],
   "source": [
    "from IPython.display import IFrame\n",
    "\n",
    "url = 'http://scitools.org.uk/cartopy/docs/latest/gallery/waves.html'\n",
    "IFrame(url, width=900, height=750)"
   ]
  }
 ],
 "metadata": {
  "kernelspec": {
   "display_name": "Python 3",
   "language": "python",
   "name": "python3"
  },
  "language_info": {
   "codemirror_mode": {
    "name": "ipython",
    "version": 3
   },
   "file_extension": ".py",
   "mimetype": "text/x-python",
   "name": "python",
   "nbconvert_exporter": "python",
   "pygments_lexer": "ipython3",
   "version": "3.6.5"
  }
 },
 "nbformat": 4,
 "nbformat_minor": 1
}
