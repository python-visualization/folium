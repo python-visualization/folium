{
 "cells": [
  {
   "cell_type": "code",
   "execution_count": null,
   "metadata": {},
   "outputs": [],
   "source": [
    "import branca\n",
    "import folium\n",
    "import geopandas as gpd\n",
    "import pandas as pd\n",
    "import requests\n",
    "from folium.features import GeoJsonPopup, GeoJsonTooltip"
   ]
  },
  {
   "cell_type": "code",
   "execution_count": null,
   "metadata": {},
   "outputs": [],
   "source": [
    "print(folium.__version__)"
   ]
  },
  {
   "cell_type": "code",
   "execution_count": null,
   "metadata": {},
   "outputs": [],
   "source": [
    "income = pd.read_csv(\n",
    "    \"https://raw.githubusercontent.com/pri-data/50-states/master/data/income-counties-states-national.csv\",\n",
    "    dtype={\"fips\": str},\n",
    ")\n",
    "income[\"income-2015\"] = pd.to_numeric(income[\"income-2015\"], errors=\"coerce\")"
   ]
  },
  {
   "cell_type": "code",
   "execution_count": null,
   "metadata": {},
   "outputs": [],
   "source": [
    "income.head()"
   ]
  },
  {
   "cell_type": "code",
   "execution_count": null,
   "metadata": {},
   "outputs": [],
   "source": [
    "response = requests.get(\n",
    "    \"https://raw.githubusercontent.com/python-visualization/folium/master/examples/data/us-states.json\"\n",
    ")\n",
    "data = response.json()\n",
    "states = gpd.GeoDataFrame.from_features(data, crs=\"EPSG:4326\")\n",
    "\n",
    "states.head()"
   ]
  },
  {
   "cell_type": "code",
   "execution_count": null,
   "metadata": {},
   "outputs": [],
   "source": [
    "response = requests.get(\n",
    "    \"https://gist.githubusercontent.com/tvpmb/4734703/raw/\"\n",
    "    \"b54d03154c339ed3047c66fefcece4727dfc931a/US%2520State%2520List\"\n",
    ")\n",
    "abbrs = pd.read_json(response.text)\n",
    "\n",
    "abbrs.head(3)"
   ]
  },
  {
   "cell_type": "code",
   "execution_count": null,
   "metadata": {},
   "outputs": [],
   "source": [
    "statesmerge = states.merge(abbrs, how=\"left\", left_on=\"name\", right_on=\"name\")\n",
    "statesmerge[\"geometry\"] = statesmerge.geometry.simplify(0.05)\n",
    "\n",
    "statesmerge.head()"
   ]
  },
  {
   "cell_type": "code",
   "execution_count": null,
   "metadata": {},
   "outputs": [],
   "source": [
    "income.groupby(by=\"state\")[[\"state\", \"income-2015\"]].median().head()"
   ]
  },
  {
   "cell_type": "code",
   "execution_count": null,
   "metadata": {},
   "outputs": [],
   "source": [
    "statesmerge[\"medianincome\"] = statesmerge.merge(\n",
    "    income.groupby(by=\"state\")[[\"state\", \"income-2015\"]].median(),\n",
    "    how=\"left\",\n",
    "    left_on=\"alpha-2\",\n",
    "    right_on=\"state\",\n",
    ")[\"income-2015\"]\n",
    "statesmerge[\"change\"] = statesmerge.merge(\n",
    "    income.groupby(by=\"state\")[[\"state\", \"change\"]].median(),\n",
    "    how=\"left\",\n",
    "    left_on=\"alpha-2\",\n",
    "    right_on=\"state\",\n",
    ")[\"change\"]"
   ]
  },
  {
   "cell_type": "code",
   "execution_count": null,
   "metadata": {},
   "outputs": [],
   "source": [
    "statesmerge.head()"
   ]
  },
  {
   "cell_type": "code",
   "execution_count": null,
   "metadata": {},
   "outputs": [],
   "source": [
    "statesmerge[\"medianincome\"].quantile(0.25)"
   ]
  },
  {
   "cell_type": "code",
   "execution_count": null,
   "metadata": {},
   "outputs": [],
   "source": [
    "colormap = branca.colormap.LinearColormap(\n",
    "    vmin=statesmerge[\"change\"].quantile(0.0),\n",
    "    vmax=statesmerge[\"change\"].quantile(1),\n",
    "    colors=[\"red\", \"orange\", \"lightblue\", \"green\", \"darkgreen\"],\n",
    "    caption=\"State Level Median County Household Income (%)\",\n",
    ")"
   ]
  },
  {
   "cell_type": "code",
   "execution_count": null,
   "metadata": {},
   "outputs": [],
   "source": [
    "m = folium.Map(location=[35.3, -97.6], zoom_start=4)\n",
    "\n",
    "popup = GeoJsonPopup(\n",
    "    fields=[\"name\", \"change\"],\n",
    "    aliases=[\"State\", \"% Change\"],\n",
    "    localize=True,\n",
    "    labels=True,\n",
    "    style=\"background-color: yellow;\",\n",
    ")\n",
    "\n",
    "tooltip = GeoJsonTooltip(\n",
    "    fields=[\"name\", \"medianincome\", \"change\"],\n",
    "    aliases=[\"State:\", \"2015 Median Income(USD):\", \"Median % Change:\"],\n",
    "    localize=True,\n",
    "    sticky=False,\n",
    "    labels=True,\n",
    "    style=\"\"\"\n",
    "        background-color: #F0EFEF;\n",
    "        border: 2px solid black;\n",
    "        border-radius: 3px;\n",
    "        box-shadow: 3px;\n",
    "    \"\"\",\n",
    "    max_width=800,\n",
    ")\n",
    "\n",
    "\n",
    "g = folium.GeoJson(\n",
    "    statesmerge,\n",
    "    style_function=lambda x: {\n",
    "        \"fillColor\": colormap(x[\"properties\"][\"change\"])\n",
    "        if x[\"properties\"][\"change\"] is not None\n",
    "        else \"transparent\",\n",
    "        \"color\": \"black\",\n",
    "        \"fillOpacity\": 0.4,\n",
    "    },\n",
    "    tooltip=tooltip,\n",
    "    popup=popup,\n",
    ").add_to(m)\n",
    "\n",
    "colormap.add_to(m)\n",
    "\n",
    "m"
   ]
  }
 ],
 "metadata": {
  "kernelspec": {
   "display_name": "Python 3",
   "language": "python",
   "name": "python3"
  },
  "language_info": {
   "codemirror_mode": {
    "name": "ipython",
    "version": 3
   },
   "file_extension": ".py",
   "mimetype": "text/x-python",
   "name": "python",
   "nbconvert_exporter": "python",
   "pygments_lexer": "ipython3",
   "version": "3.9.0"
  }
 },
 "nbformat": 4,
 "nbformat_minor": 4
}
