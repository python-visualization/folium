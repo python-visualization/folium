{
 "cells": [
  {
   "cell_type": "markdown",
   "metadata": {},
   "source": [
    "### Exploring the WMS with OWSLib"
   ]
  },
  {
   "cell_type": "code",
   "execution_count": 1,
   "metadata": {},
   "outputs": [
    {
     "name": "stdout",
     "output_type": "stream",
     "text": [
      "surface_flag\n",
      "CRW_SST\n",
      "CRW_BAA\n",
      "CRW_HOTSPOT\n",
      "CRW_DHW\n",
      "CRW_SSTANOMALY\n",
      "CRW_SEAICE\n"
     ]
    }
   ],
   "source": [
    "from owslib.wms import WebMapService\n",
    "\n",
    "\n",
    "url = 'https://pae-paha.pacioos.hawaii.edu/thredds/wms/dhw_5km?service=WMS'\n",
    "\n",
    "web_map_services = WebMapService(url)\n",
    "\n",
    "print('\\n'.join(web_map_services.contents.keys()))"
   ]
  },
  {
   "cell_type": "markdown",
   "metadata": {},
   "source": [
    "### Layer metadata"
   ]
  },
  {
   "cell_type": "code",
   "execution_count": 2,
   "metadata": {},
   "outputs": [],
   "source": [
    "layer = 'CRW_SST'\n",
    "wms = web_map_services.contents[layer]\n",
    "\n",
    "name = wms.title\n",
    "\n",
    "lon = (wms.boundingBox[0] + wms.boundingBox[2]) / 2.\n",
    "lat = (wms.boundingBox[1] + wms.boundingBox[3]) / 2.\n",
    "center = lat, lon\n",
    "\n",
    "time_interval = '{0}/{1}'.format(\n",
    "    wms.timepositions[0].strip(),\n",
    "    wms.timepositions[-1].strip()\n",
    ")\n",
    "style = 'boxfill/sst_36'\n",
    "\n",
    "if style not in wms.styles:\n",
    "    style = None"
   ]
  },
  {
   "cell_type": "markdown",
   "metadata": {},
   "source": [
    "### Single layer"
   ]
  },
  {
   "cell_type": "code",
   "execution_count": 3,
   "metadata": {},
   "outputs": [
    {
     "data": {
      "text/html": [
       "<div style=\"width:100%;\"><div style=\"position:relative;width:100%;height:0;padding-bottom:60%;\"><iframe src=\"about:blank\" style=\"position:absolute;width:100%;height:100%;left:0;top:0;border:none !important;\" data-html=PCFET0NUWVBFIGh0bWw+CjxoZWFkPiAgICAKICAgIDxtZXRhIGh0dHAtZXF1aXY9ImNvbnRlbnQtdHlwZSIgY29udGVudD0idGV4dC9odG1sOyBjaGFyc2V0PVVURi04IiAvPgogICAgCiAgICAgICAgPHNjcmlwdD4KICAgICAgICAgICAgTF9OT19UT1VDSCA9IGZhbHNlOwogICAgICAgICAgICBMX0RJU0FCTEVfM0QgPSBmYWxzZTsKICAgICAgICA8L3NjcmlwdD4KICAgIAogICAgPHNjcmlwdCBzcmM9Imh0dHBzOi8vY2RuLmpzZGVsaXZyLm5ldC9ucG0vbGVhZmxldEAxLjYuMC9kaXN0L2xlYWZsZXQuanMiPjwvc2NyaXB0PgogICAgPHNjcmlwdCBzcmM9Imh0dHBzOi8vY29kZS5qcXVlcnkuY29tL2pxdWVyeS0xLjEyLjQubWluLmpzIj48L3NjcmlwdD4KICAgIDxzY3JpcHQgc3JjPSJodHRwczovL21heGNkbi5ib290c3RyYXBjZG4uY29tL2Jvb3RzdHJhcC8zLjIuMC9qcy9ib290c3RyYXAubWluLmpzIj48L3NjcmlwdD4KICAgIDxzY3JpcHQgc3JjPSJodHRwczovL2NkbmpzLmNsb3VkZmxhcmUuY29tL2FqYXgvbGlicy9MZWFmbGV0LmF3ZXNvbWUtbWFya2Vycy8yLjAuMi9sZWFmbGV0LmF3ZXNvbWUtbWFya2Vycy5qcyI+PC9zY3JpcHQ+CiAgICA8bGluayByZWw9InN0eWxlc2hlZXQiIGhyZWY9Imh0dHBzOi8vY2RuLmpzZGVsaXZyLm5ldC9ucG0vbGVhZmxldEAxLjYuMC9kaXN0L2xlYWZsZXQuY3NzIi8+CiAgICA8bGluayByZWw9InN0eWxlc2hlZXQiIGhyZWY9Imh0dHBzOi8vbWF4Y2RuLmJvb3RzdHJhcGNkbi5jb20vYm9vdHN0cmFwLzMuMi4wL2Nzcy9ib290c3RyYXAubWluLmNzcyIvPgogICAgPGxpbmsgcmVsPSJzdHlsZXNoZWV0IiBocmVmPSJodHRwczovL21heGNkbi5ib290c3RyYXBjZG4uY29tL2Jvb3RzdHJhcC8zLjIuMC9jc3MvYm9vdHN0cmFwLXRoZW1lLm1pbi5jc3MiLz4KICAgIDxsaW5rIHJlbD0ic3R5bGVzaGVldCIgaHJlZj0iaHR0cHM6Ly9tYXhjZG4uYm9vdHN0cmFwY2RuLmNvbS9mb250LWF3ZXNvbWUvNC42LjMvY3NzL2ZvbnQtYXdlc29tZS5taW4uY3NzIi8+CiAgICA8bGluayByZWw9InN0eWxlc2hlZXQiIGhyZWY9Imh0dHBzOi8vY2RuanMuY2xvdWRmbGFyZS5jb20vYWpheC9saWJzL0xlYWZsZXQuYXdlc29tZS1tYXJrZXJzLzIuMC4yL2xlYWZsZXQuYXdlc29tZS1tYXJrZXJzLmNzcyIvPgogICAgPGxpbmsgcmVsPSJzdHlsZXNoZWV0IiBocmVmPSJodHRwczovL3Jhd2Nkbi5naXRoYWNrLmNvbS9weXRob24tdmlzdWFsaXphdGlvbi9mb2xpdW0vbWFzdGVyL2ZvbGl1bS90ZW1wbGF0ZXMvbGVhZmxldC5hd2Vzb21lLnJvdGF0ZS5jc3MiLz4KICAgIDxzdHlsZT5odG1sLCBib2R5IHt3aWR0aDogMTAwJTtoZWlnaHQ6IDEwMCU7bWFyZ2luOiAwO3BhZGRpbmc6IDA7fTwvc3R5bGU+CiAgICA8c3R5bGU+I21hcCB7cG9zaXRpb246YWJzb2x1dGU7dG9wOjA7Ym90dG9tOjA7cmlnaHQ6MDtsZWZ0OjA7fTwvc3R5bGU+CiAgICAKICAgICAgICAgICAgPG1ldGEgbmFtZT0idmlld3BvcnQiIGNvbnRlbnQ9IndpZHRoPWRldmljZS13aWR0aCwKICAgICAgICAgICAgICAgIGluaXRpYWwtc2NhbGU9MS4wLCBtYXhpbXVtLXNjYWxlPTEuMCwgdXNlci1zY2FsYWJsZT1ubyIgLz4KICAgICAgICAgICAgPHN0eWxlPgogICAgICAgICAgICAgICAgI21hcF9mYWVmZjg2ZGYzMDQ0ZDcyYmQxNmQ1NGVlYWU3ZGUzZSB7CiAgICAgICAgICAgICAgICAgICAgcG9zaXRpb246IHJlbGF0aXZlOwogICAgICAgICAgICAgICAgICAgIHdpZHRoOiAxMDAuMCU7CiAgICAgICAgICAgICAgICAgICAgaGVpZ2h0OiAxMDAuMCU7CiAgICAgICAgICAgICAgICAgICAgbGVmdDogMC4wJTsKICAgICAgICAgICAgICAgICAgICB0b3A6IDAuMCU7CiAgICAgICAgICAgICAgICB9CiAgICAgICAgICAgIDwvc3R5bGU+CiAgICAgICAgCiAgICA8c2NyaXB0IHNyYz0iaHR0cHM6Ly9jZG5qcy5jbG91ZGZsYXJlLmNvbS9hamF4L2xpYnMvanF1ZXJ5LzIuMC4wL2pxdWVyeS5taW4uanMiPjwvc2NyaXB0PgogICAgPHNjcmlwdCBzcmM9Imh0dHBzOi8vY2RuanMuY2xvdWRmbGFyZS5jb20vYWpheC9saWJzL2pxdWVyeXVpLzEuMTAuMi9qcXVlcnktdWkubWluLmpzIj48L3NjcmlwdD4KICAgIDxzY3JpcHQgc3JjPSJodHRwczovL3Jhd2Nkbi5naXRoYWNrLmNvbS9uZXphc2EvaXNvODYwMS1qcy1wZXJpb2QvbWFzdGVyL2lzbzg2MDEubWluLmpzIj48L3NjcmlwdD4KICAgIDxzY3JpcHQgc3JjPSJodHRwczovL3Jhd2Nkbi5naXRoYWNrLmNvbS9zb2NpYi9MZWFmbGV0LlRpbWVEaW1lbnNpb24vbWFzdGVyL2Rpc3QvbGVhZmxldC50aW1lZGltZW5zaW9uLm1pbi5qcyI+PC9zY3JpcHQ+CiAgICA8bGluayByZWw9InN0eWxlc2hlZXQiIGhyZWY9Imh0dHBzOi8vY2RuanMuY2xvdWRmbGFyZS5jb20vYWpheC9saWJzL2hpZ2hsaWdodC5qcy84LjQvc3R5bGVzL2RlZmF1bHQubWluLmNzcyIvPgogICAgPGxpbmsgcmVsPSJzdHlsZXNoZWV0IiBocmVmPSJodHRwOi8vYXBwcy5zb2NpYi5lcy9MZWFmbGV0LlRpbWVEaW1lbnNpb24vZGlzdC9sZWFmbGV0LnRpbWVkaW1lbnNpb24uY29udHJvbC5taW4uY3NzIi8+CjwvaGVhZD4KPGJvZHk+ICAgIAogICAgCiAgICAgICAgICAgIDxkaXYgY2xhc3M9ImZvbGl1bS1tYXAiIGlkPSJtYXBfZmFlZmY4NmRmMzA0NGQ3MmJkMTZkNTRlZWFlN2RlM2UiID48L2Rpdj4KICAgICAgICAKPC9ib2R5Pgo8c2NyaXB0PiAgICAKICAgIAogICAgICAgICAgICB2YXIgbWFwX2ZhZWZmODZkZjMwNDRkNzJiZDE2ZDU0ZWVhZTdkZTNlID0gTC5tYXAoCiAgICAgICAgICAgICAgICAibWFwX2ZhZWZmODZkZjMwNDRkNzJiZDE2ZDU0ZWVhZTdkZTNlIiwKICAgICAgICAgICAgICAgIHsKICAgICAgICAgICAgICAgICAgICBjZW50ZXI6IFstNDAuMCwgLTUwLjBdLAogICAgICAgICAgICAgICAgICAgIGNyczogTC5DUlMuRVBTRzM4NTcsCiAgICAgICAgICAgICAgICAgICAgem9vbTogNSwKICAgICAgICAgICAgICAgICAgICB6b29tQ29udHJvbDogdHJ1ZSwKICAgICAgICAgICAgICAgICAgICBwcmVmZXJDYW52YXM6IGZhbHNlLAogICAgICAgICAgICAgICAgfQogICAgICAgICAgICApOwogICAgICAgICAgICBMLmNvbnRyb2wuc2NhbGUoKS5hZGRUbyhtYXBfZmFlZmY4NmRmMzA0NGQ3MmJkMTZkNTRlZWFlN2RlM2UpOwoKICAgICAgICAgICAgCgogICAgICAgIAogICAgCiAgICAgICAgICAgIHZhciB0aWxlX2xheWVyX2YyNmU3NjYyMDRiMjQwM2RhNmYxMDM3M2I5OTUxYjk0ID0gTC50aWxlTGF5ZXIoCiAgICAgICAgICAgICAgICAiaHR0cHM6Ly97c30udGlsZS5vcGVuc3RyZWV0bWFwLm9yZy97en0ve3h9L3t5fS5wbmciLAogICAgICAgICAgICAgICAgeyJhdHRyaWJ1dGlvbiI6ICJEYXRhIGJ5IFx1MDAyNmNvcHk7IFx1MDAzY2EgaHJlZj1cImh0dHA6Ly9vcGVuc3RyZWV0bWFwLm9yZ1wiXHUwMDNlT3BlblN0cmVldE1hcFx1MDAzYy9hXHUwMDNlLCB1bmRlciBcdTAwM2NhIGhyZWY9XCJodHRwOi8vd3d3Lm9wZW5zdHJlZXRtYXAub3JnL2NvcHlyaWdodFwiXHUwMDNlT0RiTFx1MDAzYy9hXHUwMDNlLiIsICJkZXRlY3RSZXRpbmEiOiBmYWxzZSwgIm1heE5hdGl2ZVpvb20iOiAxOCwgIm1heFpvb20iOiAxOCwgIm1pblpvb20iOiAwLCAibm9XcmFwIjogZmFsc2UsICJvcGFjaXR5IjogMSwgInN1YmRvbWFpbnMiOiAiYWJjIiwgInRtcyI6IGZhbHNlfQogICAgICAgICAgICApLmFkZFRvKG1hcF9mYWVmZjg2ZGYzMDQ0ZDcyYmQxNmQ1NGVlYWU3ZGUzZSk7CiAgICAgICAgCiAgICAKICAgICAgICAgICAgdmFyIG1hY3JvX2VsZW1lbnRfYjVhZmZiY2FjYmNkNGQzY2I3NjBhZDE2ZTg0N2UyNzcgPSBMLnRpbGVMYXllci53bXMoCiAgICAgICAgICAgICAgICAiaHR0cHM6Ly9wYWUtcGFoYS5wYWNpb29zLmhhd2FpaS5lZHUvdGhyZWRkcy93bXMvZGh3XzVrbT9zZXJ2aWNlPVdNUyIsCiAgICAgICAgICAgICAgICB7IkNPTE9SU0NBTEVSQU5HRSI6ICIxLjIsMjgiLCAiYXR0cmlidXRpb24iOiAiIiwgImZvcm1hdCI6ICJpbWFnZS9wbmciLCAibGF5ZXJzIjogIkNSV19TU1QiLCAic3R5bGVzIjogImJveGZpbGwvc3N0XzM2IiwgInRyYW5zcGFyZW50IjogdHJ1ZSwgInZlcnNpb24iOiAiMS4xLjEifQogICAgICAgICAgICApLmFkZFRvKG1hcF9mYWVmZjg2ZGYzMDQ0ZDcyYmQxNmQ1NGVlYWU3ZGUzZSk7CiAgICAgICAgCiAgICAKICAgICAgICAgICAgbWFwX2ZhZWZmODZkZjMwNDRkNzJiZDE2ZDU0ZWVhZTdkZTNlLnRpbWVEaW1lbnNpb24gPSBMLnRpbWVEaW1lbnNpb24oCiAgICAgICAgICAgICAgICB7InBlcmlvZCI6ICJQVDFIIiwgInRpbWVJbnRlcnZhbCI6ICIxOTg1LTAzLTI1VDEyOjAwOjAwLjAwMFovMjAyMC0wNC0yMVQxMjowMDowMC4wMDBaIn0KICAgICAgICAgICAgKTsKICAgICAgICAgICAgbWFwX2ZhZWZmODZkZjMwNDRkNzJiZDE2ZDU0ZWVhZTdkZTNlLnRpbWVEaW1lbnNpb25Db250cm9sID0KICAgICAgICAgICAgICAgIEwuY29udHJvbC50aW1lRGltZW5zaW9uKAogICAgICAgICAgICAgICAgICAgIHsiYXV0b1BsYXkiOiBmYWxzZSwgInBsYXllck9wdGlvbnMiOiB7Imxvb3AiOiBmYWxzZSwgInRyYW5zaXRpb25UaW1lIjogMjAwfSwgInBvc2l0aW9uIjogImJvdHRvbWxlZnQifQogICAgICAgICAgICAgICAgKTsKICAgICAgICAgICAgbWFwX2ZhZWZmODZkZjMwNDRkNzJiZDE2ZDU0ZWVhZTdkZTNlLmFkZENvbnRyb2woCiAgICAgICAgICAgICAgICBtYXBfZmFlZmY4NmRmMzA0NGQ3MmJkMTZkNTRlZWFlN2RlM2UudGltZURpbWVuc2lvbkNvbnRyb2wKICAgICAgICAgICAgKTsKCiAgICAgICAgICAgIAogICAgICAgICAgICB2YXIgbWFjcm9fZWxlbWVudF9iNWFmZmJjYWNiY2Q0ZDNjYjc2MGFkMTZlODQ3ZTI3NyA9IEwudGltZURpbWVuc2lvbi5sYXllci53bXMoCiAgICAgICAgICAgICAgICBtYWNyb19lbGVtZW50X2I1YWZmYmNhY2JjZDRkM2NiNzYwYWQxNmU4NDdlMjc3LAogICAgICAgICAgICAgICAgewogICAgICAgICAgICAgICAgICAgIHVwZGF0ZVRpbWVEaW1lbnNpb246IGZhbHNlLAogICAgICAgICAgICAgICAgICAgIHdtc1ZlcnNpb246ICIxLjEuMSIsCiAgICAgICAgICAgICAgICB9CiAgICAgICAgICAgICkuYWRkVG8obWFwX2ZhZWZmODZkZjMwNDRkNzJiZDE2ZDU0ZWVhZTdkZTNlKTsKICAgICAgICAgICAgCiAgICAgICAgCiAgICAKICAgICAgICAgICAgdmFyIGxheWVyX2NvbnRyb2xfNDVmOGNjMDZmYTQxNDcwNWE2NDhjNzlkZWY2YThjNDYgPSB7CiAgICAgICAgICAgICAgICBiYXNlX2xheWVycyA6IHsKICAgICAgICAgICAgICAgICAgICAib3BlbnN0cmVldG1hcCIgOiB0aWxlX2xheWVyX2YyNmU3NjYyMDRiMjQwM2RhNmYxMDM3M2I5OTUxYjk0LAogICAgICAgICAgICAgICAgfSwKICAgICAgICAgICAgICAgIG92ZXJsYXlzIDogIHsKICAgICAgICAgICAgICAgICAgICAic2VhX3N1cmZhY2VfdGVtcGVyYXR1cmUiIDogbWFjcm9fZWxlbWVudF9iNWFmZmJjYWNiY2Q0ZDNjYjc2MGFkMTZlODQ3ZTI3NywKICAgICAgICAgICAgICAgICAgICAibWFjcm9fZWxlbWVudF82YTcwODhiZjgzMTA0MmMwOTNjODUyMDk1OWRlNDVmYyIgOiB0aW1lc3RhbXBlZF93bXNfdGlsZV9sYXllcnNfNmE3MDg4YmY4MzEwNDJjMDkzYzg1MjA5NTlkZTQ1ZmMsCiAgICAgICAgICAgICAgICB9LAogICAgICAgICAgICB9OwogICAgICAgICAgICBMLmNvbnRyb2wubGF5ZXJzKAogICAgICAgICAgICAgICAgbGF5ZXJfY29udHJvbF80NWY4Y2MwNmZhNDE0NzA1YTY0OGM3OWRlZjZhOGM0Ni5iYXNlX2xheWVycywKICAgICAgICAgICAgICAgIGxheWVyX2NvbnRyb2xfNDVmOGNjMDZmYTQxNDcwNWE2NDhjNzlkZWY2YThjNDYub3ZlcmxheXMsCiAgICAgICAgICAgICAgICB7ImF1dG9aSW5kZXgiOiB0cnVlLCAiY29sbGFwc2VkIjogdHJ1ZSwgInBvc2l0aW9uIjogInRvcHJpZ2h0In0KICAgICAgICAgICAgKS5hZGRUbyhtYXBfZmFlZmY4NmRmMzA0NGQ3MmJkMTZkNTRlZWFlN2RlM2UpOwogICAgICAgIAo8L3NjcmlwdD4= onload=\"this.contentDocument.open();this.contentDocument.write(atob(this.getAttribute('data-html')));this.contentDocument.close();\" allowfullscreen webkitallowfullscreen mozallowfullscreen></iframe></div></div>"
      ],
      "text/plain": [
       "<folium.folium.Map at 0x299f00bde88>"
      ]
     },
     "execution_count": 3,
     "metadata": {},
     "output_type": "execute_result"
    }
   ],
   "source": [
    "import folium\n",
    "from folium import plugins\n",
    "\n",
    "lon, lat = -50, -40\n",
    "\n",
    "m = folium.Map(\n",
    "    location=[lat, lon],\n",
    "    zoom_start=5,\n",
    "    control_scale=True\n",
    ")\n",
    "\n",
    "w = folium.raster_layers.WmsTileLayer(\n",
    "    url=url,\n",
    "    name=name,\n",
    "    styles=style,\n",
    "    fmt='image/png',\n",
    "    transparent=True,\n",
    "    layers=layer,\n",
    "    overlay=True,\n",
    "    COLORSCALERANGE='1.2,28',\n",
    ")\n",
    "\n",
    "w.add_to(m)\n",
    "\n",
    "time = plugins.TimestampedWmsTileLayers(\n",
    "    w,\n",
    "    period='PT1H',\n",
    "    time_interval=time_interval\n",
    ")\n",
    "\n",
    "time.add_to(m)\n",
    "\n",
    "folium.LayerControl().add_to(m)\n",
    "\n",
    "m"
   ]
  },
  {
   "cell_type": "markdown",
   "metadata": {},
   "source": [
    "### Multiple layers"
   ]
  },
  {
   "cell_type": "code",
   "execution_count": 4,
   "metadata": {},
   "outputs": [
    {
     "data": {
      "text/html": [
       "<div style=\"width:100%;\"><div style=\"position:relative;width:100%;height:0;padding-bottom:60%;\"><iframe src=\"about:blank\" style=\"position:absolute;width:100%;height:100%;left:0;top:0;border:none !important;\" data-html=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 onload=\"this.contentDocument.open();this.contentDocument.write(atob(this.getAttribute('data-html')));this.contentDocument.close();\" allowfullscreen webkitallowfullscreen mozallowfullscreen></iframe></div></div>"
      ],
      "text/plain": [
       "<folium.folium.Map at 0x299f0a0a888>"
      ]
     },
     "execution_count": 4,
     "metadata": {},
     "output_type": "execute_result"
    }
   ],
   "source": [
    "m = folium.Map(\n",
    "    location=[lat, lon],\n",
    "    zoom_start=5,\n",
    "    control_scale=True\n",
    ")\n",
    "\n",
    "w0 = folium.raster_layers.WmsTileLayer(\n",
    "    url=url,\n",
    "    name='sea_surface_temperature',\n",
    "    styles=style,\n",
    "    fmt='image/png',\n",
    "    transparent=True,\n",
    "    layers='CRW_SST',\n",
    "    overlay=True,\n",
    ")\n",
    "\n",
    "w1 = folium.raster_layers.WmsTileLayer(\n",
    "    url=url,\n",
    "    name='analysed sea surface temperature anomaly',\n",
    "    styles=style,\n",
    "    fmt='image/png',\n",
    "    transparent=True,\n",
    "    layers='CRW_SSTANOMALY',\n",
    "    overlay=True,\n",
    ")\n",
    "\n",
    "w0.add_to(m)\n",
    "w1.add_to(m)\n",
    "\n",
    "time = folium.plugins.TimestampedWmsTileLayers(\n",
    "    [w0, w1],\n",
    "    period='PT1H',\n",
    "    time_interval=time_interval\n",
    ")\n",
    "\n",
    "time.add_to(m)\n",
    "\n",
    "folium.LayerControl().add_to(m)\n",
    "\n",
    "m"
   ]
  }
 ],
 "metadata": {
  "kernelspec": {
   "display_name": "Python 3",
   "language": "python",
   "name": "python3"
  },
  "language_info": {
   "codemirror_mode": {
    "name": "ipython",
    "version": 3
   },
   "file_extension": ".py",
   "mimetype": "text/x-python",
   "name": "python",
   "nbconvert_exporter": "python",
   "pygments_lexer": "ipython3",
   "version": "3.7.6"
  }
 },
 "nbformat": 4,
 "nbformat_minor": 2
}
