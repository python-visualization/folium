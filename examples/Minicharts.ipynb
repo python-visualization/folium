{
 "cells": [
  {
   "cell_type": "code",
   "execution_count": null,
   "metadata": {},
   "outputs": [],
   "source": [
    "import os\n",
    "import ast\n",
    "\n",
    "import pandas\n",
    "\n",
    "\n",
    "data = pandas.read_csv(\n",
    "    \"data\" + os.path.sep + \"consonants_vowels.csv\",\n",
    "    # To ensure that tuples are read as tuples\n",
    "    converters={\"coordinates\": ast.literal_eval},\n",
    ")\n",
    "\n",
    "data.head()"
   ]
  },
  {
   "cell_type": "markdown",
   "metadata": {},
   "source": [
    "## Charts"
   ]
  },
  {
   "cell_type": "code",
   "execution_count": null,
   "metadata": {},
   "outputs": [],
   "source": [
    "import io\n",
    "\n",
    "import matplotlib.pyplot as plt\n",
    "\n",
    "pie_charts_data = zip(data.consonants, data.vowels)\n",
    "\n",
    "fig = plt.figure(figsize=(0.5, 0.5))\n",
    "fig.patch.set_alpha(0)\n",
    "ax = fig.add_subplot(111)\n",
    "plots = []\n",
    "for sizes in pie_charts_data:\n",
    "    ax.pie(sizes, colors=(\"#e6194b\", \"#19e6b4\"))\n",
    "    buff = io.StringIO()\n",
    "    plt.savefig(buff, format=\"SVG\")\n",
    "    buff.seek(0)\n",
    "    svg = buff.read()\n",
    "    svg = svg.replace(\"\\n\", \"\")\n",
    "    plots.append(svg)\n",
    "    plt.cla()\n",
    "plt.clf()\n",
    "plt.close()"
   ]
  },
  {
   "cell_type": "markdown",
   "metadata": {},
   "source": [
    "## Legend"
   ]
  },
  {
   "cell_type": "code",
   "execution_count": null,
   "metadata": {},
   "outputs": [],
   "source": [
    "import branca\n",
    "\n",
    "legend_html = \"\"\"\n",
    "{% macro html(this, kwargs) %}\n",
    "<div style=\"\n",
    "    position: fixed;\n",
    "    bottom: 50px;\n",
    "    left: 50px;\n",
    "    width: 250px;\n",
    "    height: 80px;\n",
    "    z-index:9999;\n",
    "    font-size:14px;\n",
    "    \">\n",
    "    <p><a style=\"color:#e6194b;font-size:150%;margin-left:20px;\">◼</a>&emsp;Consonants</p>\n",
    "    <p><a style=\"color:#19e6b4;font-size:150%;margin-left:20px;\">◼</a>&emsp;Vowels</p>\n",
    "</div>\n",
    "<div style=\"\n",
    "    position: fixed;\n",
    "    bottom: 50px;\n",
    "    left: 50px;\n",
    "    width: 150px;\n",
    "    height: 80px;\n",
    "    z-index:9998;\n",
    "    font-size:14px;\n",
    "    background-color: #ffffff;\n",
    "    filter: blur(8px);\n",
    "    -webkit-filter: blur(8px);\n",
    "    opacity: 0.7;\n",
    "    \">\n",
    "</div>\n",
    "{% endmacro %}\n",
    "\"\"\"\n",
    "\n",
    "legend = branca.element.MacroElement()\n",
    "legend._template = branca.element.Template(legend_html)"
   ]
  },
  {
   "cell_type": "markdown",
   "metadata": {},
   "source": [
    "## Map"
   ]
  },
  {
   "cell_type": "code",
   "execution_count": null,
   "metadata": {},
   "outputs": [],
   "source": [
    "import folium\n",
    "\n",
    "\n",
    "m = folium.Map(location=(0, 0), zoom_start=2)\n",
    "\n",
    "for i, coord in enumerate(data.coordinates):\n",
    "    marker = folium.Marker(coord)\n",
    "    icon = folium.DivIcon(html=plots[i])\n",
    "    marker.add_child(icon)\n",
    "    popup = folium.Popup(\n",
    "        \"Consonants: {}<br>\\nVowels: {}\".format(data.consonants[i], data.vowels[i])\n",
    "    )\n",
    "    marker.add_child(popup)\n",
    "    m.add_child(marker)\n",
    "m.get_root().add_child(legend)\n",
    "m"
   ]
  }
 ],
 "metadata": {
  "kernelspec": {
   "display_name": "Python 3 (ipykernel)",
   "language": "python",
   "name": "python3"
  },
  "language_info": {
   "codemirror_mode": {
    "name": "ipython",
    "version": 3
   },
   "file_extension": ".py",
   "mimetype": "text/x-python",
   "name": "python",
   "nbconvert_exporter": "python",
   "pygments_lexer": "ipython3",
   "version": "3.10.1"
  }
 },
 "nbformat": 4,
 "nbformat_minor": 2
}
