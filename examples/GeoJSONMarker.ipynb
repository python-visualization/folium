{
 "cells": [
  {
   "cell_type": "markdown",
   "metadata": {},
   "source": [
    "# Using GeoJSON Point Features with Markers"
   ]
  },
  {
   "cell_type": "code",
   "execution_count": null,
   "metadata": {},
   "outputs": [],
   "source": [
    "import os\n",
    "import folium\n",
    "import geopandas as gpd"
   ]
  },
  {
   "cell_type": "code",
   "execution_count": null,
   "metadata": {},
   "outputs": [],
   "source": [
    "rootpath = os.path.abspath(os.getcwd())"
   ]
  },
  {
   "cell_type": "code",
   "execution_count": null,
   "metadata": {},
   "outputs": [],
   "source": [
    "gdf = gpd.read_file(os.path.join(rootpath, \"data\", \"subwaystations.geojson\"))"
   ]
  },
  {
   "cell_type": "code",
   "execution_count": null,
   "metadata": {},
   "outputs": [],
   "source": [
    "gdf.head()"
   ]
  },
  {
   "cell_type": "code",
   "execution_count": null,
   "metadata": {},
   "outputs": [],
   "source": [
    "gdf['href'] = '<a href=\"' + gdf.url + '\">' + gdf.url + \"</a>\"\n",
    "gdf['service_level'] = gdf.notes.str.split(', ').apply(lambda x: len([v for v in x if \"all\" in v]))\n",
    "gdf['lines_served'] = gdf.line.str.split('-').apply(lambda x: len(x))"
   ]
  },
  {
   "cell_type": "code",
   "execution_count": null,
   "metadata": {},
   "outputs": [],
   "source": [
    "service_levels = gdf.service_level.unique().tolist()\n",
    "service_levels"
   ]
  },
  {
   "cell_type": "code",
   "execution_count": null,
   "metadata": {},
   "outputs": [],
   "source": [
    "colors = [\"orange\", \"yellow\", \"green\", \"blue\"]"
   ]
  },
  {
   "cell_type": "markdown",
   "metadata": {},
   "source": [
    "# Use a Circle as a Marker"
   ]
  },
  {
   "cell_type": "code",
   "execution_count": null,
   "metadata": {},
   "outputs": [],
   "source": [
    "m = folium.Map(\n",
    "    location=[40.75, -73.95],\n",
    "    zoom_start=13)\n",
    "\n",
    "folium.GeoJson(\n",
    "    gdf,\n",
    "    name=\"Subway Stations\",\n",
    "    marker=folium.Circle(radius=4, fill_color=\"orange\", fill_opacity=0.4, color=\"black\", weight=1),\n",
    "    tooltip=folium.GeoJsonTooltip(fields=[\"name\", \"line\", \"notes\"]),\n",
    "    zoom_on_click=True,\n",
    "    popup=folium.GeoJsonPopup(fields=[\"name\", \"line\", \"href\", \"notes\"]),\n",
    "    style_function=lambda x: {\n",
    "        \"markerColor\": \"yellow\",\n",
    "        \"fillColor\": colors[x['properties']['service_level']],\n",
    "        \"radius\": (x['properties']['lines_served'])*30},\n",
    "    highlight_function=lambda x: {\"fillOpacity\": 0.8}).add_to(m)\n",
    "\n",
    "m"
   ]
  },
  {
   "cell_type": "markdown",
   "metadata": {},
   "source": [
    "## Or use a DivIcon"
   ]
  },
  {
   "cell_type": "code",
   "execution_count": null,
   "metadata": {},
   "outputs": [],
   "source": [
    "m = folium.Map(location=[40.75, -73.95], zoom_start=13)\n",
    "\n",
    "\n",
    "def style_function(feature):\n",
    "    props = feature.get('properties')\n",
    "    markup = f\"\"\"\n",
    "        <a href=\"{props.get('url')}\">\n",
    "            <div style=\"font-size: 0.8em;\">\n",
    "            <div style=\"width: 10px;\n",
    "                        height: 10px;\n",
    "                        border: 1px solid black;\n",
    "                        border-radius: 5px;\n",
    "                        background-color: orange;\">\n",
    "            </div>\n",
    "            {props.get('name')}\n",
    "        </div>\n",
    "        </a>\n",
    "    \"\"\"\n",
    "    return {\"html\": markup}\n",
    "\n",
    "\n",
    "folium.GeoJson(\n",
    "    gdf,\n",
    "    name=\"Subway Stations\",\n",
    "    marker=folium.Marker(icon=folium.DivIcon()),\n",
    "    tooltip=folium.GeoJsonTooltip(fields=[\"name\", \"line\", \"notes\"]),\n",
    "    zoom_on_click=True,\n",
    "    popup=folium.GeoJsonPopup(fields=[\"name\", \"line\", \"href\", \"notes\"]),\n",
    "    style_function=style_function).add_to(m)\n",
    "\n",
    "m"
   ]
  }
 ],
 "metadata": {
  "kernelspec": {
   "display_name": "Python 3",
   "language": "python",
   "name": "python3"
  },
  "language_info": {
   "codemirror_mode": {
    "name": "ipython",
    "version": 3
   },
   "file_extension": ".py",
   "mimetype": "text/x-python",
   "name": "python",
   "nbconvert_exporter": "python",
   "pygments_lexer": "ipython3",
   "version": "3.8.6"
  }
 },
 "nbformat": 4,
 "nbformat_minor": 4
}
