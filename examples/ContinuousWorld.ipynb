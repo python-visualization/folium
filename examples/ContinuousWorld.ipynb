{
 "cells": [
  {
   "cell_type": "code",
   "execution_count": null,
   "metadata": {},
   "outputs": [],
   "source": [
    "import os\n",
    "\n",
    "import folium\n",
    "\n",
    "print(folium.__version__)"
   ]
  },
  {
   "cell_type": "markdown",
   "metadata": {},
   "source": [
    "## Defaults"
   ]
  },
  {
   "cell_type": "code",
   "execution_count": null,
   "metadata": {},
   "outputs": [],
   "source": [
    "m = folium.Map(world_copy_jump=False, no_wrap=False)\n",
    "\n",
    "folium.Marker(\n",
    "    location=[0, 0], popup=\"I will disapear when moved outside the wrapped map domain.\"\n",
    ").add_to(m)\n",
    "\n",
    "m.save(os.path.join(\"results\", \"ContinuousWorld_0.html\"))\n",
    "\n",
    "m"
   ]
  },
  {
   "cell_type": "markdown",
   "metadata": {},
   "source": [
    "## World copy jump"
   ]
  },
  {
   "cell_type": "code",
   "execution_count": null,
   "metadata": {},
   "outputs": [],
   "source": [
    "m = folium.Map(world_copy_jump=True, no_wrap=False)\n",
    "\n",
    "folium.Marker(\n",
    "    location=[0, 0],\n",
    "    popup=\"I will magically reappear when moved outside the wrapped map domain.\",\n",
    ").add_to(m)\n",
    "\n",
    "m.save(os.path.join(\"results\", \"ContinuousWorld_1.html\"))\n",
    "\n",
    "m"
   ]
  },
  {
   "cell_type": "markdown",
   "metadata": {},
   "source": [
    "## No wrap"
   ]
  },
  {
   "cell_type": "code",
   "execution_count": null,
   "metadata": {},
   "outputs": [],
   "source": [
    "m = folium.Map(\n",
    "    world_copy_jump=False,\n",
    "    no_wrap=True,\n",
    ")\n",
    "\n",
    "folium.Marker(location=[0, 0], popup=\"The map domain here is not wrapped!\").add_to(m)\n",
    "\n",
    "m.save(os.path.join(\"results\", \"ContinuousWorld_3.html\"))\n",
    "\n",
    "m"
   ]
  }
 ],
 "metadata": {
  "kernelspec": {
   "display_name": "Python 3",
   "language": "python",
   "name": "python3"
  },
  "language_info": {
   "codemirror_mode": {
    "name": "ipython",
    "version": 3
   },
   "file_extension": ".py",
   "mimetype": "text/x-python",
   "name": "python",
   "nbconvert_exporter": "python",
   "pygments_lexer": "ipython3",
   "version": "3.9.0"
  }
 },
 "nbformat": 4,
 "nbformat_minor": 1
}
