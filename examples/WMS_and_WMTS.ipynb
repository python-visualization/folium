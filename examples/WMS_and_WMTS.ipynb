{
 "cells": [
  {
   "cell_type": "code",
   "execution_count": 1,
   "metadata": {},
   "outputs": [
    {
     "name": "stdout",
     "output_type": "stream",
     "text": [
      "0.5.0+27.g2d457b0.dirty\n"
     ]
    }
   ],
   "source": [
    "import os\n",
    "import folium\n",
    "\n",
    "print(folium.__version__)"
   ]
  },
  {
   "cell_type": "code",
   "execution_count": 2,
   "metadata": {},
   "outputs": [
    {
     "data": {
      "text/html": [
       "<div style=\"width:100%;\"><div style=\"position:relative;width:100%;height:0;padding-bottom:60%;\"><iframe src=\"data:text/html;charset=utf-8;base64,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\" style=\"position:absolute;width:100%;height:100%;left:0;top:0;border:none !important;\" allowfullscreen webkitallowfullscreen mozallowfullscreen></iframe></div></div>"
      ],
      "text/plain": [
       "<folium.folium.Map at 0x7f5c615500f0>"
      ]
     },
     "execution_count": 2,
     "metadata": {},
     "output_type": "execute_result"
    }
   ],
   "source": [
    "m = folium.Map(location=[41, -70], zoom_start=5, tiles=None)\n",
    "\n",
    "\n",
    "folium.raster_layers.TileLayer(\n",
    "    tiles='http://{s}.google.com/vt/lyrs=s&x={x}&y={y}&z={z}',\n",
    "    attr='google',\n",
    "    name='google maps',\n",
    "    max_zoom=20,\n",
    "    subdomains=['mt0', 'mt1', 'mt2', 'mt3'],\n",
    "    overlay=False,\n",
    "    control=True,\n",
    ").add_to(m)\n",
    "\n",
    "folium.raster_layers.TileLayer(\n",
    "    tiles='http://{s}.google.com/vt/lyrs=m&x={x}&y={y}&z={z}',\n",
    "    attr='google',\n",
    "    name='google street view',\n",
    "    max_zoom=20,\n",
    "    subdomains=['mt0', 'mt1', 'mt2', 'mt3'],\n",
    "    overlay=False,\n",
    "    control=True,\n",
    ").add_to(m)\n",
    "\n",
    "\n",
    "folium.raster_layers.WmsTileLayer(\n",
    "    url='https://demo.boundlessgeo.com/geoserver/ows?',\n",
    "    layers='nasa:bluemarble',\n",
    "    name='bluemarble',\n",
    "    fmt='image/png',\n",
    "    overlay=False,\n",
    "    control=True,\n",
    ").add_to(m)\n",
    "\n",
    "\n",
    "folium.raster_layers.WmsTileLayer(\n",
    "    url='http://mesonet.agron.iastate.edu/cgi-bin/wms/nexrad/n0r.cgi',\n",
    "    name='test',\n",
    "    fmt='image/png',\n",
    "    layers='nexrad-n0r-900913',\n",
    "    attr=u'Weather data © 2012 IEM Nexrad',\n",
    "    transparent=True,\n",
    "    overlay=True,\n",
    "    control=True,\n",
    ").add_to(m)\n",
    "\n",
    "folium.LayerControl().add_to(m)\n",
    "\n",
    "m.save(os.path.join('results', 'WMS_and_WMTS.html'))\n",
    "\n",
    "m"
   ]
  }
 ],
 "metadata": {
  "kernelspec": {
   "display_name": "Python 3",
   "language": "python",
   "name": "python3"
  },
  "language_info": {
   "codemirror_mode": {
    "name": "ipython",
    "version": 3
   },
   "file_extension": ".py",
   "mimetype": "text/x-python",
   "name": "python",
   "nbconvert_exporter": "python",
   "pygments_lexer": "ipython3",
   "version": "3.6.2"
  }
 },
 "nbformat": 4,
 "nbformat_minor": 1
}
